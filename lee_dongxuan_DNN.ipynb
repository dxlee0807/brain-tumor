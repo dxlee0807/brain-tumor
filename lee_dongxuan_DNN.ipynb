{
 "cells": [
  {
   "cell_type": "code",
   "execution_count": 1,
   "metadata": {
    "tags": []
   },
   "outputs": [],
   "source": [
    "import pandas as pd\n",
    "import os, re\n",
    "import numpy as np\n",
    "import cv2\n",
    "import matplotlib.pyplot as plt\n",
    "import seaborn as sns\n",
    "\n",
    "import os \n",
    "os.environ[\"TF_ENABLE_ONEDNN_OPTS\"] = \"0\"\n",
    "\n",
    "# sns.set_theme(style = \"dark\", \n",
    "#         color_codes = True,\n",
    "#         font_scale = 1.5)"
   ]
  },
  {
   "cell_type": "code",
   "execution_count": 2,
   "metadata": {
    "tags": []
   },
   "outputs": [],
   "source": [
    "def load_image_csvs(path=\"image_csv\"):\n",
    "    train_folder=os.path.join(os.getcwd(),path,\"train\")\n",
    "    test_folder=os.path.join(os.getcwd(),path,\"test\")\n",
    "    \n",
    "    X_train, X_test, Y_train, Y_test = [],[],[],[]\n",
    "    \n",
    "    # loading images from train folder to X_train and label to y_train\n",
    "    train_count = 0\n",
    "    for image_fname in os.listdir(train_folder):\n",
    "        image_re = re.match(r'([0-9]+)_([0-9]+)\\.csv',image_fname)\n",
    "        \n",
    "        # process preprocessed image into normalised flattened numpy array\n",
    "        image = np.loadtxt(os.path.join(train_folder,image_fname),delimiter=',',dtype=np.float32)\n",
    "        assert image.shape == (240,240)\n",
    "        image = image.reshape(240*240)\n",
    "        image = image.astype('float32')\n",
    "        image /= 255\n",
    "        image = np.asarray(image).astype('float32')\n",
    "        \n",
    "        label = image_re.group(2)\n",
    "        \n",
    "        X_train.append(image)\n",
    "        Y_train.append(label)\n",
    "        train_count+=1\n",
    "        if train_count % 1000==0:\n",
    "            print(train_count)\n",
    "    print(\"Loaded train folder\")\n",
    "    \n",
    "    # loading images from test folder to X_test and label to y_test\n",
    "    test_count = 0\n",
    "    for image_fname in os.listdir(test_folder):\n",
    "        image_re = re.match(r'([0-9]+)_([0-9]+)\\.csv',image_fname)\n",
    "        \n",
    "        # process preprocessed image into normalised flattened numpy array\n",
    "        image = np.loadtxt(os.path.join(test_folder,image_fname),delimiter=',',dtype=np.float32)\n",
    "        assert image.shape == (240,240)\n",
    "        image = image.reshape(240*240)\n",
    "        image = image.astype('float32')\n",
    "        image /= 255\n",
    "        image = np.asarray(image).astype('float32')\n",
    "        \n",
    "        label = image_re.group(2)\n",
    "        \n",
    "        X_test.append(image)\n",
    "        Y_test.append(label)\n",
    "        test_count+=1\n",
    "        if test_count % 1000==0:\n",
    "            print(test_count)\n",
    "    print(\"Loaded test folder\")\n",
    "    \n",
    "    return np.array(X_train), np.array(X_test), np.array(Y_train), np.array(Y_test)"
   ]
  },
  {
   "cell_type": "code",
   "execution_count": 3,
   "metadata": {
    "tags": []
   },
   "outputs": [
    {
     "name": "stdout",
     "output_type": "stream",
     "text": [
      "1000\n",
      "2000\n",
      "3000\n",
      "4000\n",
      "5000\n",
      "6000\n",
      "7000\n",
      "8000\n",
      "9000\n",
      "10000\n",
      "Loaded train folder\n",
      "1000\n",
      "Loaded test folder\n"
     ]
    }
   ],
   "source": [
    "X_train, X_test, Y_train, Y_test = load_image_csvs()"
   ]
  },
  {
   "cell_type": "code",
   "execution_count": 4,
   "metadata": {
    "tags": []
   },
   "outputs": [
    {
     "name": "stdout",
     "output_type": "stream",
     "text": [
      "[[0.00784314 0.01176471 0.00784314 ... 0.00784314 0.00784314 0.00784314]\n",
      " [0.03137255 0.03137255 0.03137255 ... 0.02745098 0.02745098 0.02745098]\n",
      " [0.         0.         0.         ... 0.00392157 0.00392157 0.00392157]\n",
      " ...\n",
      " [0.         0.         0.         ... 0.         0.         0.        ]\n",
      " [0.         0.         0.         ... 0.         0.         0.        ]\n",
      " [0.00392157 0.00392157 0.00392157 ... 0.         0.         0.        ]]\n",
      "(10618, 57600)\n"
     ]
    }
   ],
   "source": [
    "print(X_train)\n",
    "print(np.shape(X_train))"
   ]
  },
  {
   "cell_type": "code",
   "execution_count": 5,
   "metadata": {
    "tags": []
   },
   "outputs": [
    {
     "name": "stdout",
     "output_type": "stream",
     "text": [
      "[[0.01176471 0.01176471 0.01176471 ... 0.01568628 0.01568628 0.01568628]\n",
      " [0.00392157 0.00392157 0.00392157 ... 0.00392157 0.00392157 0.00392157]\n",
      " [0.00392157 0.00392157 0.00392157 ... 0.         0.         0.        ]\n",
      " ...\n",
      " [0.         0.         0.         ... 0.         0.         0.        ]\n",
      " [0.00392157 0.00392157 0.00392157 ... 0.01568628 0.01568628 0.01176471]\n",
      " [0.         0.         0.         ... 0.01176471 0.01176471 0.01176471]]\n",
      "(1405, 57600)\n"
     ]
    }
   ],
   "source": [
    "print(X_test)\n",
    "print(np.shape(X_test))"
   ]
  },
  {
   "cell_type": "code",
   "execution_count": 6,
   "metadata": {
    "tags": []
   },
   "outputs": [
    {
     "name": "stdout",
     "output_type": "stream",
     "text": [
      "['3' '2' '3' ... '1' '2' '0']\n",
      "(10618,)\n"
     ]
    }
   ],
   "source": [
    "print(Y_train)\n",
    "print(np.shape(Y_train))"
   ]
  },
  {
   "cell_type": "code",
   "execution_count": 7,
   "metadata": {
    "tags": []
   },
   "outputs": [
    {
     "name": "stdout",
     "output_type": "stream",
     "text": [
      "['2' '0' '3' ... '0' '3' '3']\n",
      "(1405,)\n"
     ]
    }
   ],
   "source": [
    "print(Y_test)\n",
    "print(np.shape(Y_test))"
   ]
  },
  {
   "cell_type": "code",
   "execution_count": 8,
   "metadata": {
    "tags": []
   },
   "outputs": [
    {
     "name": "stderr",
     "output_type": "stream",
     "text": [
      "2024-06-25 04:26:20.785744: E external/local_xla/xla/stream_executor/cuda/cuda_dnn.cc:9261] Unable to register cuDNN factory: Attempting to register factory for plugin cuDNN when one has already been registered\n",
      "2024-06-25 04:26:20.785844: E external/local_xla/xla/stream_executor/cuda/cuda_fft.cc:607] Unable to register cuFFT factory: Attempting to register factory for plugin cuFFT when one has already been registered\n",
      "2024-06-25 04:26:20.939888: E external/local_xla/xla/stream_executor/cuda/cuda_blas.cc:1515] Unable to register cuBLAS factory: Attempting to register factory for plugin cuBLAS when one has already been registered\n",
      "2024-06-25 04:26:21.300352: I tensorflow/core/platform/cpu_feature_guard.cc:182] This TensorFlow binary is optimized to use available CPU instructions in performance-critical operations.\n",
      "To enable the following instructions: AVX2 AVX512F AVX512_VNNI FMA, in other operations, rebuild TensorFlow with the appropriate compiler flags.\n"
     ]
    },
    {
     "name": "stdout",
     "output_type": "stream",
     "text": [
      "Shape before one-hot encoding :  (10618,)\n",
      "Shape after one-hot encoding :  (10618, 4)\n"
     ]
    }
   ],
   "source": [
    "from keras.utils import to_categorical\n",
    "\n",
    "print(\"Shape before one-hot encoding : \",Y_train.shape)\n",
    "Y_train = to_categorical(Y_train)\n",
    "Y_test = to_categorical(Y_test)\n",
    "print(\"Shape after one-hot encoding : \",Y_train.shape)"
   ]
  },
  {
   "cell_type": "code",
   "execution_count": 9,
   "metadata": {
    "tags": []
   },
   "outputs": [
    {
     "data": {
      "text/plain": [
       "array([[0., 0., 0., 1.],\n",
       "       [0., 0., 1., 0.],\n",
       "       [0., 0., 0., 1.],\n",
       "       ...,\n",
       "       [0., 1., 0., 0.],\n",
       "       [0., 0., 1., 0.],\n",
       "       [1., 0., 0., 0.]], dtype=float32)"
      ]
     },
     "execution_count": 9,
     "metadata": {},
     "output_type": "execute_result"
    }
   ],
   "source": [
    "Y_train"
   ]
  },
  {
   "cell_type": "code",
   "execution_count": 10,
   "metadata": {
    "tags": []
   },
   "outputs": [
    {
     "data": {
      "text/plain": [
       "array([[0., 0., 1., 0.],\n",
       "       [1., 0., 0., 0.],\n",
       "       [0., 0., 0., 1.],\n",
       "       ...,\n",
       "       [1., 0., 0., 0.],\n",
       "       [0., 0., 0., 1.],\n",
       "       [0., 0., 0., 1.]], dtype=float32)"
      ]
     },
     "execution_count": 10,
     "metadata": {},
     "output_type": "execute_result"
    }
   ],
   "source": [
    "Y_test"
   ]
  },
  {
   "cell_type": "code",
   "execution_count": 11,
   "metadata": {
    "tags": []
   },
   "outputs": [],
   "source": [
    "# keras imports for the dataset and building our neural network\n",
    "from keras.models import Sequential\n",
    "from keras.layers import Dense, Dropout\n",
    "\n",
    "\n",
    "L1=200\n",
    "L2=100\n",
    "L3=50\n",
    "model = Sequential()\n",
    "model.add(Dense(L1,input_dim=57600,activation='relu'))\n",
    "model.add(Dense(L2,activation='relu'))\n",
    "model.add(Dense(L3,activation='relu'))\n",
    "# output layer (softmax = multinomial)\n",
    "model.add(Dense(4,activation='softmax'))"
   ]
  },
  {
   "cell_type": "code",
   "execution_count": 12,
   "metadata": {
    "tags": []
   },
   "outputs": [],
   "source": [
    "model.compile(loss='categorical_crossentropy',metrics=['accuracy'],optimizer='adam')"
   ]
  },
  {
   "cell_type": "code",
   "execution_count": 13,
   "metadata": {
    "tags": []
   },
   "outputs": [
    {
     "name": "stdout",
     "output_type": "stream",
     "text": [
      "Epoch 1/15\n",
      "332/332 [==============================] - 18s 51ms/step - loss: 1.3029 - accuracy: 0.3965 - val_loss: 1.0332 - val_accuracy: 0.6085\n",
      "Epoch 2/15\n",
      "332/332 [==============================] - 16s 49ms/step - loss: 1.1738 - accuracy: 0.4709 - val_loss: 1.0674 - val_accuracy: 0.5601\n",
      "Epoch 3/15\n",
      "332/332 [==============================] - 16s 49ms/step - loss: 1.1074 - accuracy: 0.5049 - val_loss: 0.8457 - val_accuracy: 0.6690\n",
      "Epoch 4/15\n",
      "332/332 [==============================] - 16s 49ms/step - loss: 1.0487 - accuracy: 0.5420 - val_loss: 0.8934 - val_accuracy: 0.6320\n",
      "Epoch 5/15\n",
      "332/332 [==============================] - 17s 50ms/step - loss: 0.9724 - accuracy: 0.5764 - val_loss: 0.8353 - val_accuracy: 0.6612\n",
      "Epoch 6/15\n",
      "332/332 [==============================] - 17s 50ms/step - loss: 0.9463 - accuracy: 0.5862 - val_loss: 0.8273 - val_accuracy: 0.6569\n"
     ]
    }
   ],
   "source": [
    "from keras.callbacks import EarlyStopping\n",
    "\n",
    "callback = EarlyStopping(monitor='val_accuracy',patience=3)\n",
    "history = model.fit(X_train,Y_train,epochs=15,batch_size=32,validation_data=(X_test,Y_test),callbacks=[callback])"
   ]
  },
  {
   "cell_type": "code",
   "execution_count": 14,
   "metadata": {},
   "outputs": [],
   "source": [
    "def plot_history(history):\n",
    "    import matplotlib.pyplot as plt\n",
    " \n",
    "    acc2 = history.history['accuracy']\n",
    "    val_acc = history.history['val_accuracy']\n",
    "    loss2 = history.history['loss']\n",
    "    val_loss = history.history['val_loss']\n",
    "\n",
    "    epochs = range(1,len(acc2)+1)\n",
    "\n",
    "    # Creating subplots\n",
    "    fig, axes = plt.subplots(nrows=1, ncols=2, figsize=(7,3))\n",
    "\n",
    "    axes[0].plot(epochs, acc2,'b',label='Train Accuracy')\n",
    "    axes[0].plot(epochs, val_acc,'r',label='Test Accuracy')\n",
    "    axes[0].set_xlabel('Epoch')\n",
    "    axes[0].set_ylabel('Accuracy')\n",
    "    axes[0].legend()\n",
    "\n",
    "    axes[1].plot(epochs, loss2,'b',label='Train Loss')\n",
    "    axes[1].plot(epochs, val_loss,'r',label='Test Loss')\n",
    "    axes[1].set_xlabel('Epoch')\n",
    "    axes[1].set_ylabel('Loss')\n",
    "    axes[1].legend()\n",
    "\n",
    "    # Adjusting layout for better spacing\n",
    "    plt.tight_layout()\n",
    "\n",
    "    # Display the figure\n",
    "    plt.show()"
   ]
  },
  {
   "cell_type": "code",
   "execution_count": 15,
   "metadata": {
    "tags": []
   },
   "outputs": [
    {
     "data": {
      "image/png": "[encoded data removed]",
      "text/plain": [
       "<Figure size 700x300 with 2 Axes>"
      ]
     },
     "metadata": {},
     "output_type": "display_data"
    }
   ],
   "source": [
    "plot_history(history)"
   ]
  },
  {
   "cell_type": "code",
   "execution_count": 16,
   "metadata": {
    "tags": []
   },
   "outputs": [
    {
     "name": "stdout",
     "output_type": "stream",
     "text": [
      "44/44 [==============================] - 0s 7ms/step\n"
     ]
    },
    {
     "data": {
      "text/plain": [
       "array([2, 0, 1, ..., 0, 3, 3])"
      ]
     },
     "execution_count": 16,
     "metadata": {},
     "output_type": "execute_result"
    }
   ],
   "source": [
    "import numpy as np\n",
    "Y_pred = model.predict(X_test)\n",
    "Y_pred = np.argmax(Y_pred,axis=1)\n",
    "Y_test_arg = np.argmax(Y_test,axis=1)\n",
    "Y_pred"
   ]
  },
  {
   "cell_type": "code",
   "execution_count": 17,
   "metadata": {
    "tags": []
   },
   "outputs": [
    {
     "name": "stdout",
     "output_type": "stream",
     "text": [
      "              precision    recall  f1-score   support\n",
      "\n",
      "      glioma       0.45      0.89      0.60       309\n",
      "  meningioma       0.68      0.41      0.51       335\n",
      "     notumor       0.84      0.88      0.86       399\n",
      "   pituitary       0.88      0.43      0.58       362\n",
      "\n",
      "    accuracy                           0.66      1405\n",
      "   macro avg       0.72      0.66      0.64      1405\n",
      "weighted avg       0.73      0.66      0.65      1405\n",
      "\n"
     ]
    }
   ],
   "source": [
    "num_classes = 4\n",
    "from sklearn.metrics import classification_report\n",
    "target_dicts = {0: 'glioma', 1: 'meningioma', 2: 'notumor', 3: 'pituitary'}\n",
    "target_names = target_dicts.values()\n",
    "print(classification_report(Y_test_arg,Y_pred,target_names=target_names))"
   ]
  },
  {
   "cell_type": "code",
   "execution_count": 18,
   "metadata": {
    "tags": []
   },
   "outputs": [],
   "source": [
    "# tuning\n",
    "\n",
    "from keras.models import Sequential\n",
    "from keras.layers import Dense\n",
    "from keras.optimizers import Adam\n",
    "\n",
    "def build_model(hp):\n",
    "    model = Sequential()\n",
    "    model.add(Dense(\n",
    "        hp.Int(\"L1_units\", min_value=200, max_value=400+1, step=50),\n",
    "        input_dim=57600,\n",
    "        activation='relu'\n",
    "    ))\n",
    "    model.add(\n",
    "        Dense(\n",
    "            # Define the hyperparameter.\n",
    "            units=hp.Int(\"L2_units\", min_value=150, max_value=300+1, step=25),\n",
    "            activation='relu'\n",
    "        )\n",
    "    )\n",
    "    model.add(\n",
    "        Dense(\n",
    "            # Define the hyperparameter.\n",
    "            units=hp.Int(\"L3_units\", min_value=100, max_value=200+1, step=25),\n",
    "            activation='relu'\n",
    "        )\n",
    "    )\n",
    "    model.add(Dense(4,activation='softmax'))\n",
    "    learning_rate = hp.Float(\"learning_rate\", min_value=1e-4, max_value=1e-2, sampling=\"log\")\n",
    "    model.compile(\n",
    "        optimizer=Adam(learning_rate=learning_rate),\n",
    "        loss=\"mean_squared_error\",\n",
    "        metrics=[\"accuracy\"],\n",
    "    )\n",
    "    return model"
   ]
  },
  {
   "cell_type": "code",
   "execution_count": 19,
   "metadata": {
    "tags": []
   },
   "outputs": [],
   "source": [
    "import keras_tuner\n",
    "\n",
    "tuner = keras_tuner.RandomSearch(\n",
    "    hypermodel=build_model,\n",
    "    objective=\"val_accuracy\",\n",
    "    max_trials=20,\n",
    "    executions_per_trial=2,\n",
    "    overwrite=True,\n",
    "    directory=\"dnn_tune\",\n",
    "    project_name=\"tune_dnn\",\n",
    ")"
   ]
  },
  {
   "cell_type": "code",
   "execution_count": 20,
   "metadata": {
    "tags": []
   },
   "outputs": [
    {
     "name": "stdout",
     "output_type": "stream",
     "text": [
      "Search space summary\n",
      "Default search space size: 4\n",
      "L1_units (Int)\n",
      "{'default': None, 'conditions': [], 'min_value': 200, 'max_value': 401, 'step': 50, 'sampling': 'linear'}\n",
      "L2_units (Int)\n",
      "{'default': None, 'conditions': [], 'min_value': 150, 'max_value': 301, 'step': 25, 'sampling': 'linear'}\n",
      "L3_units (Int)\n",
      "{'default': None, 'conditions': [], 'min_value': 100, 'max_value': 201, 'step': 25, 'sampling': 'linear'}\n",
      "learning_rate (Float)\n",
      "{'default': 0.0001, 'conditions': [], 'min_value': 0.0001, 'max_value': 0.01, 'step': None, 'sampling': 'log'}\n"
     ]
    }
   ],
   "source": [
    "tuner.search_space_summary()"
   ]
  },
  {
   "cell_type": "code",
   "execution_count": 21,
   "metadata": {
    "tags": []
   },
   "outputs": [
    {
     "name": "stdout",
     "output_type": "stream",
     "text": [
      "Trial 20 Complete [00h 03m 15s]\n",
      "val_accuracy: 0.2708185017108917\n",
      "\n",
      "Best val_accuracy So Far: 0.817081868648529\n",
      "Total elapsed time: 01h 57m 19s\n"
     ]
    }
   ],
   "source": [
    "callback = EarlyStopping(monitor='val_accuracy',patience=3)\n",
    "tuner.search(X_train, Y_train, epochs=15,batch_size=32, validation_data=(X_test, Y_test), callbacks=[callback])"
   ]
  },
  {
   "cell_type": "code",
   "execution_count": 22,
   "metadata": {},
   "outputs": [
    {
     "name": "stdout",
     "output_type": "stream",
     "text": [
      "Model: \"sequential\"\n",
      "_________________________________________________________________\n",
      " Layer (type)                Output Shape              Param #   \n",
      "=================================================================\n",
      " dense (Dense)               (None, 300)               17280300  \n",
      "                                                                 \n",
      " dense_1 (Dense)             (None, 225)               67725     \n",
      "                                                                 \n",
      " dense_2 (Dense)             (None, 200)               45200     \n",
      "                                                                 \n",
      " dense_3 (Dense)             (None, 4)                 804       \n",
      "                                                                 \n",
      "=================================================================\n",
      "Total params: 17394029 (66.35 MB)\n",
      "Trainable params: 17394029 (66.35 MB)\n",
      "Non-trainable params: 0 (0.00 Byte)\n",
      "_________________________________________________________________\n"
     ]
    }
   ],
   "source": [
    "models = tuner.get_best_models(num_models=2)\n",
    "best_model = models[0]\n",
    "best_model.summary()"
   ]
  },
  {
   "cell_type": "code",
   "execution_count": 23,
   "metadata": {
    "tags": []
   },
   "outputs": [
    {
     "name": "stdout",
     "output_type": "stream",
     "text": [
      "Results summary\n",
      "Results in dnn_tune/tune_dnn\n",
      "Showing 10 best trials\n",
      "Objective(name=\"val_accuracy\", direction=\"max\")\n",
      "\n",
      "Trial 11 summary\n",
      "Hyperparameters:\n",
      "L1_units: 300\n",
      "L2_units: 225\n",
      "L3_units: 200\n",
      "learning_rate: 0.00030815756150995\n",
      "Score: 0.817081868648529\n",
      "\n",
      "Trial 14 summary\n",
      "Hyperparameters:\n",
      "L1_units: 200\n",
      "L2_units: 175\n",
      "L3_units: 125\n",
      "learning_rate: 0.00029765041890868964\n",
      "Score: 0.8149466216564178\n",
      "\n",
      "Trial 17 summary\n",
      "Hyperparameters:\n",
      "L1_units: 200\n",
      "L2_units: 275\n",
      "L3_units: 125\n",
      "learning_rate: 0.0005421534453265072\n",
      "Score: 0.8124555051326752\n",
      "\n",
      "Trial 06 summary\n",
      "Hyperparameters:\n",
      "L1_units: 400\n",
      "L2_units: 150\n",
      "L3_units: 125\n",
      "learning_rate: 0.00034901756064868733\n",
      "Score: 0.8032028377056122\n",
      "\n",
      "Trial 02 summary\n",
      "Hyperparameters:\n",
      "L1_units: 250\n",
      "L2_units: 150\n",
      "L3_units: 125\n",
      "learning_rate: 0.00013870534917984574\n",
      "Score: 0.7850534021854401\n",
      "\n",
      "Trial 00 summary\n",
      "Hyperparameters:\n",
      "L1_units: 200\n",
      "L2_units: 275\n",
      "L3_units: 150\n",
      "learning_rate: 0.0004980947137951163\n",
      "Score: 0.7754448354244232\n",
      "\n",
      "Trial 05 summary\n",
      "Hyperparameters:\n",
      "L1_units: 200\n",
      "L2_units: 300\n",
      "L3_units: 175\n",
      "learning_rate: 0.000684513248849381\n",
      "Score: 0.7548042833805084\n",
      "\n",
      "Trial 12 summary\n",
      "Hyperparameters:\n",
      "L1_units: 250\n",
      "L2_units: 275\n",
      "L3_units: 100\n",
      "learning_rate: 0.0005490657910722522\n",
      "Score: 0.7451957166194916\n",
      "\n",
      "Trial 01 summary\n",
      "Hyperparameters:\n",
      "L1_units: 350\n",
      "L2_units: 225\n",
      "L3_units: 100\n",
      "learning_rate: 0.006342321047637822\n",
      "Score: 0.28398576378822327\n",
      "\n",
      "Trial 07 summary\n",
      "Hyperparameters:\n",
      "L1_units: 350\n",
      "L2_units: 150\n",
      "L3_units: 100\n",
      "learning_rate: 0.0020912028947978833\n",
      "Score: 0.28398576378822327\n"
     ]
    }
   ],
   "source": [
    "tuner.results_summary()"
   ]
  },
  {
   "cell_type": "code",
   "execution_count": 24,
   "metadata": {},
   "outputs": [
    {
     "name": "stdout",
     "output_type": "stream",
     "text": [
      "Epoch 1/15\n",
      "332/332 [==============================] - 24s 72ms/step - loss: 0.1736 - accuracy: 0.3882 - val_loss: 0.1502 - val_accuracy: 0.6028\n",
      "Epoch 2/15\n",
      "332/332 [==============================] - 24s 72ms/step - loss: 0.1567 - accuracy: 0.4752 - val_loss: 0.1361 - val_accuracy: 0.5658\n",
      "Epoch 3/15\n",
      "332/332 [==============================] - 23s 70ms/step - loss: 0.1479 - accuracy: 0.5115 - val_loss: 0.1185 - val_accuracy: 0.6826\n",
      "Epoch 4/15\n",
      "332/332 [==============================] - 24s 71ms/step - loss: 0.1382 - accuracy: 0.5596 - val_loss: 0.1007 - val_accuracy: 0.7203\n",
      "Epoch 5/15\n",
      "332/332 [==============================] - 23s 71ms/step - loss: 0.1341 - accuracy: 0.5672 - val_loss: 0.0998 - val_accuracy: 0.7189\n",
      "Epoch 6/15\n",
      "332/332 [==============================] - 23s 70ms/step - loss: 0.1254 - accuracy: 0.6028 - val_loss: 0.0916 - val_accuracy: 0.7423\n",
      "Epoch 7/15\n",
      "332/332 [==============================] - 24s 72ms/step - loss: 0.1209 - accuracy: 0.6193 - val_loss: 0.0846 - val_accuracy: 0.7658\n",
      "Epoch 8/15\n",
      "332/332 [==============================] - 23s 71ms/step - loss: 0.1159 - accuracy: 0.6420 - val_loss: 0.0799 - val_accuracy: 0.7893\n",
      "Epoch 9/15\n",
      "332/332 [==============================] - 24s 71ms/step - loss: 0.1118 - accuracy: 0.6594 - val_loss: 0.0799 - val_accuracy: 0.7779\n",
      "Epoch 10/15\n",
      "332/332 [==============================] - 23s 71ms/step - loss: 0.1060 - accuracy: 0.6717 - val_loss: 0.0899 - val_accuracy: 0.7502\n",
      "Epoch 11/15\n",
      "332/332 [==============================] - 23s 70ms/step - loss: 0.1026 - accuracy: 0.6877 - val_loss: 0.0790 - val_accuracy: 0.7843\n"
     ]
    }
   ],
   "source": [
    "# Get the top 2 hyperparameters.\n",
    "best_hps = tuner.get_best_hyperparameters(5)\n",
    "# Build the model with the best hp.\n",
    "best_model = build_model(best_hps[0])\n",
    "# Fit with the entire dataset.\n",
    "callback = EarlyStopping(monitor='val_accuracy',patience=3)\n",
    "tuned_history = best_model.fit(X_train,Y_train,epochs=15,batch_size=32,validation_data=(X_test,Y_test),callbacks=[callback])"
   ]
  },
  {
   "cell_type": "code",
   "execution_count": 25,
   "metadata": {},
   "outputs": [
    {
     "data": {
      "image/png": "[encoded data removed]",
      "text/plain": [
       "<Figure size 700x300 with 2 Axes>"
      ]
     },
     "metadata": {},
     "output_type": "display_data"
    }
   ],
   "source": [
    "plot_history(tuned_history)"
   ]
  },
  {
   "cell_type": "code",
   "execution_count": 26,
   "metadata": {},
   "outputs": [
    {
     "name": "stdout",
     "output_type": "stream",
     "text": [
      "44/44 [==============================] - 0s 9ms/step\n"
     ]
    },
    {
     "data": {
      "text/plain": [
       "array([2, 0, 3, ..., 0, 3, 3])"
      ]
     },
     "execution_count": 26,
     "metadata": {},
     "output_type": "execute_result"
    }
   ],
   "source": [
    "import numpy as np\n",
    "Y_pred = best_model.predict(X_test)\n",
    "Y_pred = np.argmax(Y_pred,axis=1)\n",
    "Y_test_arg = np.argmax(Y_test,axis=1)\n",
    "Y_pred"
   ]
  },
  {
   "cell_type": "code",
   "execution_count": 27,
   "metadata": {
    "tags": []
   },
   "outputs": [
    {
     "name": "stdout",
     "output_type": "stream",
     "text": [
      "              precision    recall  f1-score   support\n",
      "\n",
      "      glioma       0.77      0.75      0.76       309\n",
      "  meningioma       0.71      0.67      0.69       335\n",
      "     notumor       0.77      0.94      0.85       399\n",
      "   pituitary       0.90      0.75      0.82       362\n",
      "\n",
      "    accuracy                           0.78      1405\n",
      "   macro avg       0.79      0.78      0.78      1405\n",
      "weighted avg       0.79      0.78      0.78      1405\n",
      "\n"
     ]
    }
   ],
   "source": [
    "num_classes = 4\n",
    "from sklearn.metrics import classification_report\n",
    "target_dicts = {0: 'glioma', 1: 'meningioma', 2: 'notumor', 3: 'pituitary'}\n",
    "target_names = target_dicts.values()\n",
    "print(classification_report(Y_test_arg,Y_pred,target_names=target_names))"
   ]
  },
  {
   "cell_type": "code",
   "execution_count": null,
   "metadata": {},
   "outputs": [],
   "source": []
  }
 ],
 "metadata": {
  "environment": {
   "kernel": "python3",
   "name": "tf2-gpu.2-15.m121",
   "type": "gcloud",
   "uri": "us-docker.pkg.dev/deeplearning-platform-release/gcr.io/tf2-gpu.2-15:m121"
  },
  "kernelspec": {
   "display_name": "Python 3 (Local)",
   "language": "python",
   "name": "python3"
  },
  "language_info": {
   "codemirror_mode": {
    "name": "ipython",
    "version": 3
   },
   "file_extension": ".py",
   "mimetype": "text/x-python",
   "name": "python",
   "nbconvert_exporter": "python",
   "pygments_lexer": "ipython3",
   "version": "3.10.14"
  }
 },
 "nbformat": 4,
 "nbformat_minor": 4
}
