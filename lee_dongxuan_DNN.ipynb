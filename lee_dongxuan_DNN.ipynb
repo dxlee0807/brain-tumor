{
 "cells": [
  {
   "cell_type": "code",
   "execution_count": 1,
   "metadata": {
    "tags": []
   },
   "outputs": [],
   "source": [
    "import pandas as pd\n",
    "import os, re\n",
    "import numpy as np\n",
    "import cv2\n",
    "import matplotlib.pyplot as plt\n",
    "import seaborn as sns\n",
    "\n",
    "import os \n",
    "os.environ[\"TF_ENABLE_ONEDNN_OPTS\"] = \"0\"\n",
    "\n",
    "# sns.set_theme(style = \"dark\", \n",
    "#         color_codes = True,\n",
    "#         font_scale = 1.5)"
   ]
  },
  {
   "cell_type": "code",
   "execution_count": 2,
   "metadata": {
    "tags": []
   },
   "outputs": [],
   "source": [
    "def load_images(path=\"image_jpg\"):\n",
    "    train_folder=os.path.join(os.getcwd(),'image_jpg',\"train\")\n",
    "    test_folder=os.path.join(os.getcwd(),'image_jpg',\"test\")\n",
    "    \n",
    "    X_train, X_test, Y_train, Y_test = [],[],[],[]\n",
    "    \n",
    "    # loading images from train folder to X_train and label to y_train\n",
    "    train_count = 0\n",
    "    for image_fname in os.listdir(train_folder):\n",
    "        image_re = re.match(r'([0-9]+)_([0-9]+)\\.jpg',image_fname)\n",
    "        \n",
    "        # process preprocessed image into normalised flattened numpy array\n",
    "        image = cv2.imread(os.path.join(train_folder,image_fname))\n",
    "        grey = cv2.cvtColor(image,cv2.COLOR_RGB2GRAY)\n",
    "        # assert grey.shape == (240,240)\n",
    "        flat = grey.reshape(240*240)\n",
    "        flat = flat.astype('float32')\n",
    "        flat /= 255\n",
    "        flat = np.asarray(flat).astype('float32')\n",
    "        \n",
    "        label = image_re.group(2)\n",
    "        \n",
    "        X_train.append(flat)\n",
    "        Y_train.append(label)\n",
    "        train_count+=1\n",
    "        if train_count % 1000==0:\n",
    "            print(train_count)\n",
    "    print(\"Loaded train folder\")\n",
    "    \n",
    "    # loading images from test folder to X_test and label to y_test\n",
    "    test_count=0\n",
    "    for image_fname in os.listdir(test_folder):\n",
    "        image_re = re.match(r'([0-9]+)_([0-9]+)\\.jpg',image_fname)\n",
    "        \n",
    "        # process preprocessed image into normalised flattened numpy array\n",
    "        image = cv2.imread(os.path.join(test_folder,image_fname))\n",
    "        grey = cv2.cvtColor(image,cv2.COLOR_RGB2GRAY)\n",
    "        # assert grey.shape == (240,240)\n",
    "        flat = grey.reshape(240*240)\n",
    "        flat = flat.astype('float32')\n",
    "        flat /= 255\n",
    "        flat = np.asarray(flat).astype('float32')\n",
    "        \n",
    "        label = image_re.group(2)\n",
    "        \n",
    "        X_test.append(flat)\n",
    "        Y_test.append(label)\n",
    "        test_count+=1\n",
    "        if test_count % 1000==0:\n",
    "            print(test_count)\n",
    "    print(\"Loaded test folder\")\n",
    "    return X_train, X_test, Y_train, Y_test"
   ]
  },
  {
   "cell_type": "code",
   "execution_count": 3,
   "metadata": {
    "tags": []
   },
   "outputs": [
    {
     "name": "stdout",
     "output_type": "stream",
     "text": [
      "1000\n",
      "2000\n",
      "3000\n",
      "4000\n",
      "5000\n",
      "6000\n",
      "7000\n",
      "8000\n",
      "9000\n",
      "10000\n",
      "Loaded train folder\n",
      "1000\n",
      "Loaded test folder\n"
     ]
    }
   ],
   "source": [
    "X_train, X_test, Y_train, Y_test = load_images()"
   ]
  },
  {
   "cell_type": "code",
   "execution_count": 4,
   "metadata": {
    "tags": []
   },
   "outputs": [
    {
     "name": "stdout",
     "output_type": "stream",
     "text": [
      "[[0.         0.         0.         ... 0.         0.         0.        ]\n",
      " [0.         0.         0.         ... 0.         0.         0.        ]\n",
      " [0.         0.01568628 0.         ... 0.16470589 0.16470589 0.16862746]\n",
      " ...\n",
      " [0.19607843 0.19607843 0.19607843 ... 0.14901961 0.14509805 0.14117648]\n",
      " [0.         0.         0.         ... 0.         0.         0.        ]\n",
      " [0.         0.         0.         ... 0.         0.         0.        ]]\n",
      "(10618, 57600)\n"
     ]
    }
   ],
   "source": [
    "X_train = np.array(X_train)\n",
    "print(X_train)\n",
    "print(np.shape(X_train))"
   ]
  },
  {
   "cell_type": "code",
   "execution_count": 5,
   "metadata": {
    "tags": []
   },
   "outputs": [
    {
     "name": "stdout",
     "output_type": "stream",
     "text": [
      "[[0.29411766 0.30588236 0.29411766 ... 0.28235295 0.23137255 0.22745098]\n",
      " [0.         0.         0.         ... 0.         0.         0.        ]\n",
      " [0.19607843 0.19215687 0.21568628 ... 0.19607843 0.19607843 0.19607843]\n",
      " ...\n",
      " [0.14901961 0.14901961 0.14509805 ... 0.18431373 0.21960784 0.23529412]\n",
      " [0.14901961 0.14509805 0.14509805 ... 0.28235295 0.2901961  0.3372549 ]\n",
      " [0.2        0.2        0.19215687 ... 0.23529412 0.25882354 0.24313726]]\n",
      "(1405, 57600)\n"
     ]
    }
   ],
   "source": [
    "X_test = np.array(X_test)\n",
    "print(X_test)\n",
    "print(np.shape(X_test))"
   ]
  },
  {
   "cell_type": "code",
   "execution_count": 6,
   "metadata": {
    "tags": []
   },
   "outputs": [
    {
     "name": "stdout",
     "output_type": "stream",
     "text": [
      "['0' '2' '0' ... '0' '1' '1']\n",
      "(10618,)\n"
     ]
    }
   ],
   "source": [
    "Y_train = np.array(Y_train)\n",
    "print(Y_train)\n",
    "print(np.shape(Y_train))"
   ]
  },
  {
   "cell_type": "code",
   "execution_count": 7,
   "metadata": {
    "tags": []
   },
   "outputs": [
    {
     "name": "stdout",
     "output_type": "stream",
     "text": [
      "['1' '2' '1' ... '3' '3' '2']\n",
      "(1405,)\n"
     ]
    }
   ],
   "source": [
    "Y_test = np.array(Y_test)\n",
    "print(Y_test)\n",
    "print(np.shape(Y_test))"
   ]
  },
  {
   "cell_type": "code",
   "execution_count": 8,
   "metadata": {
    "tags": []
   },
   "outputs": [
    {
     "name": "stderr",
     "output_type": "stream",
     "text": [
      "2024-06-07 17:04:33.807868: E external/local_xla/xla/stream_executor/cuda/cuda_dnn.cc:9261] Unable to register cuDNN factory: Attempting to register factory for plugin cuDNN when one has already been registered\n",
      "2024-06-07 17:04:33.807926: E external/local_xla/xla/stream_executor/cuda/cuda_fft.cc:607] Unable to register cuFFT factory: Attempting to register factory for plugin cuFFT when one has already been registered\n",
      "2024-06-07 17:04:33.809264: E external/local_xla/xla/stream_executor/cuda/cuda_blas.cc:1515] Unable to register cuBLAS factory: Attempting to register factory for plugin cuBLAS when one has already been registered\n",
      "2024-06-07 17:04:33.816563: I tensorflow/core/platform/cpu_feature_guard.cc:182] This TensorFlow binary is optimized to use available CPU instructions in performance-critical operations.\n",
      "To enable the following instructions: AVX2 AVX512F AVX512_VNNI FMA, in other operations, rebuild TensorFlow with the appropriate compiler flags.\n"
     ]
    },
    {
     "name": "stdout",
     "output_type": "stream",
     "text": [
      "Shape before one-hot encoding :  (10618,)\n",
      "Shape after one-hot encoding :  (10618, 4)\n"
     ]
    }
   ],
   "source": [
    "from keras.utils import to_categorical\n",
    "\n",
    "print(\"Shape before one-hot encoding : \",Y_train.shape)\n",
    "Y_train = to_categorical(Y_train)\n",
    "Y_test = to_categorical(Y_test)\n",
    "print(\"Shape after one-hot encoding : \",Y_train.shape)"
   ]
  },
  {
   "cell_type": "code",
   "execution_count": 9,
   "metadata": {
    "tags": []
   },
   "outputs": [
    {
     "data": {
      "text/plain": [
       "array([[1., 0., 0., 0.],\n",
       "       [0., 0., 1., 0.],\n",
       "       [1., 0., 0., 0.],\n",
       "       ...,\n",
       "       [1., 0., 0., 0.],\n",
       "       [0., 1., 0., 0.],\n",
       "       [0., 1., 0., 0.]], dtype=float32)"
      ]
     },
     "execution_count": 9,
     "metadata": {},
     "output_type": "execute_result"
    }
   ],
   "source": [
    "Y_train"
   ]
  },
  {
   "cell_type": "code",
   "execution_count": 10,
   "metadata": {
    "tags": []
   },
   "outputs": [
    {
     "data": {
      "text/plain": [
       "array([[0., 1., 0., 0.],\n",
       "       [0., 0., 1., 0.],\n",
       "       [0., 1., 0., 0.],\n",
       "       ...,\n",
       "       [0., 0., 0., 1.],\n",
       "       [0., 0., 0., 1.],\n",
       "       [0., 0., 1., 0.]], dtype=float32)"
      ]
     },
     "execution_count": 10,
     "metadata": {},
     "output_type": "execute_result"
    }
   ],
   "source": [
    "Y_test"
   ]
  },
  {
   "cell_type": "code",
   "execution_count": 11,
   "metadata": {
    "tags": []
   },
   "outputs": [],
   "source": [
    "# keras imports for the dataset and building our neural network\n",
    "from keras.models import Sequential\n",
    "from keras.layers import Dense, Dropout\n",
    "\n",
    "\n",
    "L1=200\n",
    "L2=100\n",
    "L3=50\n",
    "model = Sequential()\n",
    "model.add(Dense(L1,input_dim=57600,activation='relu'))\n",
    "model.add(Dense(L2,activation='relu'))\n",
    "model.add(Dense(L3,activation='relu'))\n",
    "# output layer (softmax = multinomial)\n",
    "model.add(Dense(4,activation='softmax'))"
   ]
  },
  {
   "cell_type": "code",
   "execution_count": 12,
   "metadata": {
    "tags": []
   },
   "outputs": [],
   "source": [
    "model.compile(loss='categorical_crossentropy',metrics=['accuracy'],optimizer='adam')"
   ]
  },
  {
   "cell_type": "code",
   "execution_count": 13,
   "metadata": {
    "tags": []
   },
   "outputs": [
    {
     "name": "stdout",
     "output_type": "stream",
     "text": [
      "Epoch 1/10\n"
     ]
    },
    {
     "name": "stderr",
     "output_type": "stream",
     "text": [
      "2024-06-07 17:04:36.831019: W external/local_tsl/tsl/framework/cpu_allocator_impl.cc:83] Allocation of 2446387200 exceeds 10% of free system memory.\n"
     ]
    },
    {
     "name": "stdout",
     "output_type": "stream",
     "text": [
      "332/332 [==============================] - 30s 89ms/step - loss: 2.6629 - accuracy: 0.3352 - val_loss: 1.3507 - val_accuracy: 0.4292\n",
      "Epoch 2/10\n",
      "332/332 [==============================] - 29s 87ms/step - loss: 1.3780 - accuracy: 0.3986 - val_loss: 1.2795 - val_accuracy: 0.4178\n",
      "Epoch 3/10\n",
      "332/332 [==============================] - 30s 89ms/step - loss: 1.2758 - accuracy: 0.4328 - val_loss: 1.2341 - val_accuracy: 0.4648\n",
      "Epoch 4/10\n",
      "332/332 [==============================] - 29s 89ms/step - loss: 1.2265 - accuracy: 0.4479 - val_loss: 1.0257 - val_accuracy: 0.5936\n",
      "Epoch 5/10\n",
      "332/332 [==============================] - 30s 90ms/step - loss: 1.1589 - accuracy: 0.4776 - val_loss: 1.0042 - val_accuracy: 0.5801\n",
      "Epoch 6/10\n",
      "332/332 [==============================] - 29s 88ms/step - loss: 1.1584 - accuracy: 0.4766 - val_loss: 0.9471 - val_accuracy: 0.6121\n",
      "Epoch 7/10\n",
      "332/332 [==============================] - 29s 88ms/step - loss: 1.1429 - accuracy: 0.4898 - val_loss: 0.9798 - val_accuracy: 0.6242\n",
      "Epoch 8/10\n",
      "332/332 [==============================] - 29s 87ms/step - loss: 1.1545 - accuracy: 0.4821 - val_loss: 1.0370 - val_accuracy: 0.5801\n",
      "Epoch 9/10\n",
      "332/332 [==============================] - 31s 94ms/step - loss: 1.1716 - accuracy: 0.4644 - val_loss: 0.9455 - val_accuracy: 0.6327\n",
      "Epoch 10/10\n",
      "332/332 [==============================] - 29s 88ms/step - loss: 1.2064 - accuracy: 0.4345 - val_loss: 1.1810 - val_accuracy: 0.4591\n"
     ]
    }
   ],
   "source": [
    "history = model.fit(X_train,Y_train,epochs=10,batch_size=32,validation_data=(X_test,Y_test))"
   ]
  },
  {
   "cell_type": "code",
   "execution_count": 14,
   "metadata": {},
   "outputs": [],
   "source": [
    "def plot_history(history):\n",
    "    import matplotlib.pyplot as plt\n",
    " \n",
    "    acc2 = history.history['accuracy']\n",
    "    val_acc = history.history['val_accuracy']\n",
    "    loss2 = history.history['loss']\n",
    "    val_loss = history.history['val_loss']\n",
    "\n",
    "    epochs = range(1,len(acc2)+1)\n",
    "\n",
    "    # Creating subplots\n",
    "    fig, axes = plt.subplots(nrows=1, ncols=2, figsize=(7,3))\n",
    "\n",
    "    axes[0].plot(epochs, acc2,'b',label='Train Accuracy')\n",
    "    axes[0].plot(epochs, val_acc,'r',label='Test Accuracy')\n",
    "    axes[0].set_xlabel('Epoch')\n",
    "    axes[0].set_ylabel('Accuracy')\n",
    "    axes[0].legend()\n",
    "\n",
    "    axes[1].plot(epochs, loss2,'b',label='Train Loss')\n",
    "    axes[1].plot(epochs, val_loss,'r',label='Test Loss')\n",
    "    axes[1].set_xlabel('Epoch')\n",
    "    axes[1].set_ylabel('Loss')\n",
    "    axes[1].legend()\n",
    "\n",
    "    # Adjusting layout for better spacing\n",
    "    plt.tight_layout()\n",
    "\n",
    "    # Display the figure\n",
    "    plt.show()"
   ]
  },
  {
   "cell_type": "code",
   "execution_count": 15,
   "metadata": {
    "tags": []
   },
   "outputs": [
    {
     "data": {
      "image/png": "[encoded data removed]",
      "text/plain": [
       "<Figure size 700x300 with 2 Axes>"
      ]
     },
     "metadata": {},
     "output_type": "display_data"
    }
   ],
   "source": [
    "plot_history(history)"
   ]
  },
  {
   "cell_type": "code",
   "execution_count": 18,
   "metadata": {
    "tags": []
   },
   "outputs": [
    {
     "name": "stdout",
     "output_type": "stream",
     "text": [
      "44/44 [==============================] - 1s 12ms/step\n"
     ]
    },
    {
     "data": {
      "text/plain": [
       "array([0, 3, 0, ..., 0, 3, 0])"
      ]
     },
     "execution_count": 18,
     "metadata": {},
     "output_type": "execute_result"
    }
   ],
   "source": [
    "import numpy as np\n",
    "Y_pred = model.predict(X_test)\n",
    "Y_pred = np.argmax(Y_pred,axis=1)\n",
    "Y_test_arg = np.argmax(Y_test,axis=1)\n",
    "Y_pred"
   ]
  },
  {
   "cell_type": "code",
   "execution_count": 20,
   "metadata": {
    "tags": []
   },
   "outputs": [
    {
     "name": "stdout",
     "output_type": "stream",
     "text": [
      "              precision    recall  f1-score   support\n",
      "\n",
      "      glioma       0.32      0.87      0.47       309\n",
      "  meningioma       0.00      0.00      0.00       335\n",
      "     notumor       0.86      0.72      0.79       399\n",
      "   pituitary       0.39      0.24      0.30       362\n",
      "\n",
      "    accuracy                           0.46      1405\n",
      "   macro avg       0.39      0.46      0.39      1405\n",
      "weighted avg       0.42      0.46      0.40      1405\n",
      "\n"
     ]
    }
   ],
   "source": [
    "num_classes = 4\n",
    "from sklearn.metrics import classification_report\n",
    "target_dicts = {0: 'glioma', 1: 'meningioma', 2: 'notumor', 3: 'pituitary'}\n",
    "target_names = target_dicts.values()\n",
    "print(classification_report(Y_test_arg,Y_pred,target_names=target_names))"
   ]
  },
  {
   "cell_type": "code",
   "execution_count": 21,
   "metadata": {
    "tags": []
   },
   "outputs": [],
   "source": [
    "# tuning\n",
    "\n",
    "from keras.models import Sequential\n",
    "from keras.layers import Dense\n",
    "\n",
    "def build_model(hp):\n",
    "    model = Sequential()\n",
    "    model.add(Dense(\n",
    "        hp.Int(\"units\", min_value=32, max_value=512, step=32),\n",
    "        input_dim=57600,\n",
    "        activation='relu'\n",
    "    ))\n",
    "    model.add(\n",
    "        Dense(\n",
    "            # Define the hyperparameter.\n",
    "            units=hp.Int(\"units\", min_value=32, max_value=512, step=32),\n",
    "            activation=hp.Choice(\"activation\", [\"relu\", \"tanh\"])\n",
    "        )\n",
    "    )\n",
    "    model.add(\n",
    "        Dense(\n",
    "            # Define the hyperparameter.\n",
    "            units=hp.Int(\"units\", min_value=32, max_value=512, step=32),\n",
    "            activation=hp.Choice(\"activation\", [\"relu\", \"tanh\"])\n",
    "        )\n",
    "    )\n",
    "    model.add(Dense(4,activation='softmax'))\n",
    "    model.compile(\n",
    "        optimizer=\"adam\",\n",
    "        loss=\"mean_squared_error\",\n",
    "        metrics=[\"accuracy\"],\n",
    "    )\n",
    "    return model"
   ]
  },
  {
   "cell_type": "code",
   "execution_count": 22,
   "metadata": {
    "tags": []
   },
   "outputs": [],
   "source": [
    "import keras_tuner\n",
    "\n",
    "tuner = keras_tuner.RandomSearch(\n",
    "    hypermodel=build_model,\n",
    "    objective=\"val_accuracy\",\n",
    "    max_trials=10,\n",
    "    executions_per_trial=2,\n",
    "    overwrite=True,\n",
    "    directory=\"dnn_tune\",\n",
    "    project_name=\"tune_dnn\",\n",
    ")"
   ]
  },
  {
   "cell_type": "code",
   "execution_count": 23,
   "metadata": {
    "tags": []
   },
   "outputs": [
    {
     "name": "stdout",
     "output_type": "stream",
     "text": [
      "Search space summary\n",
      "Default search space size: 2\n",
      "units (Int)\n",
      "{'default': None, 'conditions': [], 'min_value': 32, 'max_value': 512, 'step': 32, 'sampling': 'linear'}\n",
      "activation (Choice)\n",
      "{'default': 'relu', 'conditions': [], 'values': ['relu', 'tanh'], 'ordered': False}\n"
     ]
    }
   ],
   "source": [
    "tuner.search_space_summary()"
   ]
  },
  {
   "cell_type": "code",
   "execution_count": 24,
   "metadata": {
    "tags": []
   },
   "outputs": [
    {
     "name": "stdout",
     "output_type": "stream",
     "text": [
      "Trial 10 Complete [00h 32m 27s]\n",
      "val_accuracy: 0.28398576378822327\n",
      "\n",
      "Best val_accuracy So Far: 0.28398576378822327\n",
      "Total elapsed time: 03h 34m 36s\n"
     ]
    }
   ],
   "source": [
    "tuner.search(X_train, Y_train, epochs=10,batch_size=16, validation_data=(X_test, Y_test))"
   ]
  },
  {
   "cell_type": "code",
   "execution_count": null,
   "metadata": {},
   "outputs": [],
   "source": []
  }
 ],
 "metadata": {
  "environment": {
   "kernel": "python3",
   "name": "tf2-gpu.2-15.m121",
   "type": "gcloud",
   "uri": "us-docker.pkg.dev/deeplearning-platform-release/gcr.io/tf2-gpu.2-15:m121"
  },
  "kernelspec": {
   "display_name": "Python 3 (Local)",
   "language": "python",
   "name": "python3"
  },
  "language_info": {
   "codemirror_mode": {
    "name": "ipython",
    "version": 3
   },
   "file_extension": ".py",
   "mimetype": "text/x-python",
   "name": "python",
   "nbconvert_exporter": "python",
   "pygments_lexer": "ipython3",
   "version": "3.10.14"
  }
 },
 "nbformat": 4,
 "nbformat_minor": 4
}
