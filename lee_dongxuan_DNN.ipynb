{
 "cells": [
  {
   "cell_type": "code",
   "execution_count": 22,
   "metadata": {},
   "outputs": [],
   "source": [
    "import pandas as pd\n",
    "import os, re\n",
    "import numpy as np\n",
    "import cv2\n",
    "import matplotlib.pyplot as plt\n",
    "import seaborn as sns\n",
    "\n",
    "from sklearn.model_selection import train_test_split\n",
    "\n",
    "sns.set_theme(style = \"dark\", \n",
    "        color_codes = True,\n",
    "        font_scale = 1.5)"
   ]
  },
  {
   "cell_type": "code",
   "execution_count": 23,
   "metadata": {},
   "outputs": [
    {
     "data": {
      "text/plain": [
       "10023"
      ]
     },
     "execution_count": 23,
     "metadata": {},
     "output_type": "execute_result"
    }
   ],
   "source": [
    "image_csv_folder = os.path.join(os.getcwd(),'image_csv')\n",
    "len(os.listdir(image_csv_folder))"
   ]
  },
  {
   "cell_type": "code",
   "execution_count": 24,
   "metadata": {},
   "outputs": [
    {
     "data": {
      "text/html": [
       "<div>\n",
       "<style scoped>\n",
       "    .dataframe tbody tr th:only-of-type {\n",
       "        vertical-align: middle;\n",
       "    }\n",
       "\n",
       "    .dataframe tbody tr th {\n",
       "        vertical-align: top;\n",
       "    }\n",
       "\n",
       "    .dataframe thead th {\n",
       "        text-align: right;\n",
       "    }\n",
       "</style>\n",
       "<table border=\"1\" class=\"dataframe\">\n",
       "  <thead>\n",
       "    <tr style=\"text-align: right;\">\n",
       "      <th></th>\n",
       "      <th>img_index</th>\n",
       "      <th>image</th>\n",
       "      <th>label</th>\n",
       "    </tr>\n",
       "  </thead>\n",
       "  <tbody>\n",
       "    <tr>\n",
       "      <th>0</th>\n",
       "      <td>0</td>\n",
       "      <td>[[2, 3, 3, 3, 3, 3, 3, 3, 3, 3, 3, 3, 3, 3, 3,...</td>\n",
       "      <td>0</td>\n",
       "    </tr>\n",
       "    <tr>\n",
       "      <th>1</th>\n",
       "      <td>10000</td>\n",
       "      <td>[[0, 120, 10, 61, 21, 0, 0, 0, 0, 15, 0, 14, 0...</td>\n",
       "      <td>3</td>\n",
       "    </tr>\n",
       "    <tr>\n",
       "      <th>2</th>\n",
       "      <td>10001</td>\n",
       "      <td>[[7, 7, 7, 7, 0, 80, 95, 0, 7, 8, 8, 7, 0, 68,...</td>\n",
       "      <td>3</td>\n",
       "    </tr>\n",
       "    <tr>\n",
       "      <th>3</th>\n",
       "      <td>10002</td>\n",
       "      <td>[[0, 31, 0, 15, 32, 0, 16, 0, 0, 0, 0, 13, 0, ...</td>\n",
       "      <td>3</td>\n",
       "    </tr>\n",
       "    <tr>\n",
       "      <th>4</th>\n",
       "      <td>10003</td>\n",
       "      <td>[[0, 0, 0, 0, 0, 0, 0, 0, 21, 47, 0, 0, 0, 0, ...</td>\n",
       "      <td>3</td>\n",
       "    </tr>\n",
       "    <tr>\n",
       "      <th>...</th>\n",
       "      <td>...</td>\n",
       "      <td>...</td>\n",
       "      <td>...</td>\n",
       "    </tr>\n",
       "    <tr>\n",
       "      <th>10018</th>\n",
       "      <td>9998</td>\n",
       "      <td>[[73, 26, 41, 104, 29, 29, 29, 29, 24, 59, 25,...</td>\n",
       "      <td>3</td>\n",
       "    </tr>\n",
       "    <tr>\n",
       "      <th>10019</th>\n",
       "      <td>9999</td>\n",
       "      <td>[[0, 0, 0, 0, 0, 69, 0, 0, 0, 0, 0, 0, 0, 0, 0...</td>\n",
       "      <td>3</td>\n",
       "    </tr>\n",
       "    <tr>\n",
       "      <th>10020</th>\n",
       "      <td>999</td>\n",
       "      <td>[[3, 2, 2, 3, 3, 3, 3, 3, 2, 1, 2, 3, 4, 4, 3,...</td>\n",
       "      <td>0</td>\n",
       "    </tr>\n",
       "    <tr>\n",
       "      <th>10021</th>\n",
       "      <td>99</td>\n",
       "      <td>[[3, 3, 3, 3, 3, 3, 3, 3, 3, 3, 3, 3, 3, 3, 3,...</td>\n",
       "      <td>0</td>\n",
       "    </tr>\n",
       "    <tr>\n",
       "      <th>10022</th>\n",
       "      <td>9</td>\n",
       "      <td>[[3, 3, 3, 3, 3, 3, 3, 3, 3, 3, 3, 3, 3, 3, 3,...</td>\n",
       "      <td>0</td>\n",
       "    </tr>\n",
       "  </tbody>\n",
       "</table>\n",
       "<p>10023 rows × 3 columns</p>\n",
       "</div>"
      ],
      "text/plain": [
       "      img_index                                              image label\n",
       "0             0  [[2, 3, 3, 3, 3, 3, 3, 3, 3, 3, 3, 3, 3, 3, 3,...     0\n",
       "1         10000  [[0, 120, 10, 61, 21, 0, 0, 0, 0, 15, 0, 14, 0...     3\n",
       "2         10001  [[7, 7, 7, 7, 0, 80, 95, 0, 7, 8, 8, 7, 0, 68,...     3\n",
       "3         10002  [[0, 31, 0, 15, 32, 0, 16, 0, 0, 0, 0, 13, 0, ...     3\n",
       "4         10003  [[0, 0, 0, 0, 0, 0, 0, 0, 21, 47, 0, 0, 0, 0, ...     3\n",
       "...         ...                                                ...   ...\n",
       "10018      9998  [[73, 26, 41, 104, 29, 29, 29, 29, 24, 59, 25,...     3\n",
       "10019      9999  [[0, 0, 0, 0, 0, 69, 0, 0, 0, 0, 0, 0, 0, 0, 0...     3\n",
       "10020       999  [[3, 2, 2, 3, 3, 3, 3, 3, 2, 1, 2, 3, 4, 4, 3,...     0\n",
       "10021        99  [[3, 3, 3, 3, 3, 3, 3, 3, 3, 3, 3, 3, 3, 3, 3,...     0\n",
       "10022         9  [[3, 3, 3, 3, 3, 3, 3, 3, 3, 3, 3, 3, 3, 3, 3,...     0\n",
       "\n",
       "[10023 rows x 3 columns]"
      ]
     },
     "execution_count": 24,
     "metadata": {},
     "output_type": "execute_result"
    }
   ],
   "source": [
    "image_indexes,images,labels = [],[],[]\n",
    "\n",
    "for image_fname in os.listdir(image_csv_folder):\n",
    "    image_re = re.match(r'([0-9]+)_([0-9]+)\\.csv',image_fname)\n",
    "    image_indexes.append(image_re.group(1))\n",
    "    labels.append(image_re.group(2))\n",
    "    images.append(np.loadtxt(os.path.join(image_csv_folder,image_fname),delimiter=',',dtype=int))\n",
    "\n",
    "image_df = pd.DataFrame({'img_index':image_indexes,'image':images,'label':labels})\n",
    "image_df"
   ]
  },
  {
   "cell_type": "code",
   "execution_count": 25,
   "metadata": {},
   "outputs": [
    {
     "name": "stdout",
     "output_type": "stream",
     "text": [
      "<class 'pandas.core.frame.DataFrame'>\n",
      "RangeIndex: 10023 entries, 0 to 10022\n",
      "Data columns (total 3 columns):\n",
      " #   Column     Non-Null Count  Dtype \n",
      "---  ------     --------------  ----- \n",
      " 0   img_index  10023 non-null  object\n",
      " 1   image      10023 non-null  object\n",
      " 2   label      10023 non-null  object\n",
      "dtypes: object(3)\n",
      "memory usage: 235.0+ KB\n"
     ]
    }
   ],
   "source": [
    "image_df.info()"
   ]
  },
  {
   "cell_type": "code",
   "execution_count": 26,
   "metadata": {},
   "outputs": [],
   "source": [
    "image_df[\"img_index\"] = image_df[\"img_index\"].astype(int)\n",
    "image_df[\"label\"] = image_df[\"label\"].astype(int)"
   ]
  },
  {
   "cell_type": "code",
   "execution_count": 28,
   "metadata": {},
   "outputs": [
    {
     "data": {
      "text/html": [
       "<div>\n",
       "<style scoped>\n",
       "    .dataframe tbody tr th:only-of-type {\n",
       "        vertical-align: middle;\n",
       "    }\n",
       "\n",
       "    .dataframe tbody tr th {\n",
       "        vertical-align: top;\n",
       "    }\n",
       "\n",
       "    .dataframe thead th {\n",
       "        text-align: right;\n",
       "    }\n",
       "</style>\n",
       "<table border=\"1\" class=\"dataframe\">\n",
       "  <thead>\n",
       "    <tr style=\"text-align: right;\">\n",
       "      <th></th>\n",
       "      <th>image</th>\n",
       "      <th>label</th>\n",
       "    </tr>\n",
       "  </thead>\n",
       "  <tbody>\n",
       "    <tr>\n",
       "      <th>0</th>\n",
       "      <td>[[2, 3, 3, 3, 3, 3, 3, 3, 3, 3, 3, 3, 3, 3, 3,...</td>\n",
       "      <td>0</td>\n",
       "    </tr>\n",
       "    <tr>\n",
       "      <th>1</th>\n",
       "      <td>[[3, 3, 3, 3, 3, 3, 3, 3, 3, 3, 3, 4, 5, 7, 6,...</td>\n",
       "      <td>0</td>\n",
       "    </tr>\n",
       "    <tr>\n",
       "      <th>2</th>\n",
       "      <td>[[3, 3, 3, 3, 3, 3, 3, 3, 3, 3, 3, 3, 3, 3, 3,...</td>\n",
       "      <td>0</td>\n",
       "    </tr>\n",
       "    <tr>\n",
       "      <th>3</th>\n",
       "      <td>[[28, 39, 65, 94, 114, 124, 125, 108, 82, 54, ...</td>\n",
       "      <td>0</td>\n",
       "    </tr>\n",
       "    <tr>\n",
       "      <th>4</th>\n",
       "      <td>[[5, 4, 3, 3, 3, 3, 3, 3, 3, 3, 3, 3, 3, 3, 3,...</td>\n",
       "      <td>0</td>\n",
       "    </tr>\n",
       "    <tr>\n",
       "      <th>...</th>\n",
       "      <td>...</td>\n",
       "      <td>...</td>\n",
       "    </tr>\n",
       "    <tr>\n",
       "      <th>10018</th>\n",
       "      <td>[[0, 0, 1, 0, 0, 154, 0, 0, 0, 0, 0, 0, 0, 0, ...</td>\n",
       "      <td>3</td>\n",
       "    </tr>\n",
       "    <tr>\n",
       "      <th>10019</th>\n",
       "      <td>[[9, 10, 10, 10, 10, 10, 10, 3, 11, 10, 10, 10...</td>\n",
       "      <td>3</td>\n",
       "    </tr>\n",
       "    <tr>\n",
       "      <th>10020</th>\n",
       "      <td>[[9, 9, 0, 75, 0, 98, 38, 0, 0, 0, 21, 39, 0, ...</td>\n",
       "      <td>3</td>\n",
       "    </tr>\n",
       "    <tr>\n",
       "      <th>10021</th>\n",
       "      <td>[[0, 7, 14, 0, 0, 0, 7, 0, 15, 36, 0, 0, 158, ...</td>\n",
       "      <td>3</td>\n",
       "    </tr>\n",
       "    <tr>\n",
       "      <th>10022</th>\n",
       "      <td>[[44, 0, 16, 43, 0, 87, 0, 2, 14, 0, 0, 11, 42...</td>\n",
       "      <td>3</td>\n",
       "    </tr>\n",
       "  </tbody>\n",
       "</table>\n",
       "<p>10023 rows × 2 columns</p>\n",
       "</div>"
      ],
      "text/plain": [
       "                                                   image  label\n",
       "0      [[2, 3, 3, 3, 3, 3, 3, 3, 3, 3, 3, 3, 3, 3, 3,...      0\n",
       "1      [[3, 3, 3, 3, 3, 3, 3, 3, 3, 3, 3, 4, 5, 7, 6,...      0\n",
       "2      [[3, 3, 3, 3, 3, 3, 3, 3, 3, 3, 3, 3, 3, 3, 3,...      0\n",
       "3      [[28, 39, 65, 94, 114, 124, 125, 108, 82, 54, ...      0\n",
       "4      [[5, 4, 3, 3, 3, 3, 3, 3, 3, 3, 3, 3, 3, 3, 3,...      0\n",
       "...                                                  ...    ...\n",
       "10018  [[0, 0, 1, 0, 0, 154, 0, 0, 0, 0, 0, 0, 0, 0, ...      3\n",
       "10019  [[9, 10, 10, 10, 10, 10, 10, 3, 11, 10, 10, 10...      3\n",
       "10020  [[9, 9, 0, 75, 0, 98, 38, 0, 0, 0, 21, 39, 0, ...      3\n",
       "10021  [[0, 7, 14, 0, 0, 0, 7, 0, 15, 36, 0, 0, 158, ...      3\n",
       "10022  [[44, 0, 16, 43, 0, 87, 0, 2, 14, 0, 0, 11, 42...      3\n",
       "\n",
       "[10023 rows x 2 columns]"
      ]
     },
     "execution_count": 28,
     "metadata": {},
     "output_type": "execute_result"
    }
   ],
   "source": [
    "final_image_df = image_df.sort_values(by=\"img_index\").reset_index(drop=True).drop(['img_index'],axis=1)"
   ]
  },
  {
   "cell_type": "code",
   "execution_count": null,
   "metadata": {},
   "outputs": [],
   "source": [
    "X_train, X_test, y_train, y_test = train_test_split(final_image_df,test_size=0.2,random_state=1)"
   ]
  }
 ],
 "metadata": {
  "environment": {
   "kernel": "python3",
   "name": "tf2-gpu.2-15.m121",
   "type": "gcloud",
   "uri": "us-docker.pkg.dev/deeplearning-platform-release/gcr.io/tf2-gpu.2-15:m121"
  },
  "kernelspec": {
   "display_name": "Python 3 (Local)",
   "language": "python",
   "name": "python3"
  },
  "language_info": {
   "codemirror_mode": {
    "name": "ipython",
    "version": 3
   },
   "file_extension": ".py",
   "mimetype": "text/x-python",
   "name": "python",
   "nbconvert_exporter": "python",
   "pygments_lexer": "ipython3",
   "version": "3.10.14"
  }
 },
 "nbformat": 4,
 "nbformat_minor": 4
}
