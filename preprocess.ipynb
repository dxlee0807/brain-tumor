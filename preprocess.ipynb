{
 "cells": [
  {
   "cell_type": "code",
   "execution_count": null,
   "metadata": {},
   "outputs": [],
   "source": [
    "# Import opencv \n",
    "import cv2 \n",
    "  \n",
    "# Use the second argument or (flag value) zero \n",
    "# that specifies the image is to be read in grayscale mode \n",
    "img = cv2.imread(r'D:\\Users\\dxlee\\DX_degree\\Y3S2\\ODL\\working-dir\\brain-tumor\\Testing\\glioma_tumor\\image.jpg', 0) \n",
    "  \n",
    "cv2.imshow('Grayscale Image', img) \n",
    "cv2.waitKey(0) \n",
    "  \n",
    "# Window shown waits for any key pressing event \n",
    "cv2.destroyAllWindows()\n",
    "\n"
   ]
  },
  {
   "cell_type": "code",
   "execution_count": null,
   "metadata": {},
   "outputs": [],
   "source": [
    "from PIL import Image\n",
    "img = Image.open(r'D:\\Users\\dxlee\\DX_degree\\Y3S2\\ODL\\working-dir\\brain-tumor\\Testing\\glioma_tumor\\image.jpg').convert('L')\n",
    "img.save('greyscale.png')"
   ]
  },
  {
   "cell_type": "code",
   "execution_count": null,
   "metadata": {},
   "outputs": [],
   "source": [
    "import numpy as np\n",
    "import matplotlib.pyplot as plt\n",
    "import matplotlib.image as mpimg\n",
    "\n",
    "def rgb2gray(rgb):\n",
    "    return np.dot(rgb[...,:3], [0.2989, 0.5870, 0.1140])\n",
    "\n",
    "img = mpimg.imread(r'D:\\Users\\dxlee\\DX_degree\\Y3S2\\ODL\\working-dir\\brain-tumor\\Testing\\glioma_tumor\\image.jpg')     \n",
    "gray = rgb2gray(img)    \n",
    "plt.imshow(gray, cmap=plt.get_cmap('gray'), vmin=0, vmax=1)\n",
    "plt.show()"
   ]
  },
  {
   "cell_type": "code",
   "execution_count": null,
   "metadata": {},
   "outputs": [],
   "source": [
    "import numpy as np\n",
    "import cv2\n",
    "\n",
    "im = cv2.imread(r'D:\\Users\\dxlee\\DX_degree\\Y3S2\\ODL\\working-dir\\brain-tumor\\Testing\\glioma_tumor\\image.jpg')\n",
    "\n",
    "# To Grayscale\n",
    "im = cv2.cvtColor(im, cv2.COLOR_BGR2GRAY)\n",
    "\n",
    "print(np.shape(im))\n",
    "data = np.asarray(im)\n",
    "# for row in data:\n",
    "#     for cell in row:\n",
    "#         if cell !=0:\n",
    "#             print(cell)\n",
    "# print(data[np.any(data!=0, axis=1)])\n",
    "\n",
    "cv2.imwrite(\"grayscale.jpg\", im)"
   ]
  }
 ],
 "metadata": {
  "kernelspec": {
   "display_name": "Python 3",
   "language": "python",
   "name": "python3"
  },
  "language_info": {
   "codemirror_mode": {
    "name": "ipython",
    "version": 3
   },
   "file_extension": ".py",
   "mimetype": "text/x-python",
   "name": "python",
   "nbconvert_exporter": "python",
   "pygments_lexer": "ipython3",
   "version": "3.8.0"
  }
 },
 "nbformat": 4,
 "nbformat_minor": 2
}
