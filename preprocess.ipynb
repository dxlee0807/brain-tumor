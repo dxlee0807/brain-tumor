{
 "cells": [
  {
   "cell_type": "markdown",
   "metadata": {},
   "source": [
    "# Image Preprocessing\n",
    "\n",
    "- Convert BGR TO GRAY\n",
    "- GaussianBlur\n",
    "- Threshold\n",
    "- Erode\n",
    "- Dilate\n",
    "- Find Contours\n",
    "\n",
    "Filtering: remove gaussian noise, salt-and-pepper noise, speckle noise; by median/mean/gaussian filter\n",
    "- Gaussian smoothing, median filtering, and wavelet denoising\n",
    "\n",
    "Enhancement: adjust brightness/contrast\n",
    "- histogram equalization, adaptive histogram equalization, and contrast stretching\n",
    "\n",
    "Restoration: deconvolution/denoising\n",
    "\n",
    "Image resizing\n",
    "- smaller/bigger/alter ratio\n",
    "- nearest neighbor interpolation, bilinear interpolation, and bicubic interpolation\n",
    "\n",
    "Colour correction\n",
    "- gray world assumption, white balance, and color transfer\n",
    "\n",
    "Segmentation\n",
    "- thresholding, edge detection, and region growing\n"
   ]
  },
  {
   "cell_type": "code",
   "execution_count": null,
   "metadata": {},
   "outputs": [],
   "source": [
    "# Convert BGR TO GRAY\n",
    "# GaussianBlur\n",
    "# Threshold\n",
    "# Erode\n",
    "# Dilate\n",
    "# Find Contours"
   ]
  },
  {
   "cell_type": "code",
   "execution_count": 6,
   "metadata": {},
   "outputs": [
    {
     "name": "stdout",
     "output_type": "stream",
     "text": [
      "(619, 495)\n"
     ]
    },
    {
     "data": {
      "text/plain": [
       "True"
      ]
     },
     "execution_count": 6,
     "metadata": {},
     "output_type": "execute_result"
    }
   ],
   "source": [
    "import numpy as np\n",
    "import cv2\n",
    "\n",
    "# im = cv2.imread(r'D:\\Users\\dxlee\\DX_degree\\Y3S2\\ODL\\working-dir\\brain-tumor\\Testing\\glioma_tumor\\image.jpg')\n",
    "im = cv2.imread(r'Testing\\glioma_tumor\\image.jpg')\n",
    "\n",
    "# To Grayscale\n",
    "im = cv2.cvtColor(im, cv2.COLOR_BGR2GRAY)\n",
    "\n",
    "print(np.shape(im))\n",
    "data = np.asarray(im)\n",
    "# for row in data:\n",
    "#     for cell in row:\n",
    "#         if cell !=0:\n",
    "#             print(cell)\n",
    "# print(data[np.any(data!=0, axis=1)])\n",
    "\n",
    "cv2.imwrite(\"grayscale.jpg\", im)"
   ]
  }
 ],
 "metadata": {
  "kernelspec": {
   "display_name": "Python 3",
   "language": "python",
   "name": "python3"
  },
  "language_info": {
   "codemirror_mode": {
    "name": "ipython",
    "version": 3
   },
   "file_extension": ".py",
   "mimetype": "text/x-python",
   "name": "python",
   "nbconvert_exporter": "python",
   "pygments_lexer": "ipython3",
   "version": "3.8.0"
  }
 },
 "nbformat": 4,
 "nbformat_minor": 2
}
