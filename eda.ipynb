{
 "cells": [
  {
   "cell_type": "code",
   "execution_count": 17,
   "metadata": {},
   "outputs": [],
   "source": [
    "import pandas as pd\n",
    "import os\n",
    "\n",
    "from skimage import io\n",
    "import numpy as np\n",
    "import cv2\n",
    "import matplotlib.pyplot as plt\n",
    "import seaborn as sns\n",
    "sns.set(style = \"dark\", \n",
    "        color_codes = True,\n",
    "        font_scale = 1.5)"
   ]
  },
  {
   "cell_type": "code",
   "execution_count": 54,
   "metadata": {},
   "outputs": [],
   "source": [
    "train_gt_path = os.path.join(os.getcwd(),\"Training\",\"glioma_tumor\")\n",
    "train_mt_path = os.path.join(os.getcwd(),\"Training\",\"meningioma_tumor\")\n",
    "train_nt_path = os.path.join(os.getcwd(),\"Training\",\"no_tumor\")\n",
    "train_pt_path = os.path.join(os.getcwd(),\"Training\",\"pituitary_tumor\")\n",
    "\n",
    "test_gt_path = os.path.join(os.getcwd(),\"Testing\",\"glioma_tumor\")\n",
    "test_mt_path = os.path.join(os.getcwd(),\"Testing\",\"meningioma_tumor\")\n",
    "test_nt_path = os.path.join(os.getcwd(),\"Testing\",\"no_tumor\")\n",
    "test_pt_path = os.path.join(os.getcwd(),\"Testing\",\"pituitary_tumor\")\n"
   ]
  },
  {
   "cell_type": "code",
   "execution_count": 33,
   "metadata": {},
   "outputs": [
    {
     "name": "stdout",
     "output_type": "stream",
     "text": [
      "\t [100.0 %] Fetching label 'pituitary_tumor'           \n"
     ]
    }
   ],
   "source": [
    "def read_image_data(data_path, subset=False):\n",
    "\n",
    "    folders = sorted(os.listdir(data_path))\n",
    "    images, labels = [], []\n",
    "    label_dict = {}\n",
    "\n",
    "    # if \".DS_Store\" in folders:\n",
    "    #     folders.remove(\".DS_Store\")\n",
    "        \n",
    "    for label_no in range(len(folders)):\n",
    "        folder = folders[label_no]\n",
    "        label_dict[label_no] = folder\n",
    "        oslistdir = sorted(os.listdir(f\"{data_path}/{folder}\"))\n",
    "        oslistdir = oslistdir[:10] if subset else oslistdir\n",
    "        \n",
    "        for image_name in oslistdir:\n",
    "            # if image_name == \".DS_Store\":\n",
    "            #     continue\n",
    "\n",
    "            image_path = f\"{data_path}/{folders[label_no]}/{image_name}\"\n",
    "            image = io.imread(image_path)\n",
    "\n",
    "            # # If image is grayscale, <-- ignored it seems even tho it is greyscale, may need to apply proactively\n",
    "            if len(image.shape) == 2:\n",
    "                image = cv2.cvtColor(image, cv2.COLOR_GRAY2RGB)\n",
    "                \n",
    "            images.append(image)\n",
    "            labels.append(label_no)\n",
    "        \n",
    "        print(f\"\\t [{((label_no + 1)/len(folders)) * 100:.1f} %] Fetching label '{folder}'           \", end='\\r')\n",
    "            \n",
    "    print()\n",
    "    df = pd.DataFrame()\n",
    "    df['Image_Id'] = [i for i in range(len(images))]\n",
    "    df['Image'] = images\n",
    "    df['Label'] = labels\n",
    "    return df, label_dict\n",
    "\n",
    "\n",
    "training_data, label_dict = read_image_data(\"Training\")"
   ]
  },
  {
   "cell_type": "code",
   "execution_count": 34,
   "metadata": {},
   "outputs": [
    {
     "data": {
      "text/html": [
       "<div>\n",
       "<style scoped>\n",
       "    .dataframe tbody tr th:only-of-type {\n",
       "        vertical-align: middle;\n",
       "    }\n",
       "\n",
       "    .dataframe tbody tr th {\n",
       "        vertical-align: top;\n",
       "    }\n",
       "\n",
       "    .dataframe thead th {\n",
       "        text-align: right;\n",
       "    }\n",
       "</style>\n",
       "<table border=\"1\" class=\"dataframe\">\n",
       "  <thead>\n",
       "    <tr style=\"text-align: right;\">\n",
       "      <th></th>\n",
       "      <th>Image_Id</th>\n",
       "      <th>Image</th>\n",
       "      <th>Label</th>\n",
       "      <th>Dim</th>\n",
       "    </tr>\n",
       "  </thead>\n",
       "  <tbody>\n",
       "    <tr>\n",
       "      <th>0</th>\n",
       "      <td>0</td>\n",
       "      <td>[[[0, 0, 0], [0, 0, 0], [0, 0, 0], [0, 0, 0], ...</td>\n",
       "      <td>0</td>\n",
       "      <td>(512, 512, 3)</td>\n",
       "    </tr>\n",
       "    <tr>\n",
       "      <th>1</th>\n",
       "      <td>1</td>\n",
       "      <td>[[[0, 0, 0], [0, 0, 0], [0, 0, 0], [0, 0, 0], ...</td>\n",
       "      <td>0</td>\n",
       "      <td>(512, 512, 3)</td>\n",
       "    </tr>\n",
       "    <tr>\n",
       "      <th>2</th>\n",
       "      <td>2</td>\n",
       "      <td>[[[0, 0, 0], [0, 0, 0], [0, 0, 0], [0, 0, 0], ...</td>\n",
       "      <td>0</td>\n",
       "      <td>(512, 512, 3)</td>\n",
       "    </tr>\n",
       "    <tr>\n",
       "      <th>3</th>\n",
       "      <td>3</td>\n",
       "      <td>[[[0, 0, 0], [0, 0, 0], [0, 0, 0], [0, 0, 0], ...</td>\n",
       "      <td>0</td>\n",
       "      <td>(512, 512, 3)</td>\n",
       "    </tr>\n",
       "    <tr>\n",
       "      <th>4</th>\n",
       "      <td>4</td>\n",
       "      <td>[[[0, 0, 0], [0, 0, 0], [0, 0, 0], [0, 0, 0], ...</td>\n",
       "      <td>0</td>\n",
       "      <td>(512, 512, 3)</td>\n",
       "    </tr>\n",
       "    <tr>\n",
       "      <th>...</th>\n",
       "      <td>...</td>\n",
       "      <td>...</td>\n",
       "      <td>...</td>\n",
       "      <td>...</td>\n",
       "    </tr>\n",
       "    <tr>\n",
       "      <th>2865</th>\n",
       "      <td>2865</td>\n",
       "      <td>[[[0, 0, 0], [0, 0, 0], [0, 0, 0], [0, 0, 0], ...</td>\n",
       "      <td>3</td>\n",
       "      <td>(512, 512, 3)</td>\n",
       "    </tr>\n",
       "    <tr>\n",
       "      <th>2866</th>\n",
       "      <td>2866</td>\n",
       "      <td>[[[0, 0, 0], [0, 0, 0], [0, 0, 0], [0, 0, 0], ...</td>\n",
       "      <td>3</td>\n",
       "      <td>(512, 512, 3)</td>\n",
       "    </tr>\n",
       "    <tr>\n",
       "      <th>2867</th>\n",
       "      <td>2867</td>\n",
       "      <td>[[[0, 0, 0], [0, 0, 0], [0, 0, 0], [0, 0, 0], ...</td>\n",
       "      <td>3</td>\n",
       "      <td>(512, 512, 3)</td>\n",
       "    </tr>\n",
       "    <tr>\n",
       "      <th>2868</th>\n",
       "      <td>2868</td>\n",
       "      <td>[[[0, 0, 0], [0, 0, 0], [0, 0, 0], [0, 0, 0], ...</td>\n",
       "      <td>3</td>\n",
       "      <td>(512, 512, 3)</td>\n",
       "    </tr>\n",
       "    <tr>\n",
       "      <th>2869</th>\n",
       "      <td>2869</td>\n",
       "      <td>[[[0, 0, 0], [0, 0, 0], [0, 0, 0], [0, 0, 0], ...</td>\n",
       "      <td>3</td>\n",
       "      <td>(512, 512, 3)</td>\n",
       "    </tr>\n",
       "  </tbody>\n",
       "</table>\n",
       "<p>2870 rows × 4 columns</p>\n",
       "</div>"
      ],
      "text/plain": [
       "      Image_Id                                              Image  Label  \\\n",
       "0            0  [[[0, 0, 0], [0, 0, 0], [0, 0, 0], [0, 0, 0], ...      0   \n",
       "1            1  [[[0, 0, 0], [0, 0, 0], [0, 0, 0], [0, 0, 0], ...      0   \n",
       "2            2  [[[0, 0, 0], [0, 0, 0], [0, 0, 0], [0, 0, 0], ...      0   \n",
       "3            3  [[[0, 0, 0], [0, 0, 0], [0, 0, 0], [0, 0, 0], ...      0   \n",
       "4            4  [[[0, 0, 0], [0, 0, 0], [0, 0, 0], [0, 0, 0], ...      0   \n",
       "...        ...                                                ...    ...   \n",
       "2865      2865  [[[0, 0, 0], [0, 0, 0], [0, 0, 0], [0, 0, 0], ...      3   \n",
       "2866      2866  [[[0, 0, 0], [0, 0, 0], [0, 0, 0], [0, 0, 0], ...      3   \n",
       "2867      2867  [[[0, 0, 0], [0, 0, 0], [0, 0, 0], [0, 0, 0], ...      3   \n",
       "2868      2868  [[[0, 0, 0], [0, 0, 0], [0, 0, 0], [0, 0, 0], ...      3   \n",
       "2869      2869  [[[0, 0, 0], [0, 0, 0], [0, 0, 0], [0, 0, 0], ...      3   \n",
       "\n",
       "                Dim  \n",
       "0     (512, 512, 3)  \n",
       "1     (512, 512, 3)  \n",
       "2     (512, 512, 3)  \n",
       "3     (512, 512, 3)  \n",
       "4     (512, 512, 3)  \n",
       "...             ...  \n",
       "2865  (512, 512, 3)  \n",
       "2866  (512, 512, 3)  \n",
       "2867  (512, 512, 3)  \n",
       "2868  (512, 512, 3)  \n",
       "2869  (512, 512, 3)  \n",
       "\n",
       "[2870 rows x 4 columns]"
      ]
     },
     "execution_count": 34,
     "metadata": {},
     "output_type": "execute_result"
    }
   ],
   "source": [
    "training_data[\"Dim\"] = training_data[\"Image\"].apply(np.shape)\n",
    "training_data\n"
   ]
  },
  {
   "cell_type": "code",
   "execution_count": 20,
   "metadata": {},
   "outputs": [
    {
     "data": {
      "text/plain": [
       "{0: 'glioma_tumor', 1: 'meningioma_tumor', 2: 'no_tumor', 3: 'pituitary_tumor'}"
      ]
     },
     "execution_count": 20,
     "metadata": {},
     "output_type": "execute_result"
    }
   ],
   "source": [
    "label_dict"
   ]
  },
  {
   "cell_type": "code",
   "execution_count": 18,
   "metadata": {},
   "outputs": [
    {
     "name": "stderr",
     "output_type": "stream",
     "text": [
      "C:\\Users\\Asus\\AppData\\Local\\Temp/ipykernel_24616/524378226.py:9: FutureWarning: \n",
      "\n",
      "Passing `palette` without assigning `hue` is deprecated and will be removed in v0.14.0. Assign the `x` variable to `hue` and set `legend=False` for the same effect.\n",
      "\n",
      "  ax = sns.barplot(x=[label_dict[label] for label in labels.index], y=labels.values, palette=np.array(pal[::-1])[rank])\n",
      "C:\\Users\\Asus\\AppData\\Local\\Temp/ipykernel_24616/524378226.py:9: UserWarning: Numpy array is not a supported type for `palette`. Please convert your palette to a list. This will become an error in v0.14\n",
      "  ax = sns.barplot(x=[label_dict[label] for label in labels.index], y=labels.values, palette=np.array(pal[::-1])[rank])\n",
      "C:\\Users\\Asus\\AppData\\Local\\Temp/ipykernel_24616/524378226.py:13: UserWarning: set_ticklabels() should only be used with a fixed number of ticks, i.e. after set_ticks() or using a FixedLocator.\n",
      "  ax.set_xticklabels(ax.get_xticklabels(), rotation=55)\n"
     ]
    },
    {
     "data": {
      "text/plain": [
       "[Text(0, 0, 'glioma_tumor'),\n",
       " Text(1, 0, 'meningioma_tumor'),\n",
       " Text(2, 0, 'no_tumor'),\n",
       " Text(3, 0, 'pituitary_tumor')]"
      ]
     },
     "execution_count": 18,
     "metadata": {},
     "output_type": "execute_result"
    },
    {
     "data": {
      "image/png": "[encoded data removed]",
      "text/plain": [
       "<Figure size 864x288 with 1 Axes>"
      ]
     },
     "metadata": {},
     "output_type": "display_data"
    }
   ],
   "source": [
    "# Training's class frequency\n",
    "plt.figure(figsize=(12,4))\n",
    "\n",
    "labels = training_data.groupby(\"Label\")[\"Image\"].count()\n",
    "\n",
    "pal = sns.color_palette(\"Purples_d\", len(labels))\n",
    "rank = labels.argsort().argsort()\n",
    "\n",
    "ax = sns.barplot(x=[label_dict[label] for label in labels.index], y=labels.values, palette=np.array(pal[::-1])[rank])\n",
    "plt.title(\"Distribution of classes within dataset\")\n",
    "plt.ylabel(\"# of images\")\n",
    "plt.xlabel(\"Label\")\n",
    "ax.set_xticklabels(ax.get_xticklabels(), rotation=55)"
   ]
  },
  {
   "cell_type": "code",
   "execution_count": 29,
   "metadata": {},
   "outputs": [
    {
     "data": {
      "text/plain": [
       "Text(0, 0.5, 'Size')"
      ]
     },
     "execution_count": 29,
     "metadata": {},
     "output_type": "execute_result"
    },
    {
     "data": {
      "image/png": "[encoded data removed]",
      "text/plain": [
       "<Figure size 864x504 with 1 Axes>"
      ]
     },
     "metadata": {},
     "output_type": "display_data"
    }
   ],
   "source": [
    "# Image Dimensions\n",
    "for tumor_type in label_dict:\n",
    "    plt.figure(figsize=(12,7))\n",
    "    ax = sns.scatterplot(y = training_data[])\n",
    "    # ax = sns.boxplot(y=[label_dict[label] for label in training_data[\"Label\"]], x=\"size\", data=training_data, orient=\"h\")\n",
    "    # plt.title(\"Distribution of image sizes\")\n",
    "    # plt.xticks(np.arange(0, 1900000, 200000), rotation=45)\n",
    "    # plt.xlim(0, 1900000)\n",
    "    # plt.ylabel(\"Label\")\n",
    "    # plt.ylabel(\"Size\")"
   ]
  },
  {
   "cell_type": "code",
   "execution_count": 55,
   "metadata": {},
   "outputs": [
    {
     "name": "stdout",
     "output_type": "stream",
     "text": [
      "826\n",
      "822\n",
      "395\n",
      "827\n",
      "100\n",
      "115\n",
      "105\n",
      "74\n"
     ]
    }
   ],
   "source": [
    "print(len(os.listdir(train_gt_path))) # number of glioma_tumor in training set\n",
    "print(len(os.listdir(train_mt_path))) # number of meningioma_tumor in training set\n",
    "print(len(os.listdir(train_nt_path))) # number of no_tumor in training set\n",
    "print(len(os.listdir(train_pt_path))) # number of pituitary_tumor in training set\n",
    "\n",
    "print(len(os.listdir(test_gt_path))) # number of glioma_tumor in test set\n",
    "print(len(os.listdir(test_mt_path))) # number of meningioma_tumor in test set\n",
    "print(len(os.listdir(test_nt_path))) # number of no_tumor in test set\n",
    "print(len(os.listdir(test_pt_path))) # number of pituitary_tumor in test set\n"
   ]
  },
  {
   "cell_type": "code",
   "execution_count": 56,
   "metadata": {},
   "outputs": [],
   "source": [
    "image_folder_paths = [train_gt_path,train_mt_path,train_nt_path,train_pt_path,test_gt_path,test_mt_path,test_nt_path,test_pt_path]\n",
    "\n",
    "# create a df\n",
    "images_df = pd.DataFrame(columns=[\"image_path\",\"tumor_class\"])\n",
    "\n",
    "for folder in image_folder_paths:\n",
    "    tumor_class = os.path.basename(folder)\n",
    "    folder_df = pd.DataFrame({\"image_path\":[os.path.join(folder,image_path) for image_path in os.listdir(folder)],\"tumor_class\":[tumor_class]*len(os.listdir(folder))})\n",
    "    images_df = pd.concat([images_df,folder_df],ignore_index=True)\n",
    "\n"
   ]
  },
  {
   "cell_type": "code",
   "execution_count": 57,
   "metadata": {},
   "outputs": [
    {
     "data": {
      "text/html": [
       "<div>\n",
       "<style scoped>\n",
       "    .dataframe tbody tr th:only-of-type {\n",
       "        vertical-align: middle;\n",
       "    }\n",
       "\n",
       "    .dataframe tbody tr th {\n",
       "        vertical-align: top;\n",
       "    }\n",
       "\n",
       "    .dataframe thead th {\n",
       "        text-align: right;\n",
       "    }\n",
       "</style>\n",
       "<table border=\"1\" class=\"dataframe\">\n",
       "  <thead>\n",
       "    <tr style=\"text-align: right;\">\n",
       "      <th></th>\n",
       "      <th>image_path</th>\n",
       "      <th>tumor_class</th>\n",
       "    </tr>\n",
       "  </thead>\n",
       "  <tbody>\n",
       "    <tr>\n",
       "      <th>0</th>\n",
       "      <td>d:\\Users\\dxlee\\DX_degree\\Y3S2\\ODL\\working-dir\\...</td>\n",
       "      <td>glioma_tumor</td>\n",
       "    </tr>\n",
       "    <tr>\n",
       "      <th>1</th>\n",
       "      <td>d:\\Users\\dxlee\\DX_degree\\Y3S2\\ODL\\working-dir\\...</td>\n",
       "      <td>glioma_tumor</td>\n",
       "    </tr>\n",
       "    <tr>\n",
       "      <th>2</th>\n",
       "      <td>d:\\Users\\dxlee\\DX_degree\\Y3S2\\ODL\\working-dir\\...</td>\n",
       "      <td>glioma_tumor</td>\n",
       "    </tr>\n",
       "    <tr>\n",
       "      <th>3</th>\n",
       "      <td>d:\\Users\\dxlee\\DX_degree\\Y3S2\\ODL\\working-dir\\...</td>\n",
       "      <td>glioma_tumor</td>\n",
       "    </tr>\n",
       "    <tr>\n",
       "      <th>4</th>\n",
       "      <td>d:\\Users\\dxlee\\DX_degree\\Y3S2\\ODL\\working-dir\\...</td>\n",
       "      <td>glioma_tumor</td>\n",
       "    </tr>\n",
       "    <tr>\n",
       "      <th>...</th>\n",
       "      <td>...</td>\n",
       "      <td>...</td>\n",
       "    </tr>\n",
       "    <tr>\n",
       "      <th>3259</th>\n",
       "      <td>d:\\Users\\dxlee\\DX_degree\\Y3S2\\ODL\\working-dir\\...</td>\n",
       "      <td>pituitary_tumor</td>\n",
       "    </tr>\n",
       "    <tr>\n",
       "      <th>3260</th>\n",
       "      <td>d:\\Users\\dxlee\\DX_degree\\Y3S2\\ODL\\working-dir\\...</td>\n",
       "      <td>pituitary_tumor</td>\n",
       "    </tr>\n",
       "    <tr>\n",
       "      <th>3261</th>\n",
       "      <td>d:\\Users\\dxlee\\DX_degree\\Y3S2\\ODL\\working-dir\\...</td>\n",
       "      <td>pituitary_tumor</td>\n",
       "    </tr>\n",
       "    <tr>\n",
       "      <th>3262</th>\n",
       "      <td>d:\\Users\\dxlee\\DX_degree\\Y3S2\\ODL\\working-dir\\...</td>\n",
       "      <td>pituitary_tumor</td>\n",
       "    </tr>\n",
       "    <tr>\n",
       "      <th>3263</th>\n",
       "      <td>d:\\Users\\dxlee\\DX_degree\\Y3S2\\ODL\\working-dir\\...</td>\n",
       "      <td>pituitary_tumor</td>\n",
       "    </tr>\n",
       "  </tbody>\n",
       "</table>\n",
       "<p>3264 rows × 2 columns</p>\n",
       "</div>"
      ],
      "text/plain": [
       "                                             image_path      tumor_class\n",
       "0     d:\\Users\\dxlee\\DX_degree\\Y3S2\\ODL\\working-dir\\...     glioma_tumor\n",
       "1     d:\\Users\\dxlee\\DX_degree\\Y3S2\\ODL\\working-dir\\...     glioma_tumor\n",
       "2     d:\\Users\\dxlee\\DX_degree\\Y3S2\\ODL\\working-dir\\...     glioma_tumor\n",
       "3     d:\\Users\\dxlee\\DX_degree\\Y3S2\\ODL\\working-dir\\...     glioma_tumor\n",
       "4     d:\\Users\\dxlee\\DX_degree\\Y3S2\\ODL\\working-dir\\...     glioma_tumor\n",
       "...                                                 ...              ...\n",
       "3259  d:\\Users\\dxlee\\DX_degree\\Y3S2\\ODL\\working-dir\\...  pituitary_tumor\n",
       "3260  d:\\Users\\dxlee\\DX_degree\\Y3S2\\ODL\\working-dir\\...  pituitary_tumor\n",
       "3261  d:\\Users\\dxlee\\DX_degree\\Y3S2\\ODL\\working-dir\\...  pituitary_tumor\n",
       "3262  d:\\Users\\dxlee\\DX_degree\\Y3S2\\ODL\\working-dir\\...  pituitary_tumor\n",
       "3263  d:\\Users\\dxlee\\DX_degree\\Y3S2\\ODL\\working-dir\\...  pituitary_tumor\n",
       "\n",
       "[3264 rows x 2 columns]"
      ]
     },
     "execution_count": 57,
     "metadata": {},
     "output_type": "execute_result"
    }
   ],
   "source": [
    "images_df"
   ]
  },
  {
   "cell_type": "code",
   "execution_count": 58,
   "metadata": {},
   "outputs": [
    {
     "name": "stdout",
     "output_type": "stream",
     "text": [
      "<class 'pandas.core.frame.DataFrame'>\n",
      "RangeIndex: 3264 entries, 0 to 3263\n",
      "Data columns (total 2 columns):\n",
      " #   Column       Non-Null Count  Dtype \n",
      "---  ------       --------------  ----- \n",
      " 0   image_path   3264 non-null   object\n",
      " 1   tumor_class  3264 non-null   object\n",
      "dtypes: object(2)\n",
      "memory usage: 51.1+ KB\n"
     ]
    }
   ],
   "source": [
    "images_df.info()\n",
    "\n",
    "# test zach"
   ]
  }
 ],
 "metadata": {
  "kernelspec": {
   "display_name": "Python 3",
   "language": "python",
   "name": "python3"
  },
  "language_info": {
   "codemirror_mode": {
    "name": "ipython",
    "version": 3
   },
   "file_extension": ".py",
   "mimetype": "text/x-python",
   "name": "python",
   "nbconvert_exporter": "python",
   "pygments_lexer": "ipython3",
   "version": "3.8.0"
  }
 },
 "nbformat": 4,
 "nbformat_minor": 2
}
