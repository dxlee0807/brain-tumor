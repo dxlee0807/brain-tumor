{
 "cells": [
  {
   "cell_type": "code",
   "execution_count": 53,
   "metadata": {},
   "outputs": [],
   "source": [
    "import pandas as pd\n",
    "import os"
   ]
  },
  {
   "cell_type": "code",
   "execution_count": 54,
   "metadata": {},
   "outputs": [],
   "source": [
    "train_gt_path = os.path.join(os.getcwd(),\"Training\",\"glioma_tumor\")\n",
    "train_mt_path = os.path.join(os.getcwd(),\"Training\",\"meningioma_tumor\")\n",
    "train_nt_path = os.path.join(os.getcwd(),\"Training\",\"no_tumor\")\n",
    "train_pt_path = os.path.join(os.getcwd(),\"Training\",\"pituitary_tumor\")\n",
    "\n",
    "test_gt_path = os.path.join(os.getcwd(),\"Testing\",\"glioma_tumor\")\n",
    "test_mt_path = os.path.join(os.getcwd(),\"Testing\",\"meningioma_tumor\")\n",
    "test_nt_path = os.path.join(os.getcwd(),\"Testing\",\"no_tumor\")\n",
    "test_pt_path = os.path.join(os.getcwd(),\"Testing\",\"pituitary_tumor\")\n"
   ]
  },
  {
   "cell_type": "code",
   "execution_count": 55,
   "metadata": {},
   "outputs": [
    {
     "name": "stdout",
     "output_type": "stream",
     "text": [
      "826\n",
      "822\n",
      "395\n",
      "827\n",
      "100\n",
      "115\n",
      "105\n",
      "74\n"
     ]
    }
   ],
   "source": [
    "print(len(os.listdir(train_gt_path))) # number of glioma_tumor in training set\n",
    "print(len(os.listdir(train_mt_path))) # number of meningioma_tumor in training set\n",
    "print(len(os.listdir(train_nt_path))) # number of no_tumor in training set\n",
    "print(len(os.listdir(train_pt_path))) # number of pituitary_tumor in training set\n",
    "\n",
    "print(len(os.listdir(test_gt_path))) # number of glioma_tumor in test set\n",
    "print(len(os.listdir(test_mt_path))) # number of meningioma_tumor in test set\n",
    "print(len(os.listdir(test_nt_path))) # number of no_tumor in test set\n",
    "print(len(os.listdir(test_pt_path))) # number of pituitary_tumor in test set\n"
   ]
  },
  {
   "cell_type": "code",
   "execution_count": 56,
   "metadata": {},
   "outputs": [],
   "source": [
    "image_folder_paths = [train_gt_path,train_mt_path,train_nt_path,train_pt_path,test_gt_path,test_mt_path,test_nt_path,test_pt_path]\n",
    "\n",
    "# create a df\n",
    "images_df = pd.DataFrame(columns=[\"image_path\",\"tumor_class\"])\n",
    "\n",
    "for folder in image_folder_paths:\n",
    "    tumor_class = os.path.basename(folder)\n",
    "    folder_df = pd.DataFrame({\"image_path\":[os.path.join(folder,image_path) for image_path in os.listdir(folder)],\"tumor_class\":[tumor_class]*len(os.listdir(folder))})\n",
    "    images_df = pd.concat([images_df,folder_df],ignore_index=True)\n",
    "\n"
   ]
  },
  {
   "cell_type": "code",
   "execution_count": 57,
   "metadata": {},
   "outputs": [
    {
     "data": {
      "text/html": [
       "<div>\n",
       "<style scoped>\n",
       "    .dataframe tbody tr th:only-of-type {\n",
       "        vertical-align: middle;\n",
       "    }\n",
       "\n",
       "    .dataframe tbody tr th {\n",
       "        vertical-align: top;\n",
       "    }\n",
       "\n",
       "    .dataframe thead th {\n",
       "        text-align: right;\n",
       "    }\n",
       "</style>\n",
       "<table border=\"1\" class=\"dataframe\">\n",
       "  <thead>\n",
       "    <tr style=\"text-align: right;\">\n",
       "      <th></th>\n",
       "      <th>image_path</th>\n",
       "      <th>tumor_class</th>\n",
       "    </tr>\n",
       "  </thead>\n",
       "  <tbody>\n",
       "    <tr>\n",
       "      <th>0</th>\n",
       "      <td>d:\\Users\\dxlee\\DX_degree\\Y3S2\\ODL\\working-dir\\...</td>\n",
       "      <td>glioma_tumor</td>\n",
       "    </tr>\n",
       "    <tr>\n",
       "      <th>1</th>\n",
       "      <td>d:\\Users\\dxlee\\DX_degree\\Y3S2\\ODL\\working-dir\\...</td>\n",
       "      <td>glioma_tumor</td>\n",
       "    </tr>\n",
       "    <tr>\n",
       "      <th>2</th>\n",
       "      <td>d:\\Users\\dxlee\\DX_degree\\Y3S2\\ODL\\working-dir\\...</td>\n",
       "      <td>glioma_tumor</td>\n",
       "    </tr>\n",
       "    <tr>\n",
       "      <th>3</th>\n",
       "      <td>d:\\Users\\dxlee\\DX_degree\\Y3S2\\ODL\\working-dir\\...</td>\n",
       "      <td>glioma_tumor</td>\n",
       "    </tr>\n",
       "    <tr>\n",
       "      <th>4</th>\n",
       "      <td>d:\\Users\\dxlee\\DX_degree\\Y3S2\\ODL\\working-dir\\...</td>\n",
       "      <td>glioma_tumor</td>\n",
       "    </tr>\n",
       "    <tr>\n",
       "      <th>...</th>\n",
       "      <td>...</td>\n",
       "      <td>...</td>\n",
       "    </tr>\n",
       "    <tr>\n",
       "      <th>3259</th>\n",
       "      <td>d:\\Users\\dxlee\\DX_degree\\Y3S2\\ODL\\working-dir\\...</td>\n",
       "      <td>pituitary_tumor</td>\n",
       "    </tr>\n",
       "    <tr>\n",
       "      <th>3260</th>\n",
       "      <td>d:\\Users\\dxlee\\DX_degree\\Y3S2\\ODL\\working-dir\\...</td>\n",
       "      <td>pituitary_tumor</td>\n",
       "    </tr>\n",
       "    <tr>\n",
       "      <th>3261</th>\n",
       "      <td>d:\\Users\\dxlee\\DX_degree\\Y3S2\\ODL\\working-dir\\...</td>\n",
       "      <td>pituitary_tumor</td>\n",
       "    </tr>\n",
       "    <tr>\n",
       "      <th>3262</th>\n",
       "      <td>d:\\Users\\dxlee\\DX_degree\\Y3S2\\ODL\\working-dir\\...</td>\n",
       "      <td>pituitary_tumor</td>\n",
       "    </tr>\n",
       "    <tr>\n",
       "      <th>3263</th>\n",
       "      <td>d:\\Users\\dxlee\\DX_degree\\Y3S2\\ODL\\working-dir\\...</td>\n",
       "      <td>pituitary_tumor</td>\n",
       "    </tr>\n",
       "  </tbody>\n",
       "</table>\n",
       "<p>3264 rows × 2 columns</p>\n",
       "</div>"
      ],
      "text/plain": [
       "                                             image_path      tumor_class\n",
       "0     d:\\Users\\dxlee\\DX_degree\\Y3S2\\ODL\\working-dir\\...     glioma_tumor\n",
       "1     d:\\Users\\dxlee\\DX_degree\\Y3S2\\ODL\\working-dir\\...     glioma_tumor\n",
       "2     d:\\Users\\dxlee\\DX_degree\\Y3S2\\ODL\\working-dir\\...     glioma_tumor\n",
       "3     d:\\Users\\dxlee\\DX_degree\\Y3S2\\ODL\\working-dir\\...     glioma_tumor\n",
       "4     d:\\Users\\dxlee\\DX_degree\\Y3S2\\ODL\\working-dir\\...     glioma_tumor\n",
       "...                                                 ...              ...\n",
       "3259  d:\\Users\\dxlee\\DX_degree\\Y3S2\\ODL\\working-dir\\...  pituitary_tumor\n",
       "3260  d:\\Users\\dxlee\\DX_degree\\Y3S2\\ODL\\working-dir\\...  pituitary_tumor\n",
       "3261  d:\\Users\\dxlee\\DX_degree\\Y3S2\\ODL\\working-dir\\...  pituitary_tumor\n",
       "3262  d:\\Users\\dxlee\\DX_degree\\Y3S2\\ODL\\working-dir\\...  pituitary_tumor\n",
       "3263  d:\\Users\\dxlee\\DX_degree\\Y3S2\\ODL\\working-dir\\...  pituitary_tumor\n",
       "\n",
       "[3264 rows x 2 columns]"
      ]
     },
     "execution_count": 57,
     "metadata": {},
     "output_type": "execute_result"
    }
   ],
   "source": [
    "images_df"
   ]
  },
  {
   "cell_type": "code",
   "execution_count": 58,
   "metadata": {},
   "outputs": [
    {
     "name": "stdout",
     "output_type": "stream",
     "text": [
      "<class 'pandas.core.frame.DataFrame'>\n",
      "RangeIndex: 3264 entries, 0 to 3263\n",
      "Data columns (total 2 columns):\n",
      " #   Column       Non-Null Count  Dtype \n",
      "---  ------       --------------  ----- \n",
      " 0   image_path   3264 non-null   object\n",
      " 1   tumor_class  3264 non-null   object\n",
      "dtypes: object(2)\n",
      "memory usage: 51.1+ KB\n"
     ]
    }
   ],
   "source": [
    "images_df.info()"
   ]
  }
 ],
 "metadata": {
  "kernelspec": {
   "display_name": "Python 3",
   "language": "python",
   "name": "python3"
  },
  "language_info": {
   "codemirror_mode": {
    "name": "ipython",
    "version": 3
   },
   "file_extension": ".py",
   "mimetype": "text/x-python",
   "name": "python",
   "nbconvert_exporter": "python",
   "pygments_lexer": "ipython3",
   "version": "3.8.0"
  }
 },
 "nbformat": 4,
 "nbformat_minor": 2
}
