{
 "cells": [
  {
   "cell_type": "code",
   "execution_count": 1,
   "metadata": {
    "tags": []
   },
   "outputs": [],
   "source": [
    "import pandas as pd\n",
    "import os, re\n",
    "import numpy as np\n",
    "import cv2\n",
    "import matplotlib.pyplot as plt\n",
    "import seaborn as sns\n",
    "\n",
    "from sklearn.model_selection import train_test_split\n"
   ]
  },
  {
   "cell_type": "code",
   "execution_count": 4,
   "metadata": {},
   "outputs": [],
   "source": [
    "def load_image_csvs(path=\"image_csv\"):\n",
    "    train_folder=os.path.join(os.getcwd(),path,\"train\")\n",
    "    test_folder=os.path.join(os.getcwd(),path,\"test\")\n",
    "    \n",
    "    X_train, X_test, Y_train, Y_test = [],[],[],[]\n",
    "    \n",
    "    # loading images from train folder to X_train and label to y_train\n",
    "    train_count = 0\n",
    "    for image_fname in os.listdir(train_folder):\n",
    "        image_re = re.match(r'([0-9]+)_([0-9]+)\\.csv',image_fname)\n",
    "        \n",
    "        # process preprocessed image into normalised flattened numpy array\n",
    "        image = np.loadtxt(os.path.join(train_folder,image_fname),delimiter=',',dtype=np.float32)\n",
    "        label = image_re.group(2)\n",
    "        \n",
    "        X_train.append(image)\n",
    "        Y_train.append(int(label))\n",
    "        train_count+=1\n",
    "        if train_count % 1000==0:\n",
    "            print(train_count)\n",
    "    print(\"Loaded train folder\")\n",
    "    \n",
    "    # loading images from test folder to X_test and label to y_test\n",
    "    test_count = 0\n",
    "    for image_fname in os.listdir(test_folder):\n",
    "        image_re = re.match(r'([0-9]+)_([0-9]+)\\.csv',image_fname)\n",
    "        \n",
    "        # process preprocessed image into normalised flattened numpy array\n",
    "        image = np.loadtxt(os.path.join(test_folder,image_fname),delimiter=',',dtype=np.float32)\n",
    "        # assert image.shape == (240,240)\n",
    "        # image = image.reshape(240*240)\n",
    "        # image = image.astype('float32')\n",
    "        # image /= 255\n",
    "        # image = np.asarray(image).astype('float32')\n",
    "        \n",
    "        label = image_re.group(2)\n",
    "        \n",
    "        X_test.append(image)\n",
    "        Y_test.append(int(label))\n",
    "        test_count+=1\n",
    "        if test_count % 1000==0:\n",
    "            print(test_count)\n",
    "    print(\"Loaded test folder\")\n",
    "    \n",
    "    return np.array(X_train), np.array(X_test), np.array(Y_train), np.array(Y_test)"
   ]
  },
  {
   "cell_type": "code",
   "execution_count": 5,
   "metadata": {
    "tags": []
   },
   "outputs": [
    {
     "name": "stdout",
     "output_type": "stream",
     "text": [
      "1000\n",
      "2000\n",
      "3000\n",
      "4000\n",
      "5000\n",
      "6000\n",
      "7000\n",
      "8000\n",
      "9000\n",
      "10000\n",
      "Loaded train folder\n",
      "1000\n",
      "Loaded test folder\n"
     ]
    }
   ],
   "source": [
    "X_train, X_test, Y_train, Y_test = load_image_csvs()"
   ]
  },
  {
   "cell_type": "code",
   "execution_count": 7,
   "metadata": {
    "tags": []
   },
   "outputs": [],
   "source": [
    "x_train = x_train.astype('float32')\n",
    "x_test = x_test.astype('float32')\n",
    "\n",
    "x_train /= 255\n",
    "x_test /=255"
   ]
  },
  {
   "cell_type": "code",
   "execution_count": 8,
   "metadata": {
    "tags": []
   },
   "outputs": [
    {
     "name": "stdout",
     "output_type": "stream",
     "text": [
      "Shape before one-hot encoding :  (10618,)\n",
      "Shape after one-hot encoding :  (1405, 4)\n"
     ]
    }
   ],
   "source": [
    "from keras.utils import to_categorical\n",
    "\n",
    "print(\"Shape before one-hot encoding : \",y_train.shape)\n",
    "y_train = to_categorical(y_train)\n",
    "y_test = to_categorical(y_test)\n",
    "print(\"Shape after one-hot encoding : \",y_test.shape)\n"
   ]
  },
  {
   "cell_type": "code",
   "execution_count": 9,
   "metadata": {
    "collapsed": true,
    "jupyter": {
     "outputs_hidden": true
    },
    "tags": []
   },
   "outputs": [
    {
     "data": {
      "text/plain": [
       "array([[[0.01176471, 0.01176471, 0.01176471, ..., 0.00784314,\n",
       "         0.01176471, 0.01176471],\n",
       "        [0.00784314, 0.01176471, 0.01176471, ..., 0.01176471,\n",
       "         0.01176471, 0.01176471],\n",
       "        [0.01176471, 0.01176471, 0.01176471, ..., 0.01176471,\n",
       "         0.01176471, 0.01176471],\n",
       "        ...,\n",
       "        [0.03529412, 0.03529412, 0.04313726, ..., 0.04705882,\n",
       "         0.04705882, 0.04705882],\n",
       "        [0.03529412, 0.03137255, 0.03137255, ..., 0.04705882,\n",
       "         0.04705882, 0.04705882],\n",
       "        [0.03529412, 0.03529412, 0.03137255, ..., 0.04705882,\n",
       "         0.04313726, 0.03921569]],\n",
       "\n",
       "       [[0.        , 0.        , 0.        , ..., 0.        ,\n",
       "         0.        , 0.        ],\n",
       "        [0.        , 0.        , 0.        , ..., 0.        ,\n",
       "         0.        , 0.        ],\n",
       "        [0.        , 0.        , 0.        , ..., 0.        ,\n",
       "         0.        , 0.        ],\n",
       "        ...,\n",
       "        [0.        , 0.        , 0.        , ..., 0.        ,\n",
       "         0.        , 0.        ],\n",
       "        [0.        , 0.        , 0.        , ..., 0.        ,\n",
       "         0.        , 0.        ],\n",
       "        [0.        , 0.        , 0.        , ..., 0.        ,\n",
       "         0.        , 0.        ]],\n",
       "\n",
       "       [[0.        , 0.        , 0.        , ..., 0.        ,\n",
       "         0.        , 0.        ],\n",
       "        [0.        , 0.        , 0.        , ..., 0.        ,\n",
       "         0.        , 0.        ],\n",
       "        [0.        , 0.        , 0.        , ..., 0.        ,\n",
       "         0.        , 0.        ],\n",
       "        ...,\n",
       "        [0.        , 0.        , 0.        , ..., 0.        ,\n",
       "         0.        , 0.        ],\n",
       "        [0.        , 0.        , 0.        , ..., 0.        ,\n",
       "         0.        , 0.        ],\n",
       "        [0.        , 0.        , 0.        , ..., 0.        ,\n",
       "         0.        , 0.        ]],\n",
       "\n",
       "       ...,\n",
       "\n",
       "       [[0.00392157, 0.00392157, 0.00392157, ..., 0.00392157,\n",
       "         0.00392157, 0.00392157],\n",
       "        [0.00392157, 0.00392157, 0.00392157, ..., 0.00392157,\n",
       "         0.00392157, 0.00392157],\n",
       "        [0.00392157, 0.00392157, 0.00392157, ..., 0.00392157,\n",
       "         0.00392157, 0.00392157],\n",
       "        ...,\n",
       "        [0.00392157, 0.00392157, 0.00392157, ..., 0.00392157,\n",
       "         0.00392157, 0.00392157],\n",
       "        [0.00392157, 0.00392157, 0.00392157, ..., 0.00392157,\n",
       "         0.00392157, 0.00392157],\n",
       "        [0.00392157, 0.00392157, 0.00392157, ..., 0.00392157,\n",
       "         0.00392157, 0.00392157]],\n",
       "\n",
       "       [[0.01176471, 0.01176471, 0.01176471, ..., 0.01176471,\n",
       "         0.00784314, 0.01176471],\n",
       "        [0.01176471, 0.01176471, 0.00784314, ..., 0.00784314,\n",
       "         0.00784314, 0.01176471],\n",
       "        [0.01176471, 0.01176471, 0.00784314, ..., 0.00784314,\n",
       "         0.01176471, 0.01176471],\n",
       "        ...,\n",
       "        [0.00392157, 0.00392157, 0.00392157, ..., 0.00784314,\n",
       "         0.00784314, 0.00784314],\n",
       "        [0.00392157, 0.00392157, 0.00392157, ..., 0.00392157,\n",
       "         0.00392157, 0.00392157],\n",
       "        [0.        , 0.        , 0.        , ..., 0.00392157,\n",
       "         0.00392157, 0.00392157]],\n",
       "\n",
       "       [[0.        , 0.        , 0.        , ..., 0.        ,\n",
       "         0.        , 0.        ],\n",
       "        [0.        , 0.        , 0.        , ..., 0.        ,\n",
       "         0.        , 0.        ],\n",
       "        [0.        , 0.        , 0.        , ..., 0.        ,\n",
       "         0.        , 0.        ],\n",
       "        ...,\n",
       "        [0.00392157, 0.        , 0.00392157, ..., 0.00392157,\n",
       "         0.00392157, 0.00392157],\n",
       "        [0.00392157, 0.        , 0.00392157, ..., 0.00392157,\n",
       "         0.00392157, 0.00392157],\n",
       "        [0.00392157, 0.        , 0.00392157, ..., 0.00392157,\n",
       "         0.00392157, 0.00392157]]], dtype=float32)"
      ]
     },
     "execution_count": 9,
     "metadata": {},
     "output_type": "execute_result"
    }
   ],
   "source": [
    "x_train"
   ]
  },
  {
   "cell_type": "code",
   "execution_count": 10,
   "metadata": {
    "collapsed": true,
    "jupyter": {
     "outputs_hidden": true
    },
    "tags": []
   },
   "outputs": [
    {
     "data": {
      "text/plain": [
       "array([[0., 0., 0., 1.],\n",
       "       [0., 0., 0., 1.],\n",
       "       [0., 0., 0., 1.],\n",
       "       ...,\n",
       "       [0., 1., 0., 0.],\n",
       "       [0., 0., 0., 1.],\n",
       "       [1., 0., 0., 0.]], dtype=float32)"
      ]
     },
     "execution_count": 10,
     "metadata": {},
     "output_type": "execute_result"
    }
   ],
   "source": [
    "y_train"
   ]
  },
  {
   "cell_type": "code",
   "execution_count": 19,
   "metadata": {},
   "outputs": [],
   "source": [
    "with tf.device('/CPU:0'):\n",
    "    train_ds = tf.data.Dataset.from_tensor_slices((x_train, y_train))\n",
    "    test_ds = tf.data.Dataset.from_tensor_slices((x_test, y_test))"
   ]
  },
  {
   "cell_type": "code",
   "execution_count": 20,
   "metadata": {},
   "outputs": [],
   "source": [
    "batch_size= 32\n",
    "\n",
    "def configure_for_performance(ds):\n",
    "  ds = ds.cache()\n",
    "  ds = ds.shuffle(buffer_size=1000)\n",
    "  ds = ds.batch(batch_size)\n",
    "  ds = ds.prefetch(buffer_size=tf.data.AUTOTUNE)\n",
    "  return ds\n",
    "\n",
    "\"\"\"Also btw you can unbatch using .unbatch() method\"\"\"\n",
    "train_ds_rgb_final = configure_for_performance(train_ds)\n",
    "test_ds_rgb_final = configure_for_performance(test_ds)"
   ]
  },
  {
   "cell_type": "code",
   "execution_count": 23,
   "metadata": {},
   "outputs": [
    {
     "name": "stdout",
     "output_type": "stream",
     "text": [
      "(32, 240, 240)\n",
      "(32, 4)\n",
      "(32, 240, 240)\n",
      "(32, 4)\n"
     ]
    }
   ],
   "source": [
    "# Example usage of the transformed datasets\n",
    "for image_batch, label in train_ds_rgb_final.take(1):\n",
    "    # print(image)  # Should print (height, width, 3)\n",
    "    print(image_batch.shape)  # Should print (height, width, 3)\n",
    "    print(label.shape)  # Print the label of the image\n",
    "\n",
    "for image, label in test_ds_rgb_final.take(1):\n",
    "    # print(image)  # Should print (height, width, 3)\n",
    "    print(image.shape)  # Should print (height, width, 3)\n",
    "    print(label.shape)  # Print the label of the image"
   ]
  },
  {
   "cell_type": "code",
   "execution_count": 25,
   "metadata": {
    "tags": []
   },
   "outputs": [
    {
     "name": "stdout",
     "output_type": "stream",
     "text": [
      "Model: \"sequential_1\"\n",
      "_________________________________________________________________\n",
      " Layer (type)                Output Shape              Param #   \n",
      "=================================================================\n",
      " conv2d_4 (Conv2D)           (None, 240, 240, 32)      832       \n",
      "                                                                 \n",
      " max_pooling2d_4 (MaxPooling  (None, 120, 120, 32)     0         \n",
      " 2D)                                                             \n",
      "                                                                 \n",
      " conv2d_5 (Conv2D)           (None, 120, 120, 32)      9248      \n",
      "                                                                 \n",
      " max_pooling2d_5 (MaxPooling  (None, 60, 60, 32)       0         \n",
      " 2D)                                                             \n",
      "                                                                 \n",
      " conv2d_6 (Conv2D)           (None, 60, 60, 32)        9248      \n",
      "                                                                 \n",
      " max_pooling2d_6 (MaxPooling  (None, 30, 30, 32)       0         \n",
      " 2D)                                                             \n",
      "                                                                 \n",
      " conv2d_7 (Conv2D)           (None, 30, 30, 64)        18496     \n",
      "                                                                 \n",
      " max_pooling2d_7 (MaxPooling  (None, 15, 15, 64)       0         \n",
      " 2D)                                                             \n",
      "                                                                 \n",
      " flatten_1 (Flatten)         (None, 14400)             0         \n",
      "                                                                 \n",
      " dense_2 (Dense)             (None, 128)               1843328   \n",
      "                                                                 \n",
      " dropout_1 (Dropout)         (None, 128)               0         \n",
      "                                                                 \n",
      " dense_3 (Dense)             (None, 4)                 516       \n",
      "                                                                 \n",
      "=================================================================\n",
      "Total params: 1,881,668\n",
      "Trainable params: 1,881,668\n",
      "Non-trainable params: 0\n",
      "_________________________________________________________________\n"
     ]
    }
   ],
   "source": [
    "import tensorflow as tf\n",
    "from tensorflow.keras import layers, models\n",
    "\n",
    "# Define the CNN model with dropout layers\n",
    "def create_model_with_dropout(input_shape=(240, 240, 1), num_classes=4):\n",
    "    model = models.Sequential()\n",
    "    \n",
    "    # Convolutional layers\n",
    "    model.add(layers.Conv2D(32, (5, 5), activation='relu', input_shape=input_shape, padding = 'same'))\n",
    "    model.add(layers.MaxPooling2D((2, 2)))\n",
    "    \n",
    "    model.add(layers.Conv2D(32, (3, 3), activation='relu', padding = 'same'))\n",
    "    model.add(layers.MaxPooling2D((2, 2)))\n",
    "\n",
    "    model.add(layers.Conv2D(32, (3, 3), activation='relu', padding = 'same'))\n",
    "    model.add(layers.MaxPooling2D((2, 2)))\n",
    "    \n",
    "    model.add(layers.Conv2D(64, (3, 3), activation='relu', padding = 'same'))\n",
    "    model.add(layers.MaxPooling2D((2, 2)))\n",
    "    \n",
    "    # Flatten layer\n",
    "    model.add(layers.Flatten())\n",
    "    \n",
    "    # Dense layers\n",
    "    model.add(layers.Dense(128, activation='relu'))\n",
    "    model.add(layers.Dropout(0.5))  # Dropout layer\n",
    "    model.add(layers.Dense(4, activation='sigmoid'))\n",
    "    # 6/17/2024 try softmax\n",
    "    #model.add(layers.Dense(4, activation='softmax'))\n",
    "    \n",
    "    return model\n",
    "\n",
    "# Create an instance of the model\n",
    "model = create_model_with_dropout()\n",
    "\n",
    "# Print model summary\n",
    "model.summary()"
   ]
  },
  {
   "cell_type": "code",
   "execution_count": 26,
   "metadata": {
    "tags": []
   },
   "outputs": [],
   "source": [
    "model.compile(loss='categorical_crossentropy',optimizer = 'Adam', metrics= ['accuracy'])"
   ]
  },
  {
   "cell_type": "code",
   "execution_count": 15,
   "metadata": {},
   "outputs": [
    {
     "data": {
      "text/plain": [
       "[PhysicalDevice(name='/physical_device:CPU:0', device_type='CPU'),\n",
       " PhysicalDevice(name='/physical_device:GPU:0', device_type='GPU')]"
      ]
     },
     "execution_count": 15,
     "metadata": {},
     "output_type": "execute_result"
    }
   ],
   "source": [
    "tf.config.list_physical_devices()"
   ]
  },
  {
   "cell_type": "code",
   "execution_count": 28,
   "metadata": {},
   "outputs": [
    {
     "name": "stdout",
     "output_type": "stream",
     "text": [
      "Epoch 1/12\n",
      "332/332 [==============================] - 30s 71ms/step - loss: 1.2324 - accuracy: 0.3865 - val_loss: 0.9119 - val_accuracy: 0.6242\n",
      "Epoch 2/12\n",
      "332/332 [==============================] - 22s 67ms/step - loss: 0.9105 - accuracy: 0.6090 - val_loss: 0.7585 - val_accuracy: 0.7018\n",
      "Epoch 3/12\n",
      "332/332 [==============================] - 22s 67ms/step - loss: 0.7796 - accuracy: 0.6792 - val_loss: 0.5579 - val_accuracy: 0.8107\n",
      "Epoch 4/12\n",
      "332/332 [==============================] - 22s 67ms/step - loss: 0.6832 - accuracy: 0.7199 - val_loss: 0.5118 - val_accuracy: 0.8185\n",
      "Epoch 5/12\n",
      "332/332 [==============================] - 23s 68ms/step - loss: 0.5843 - accuracy: 0.7658 - val_loss: 0.4007 - val_accuracy: 0.8555\n",
      "Epoch 6/12\n",
      "332/332 [==============================] - 23s 68ms/step - loss: 0.5071 - accuracy: 0.8025 - val_loss: 0.3400 - val_accuracy: 0.8641\n",
      "Epoch 7/12\n",
      "332/332 [==============================] - 23s 68ms/step - loss: 0.4163 - accuracy: 0.8360 - val_loss: 0.2709 - val_accuracy: 0.8890\n",
      "Epoch 8/12\n",
      "332/332 [==============================] - 23s 68ms/step - loss: 0.3674 - accuracy: 0.8555 - val_loss: 0.2892 - val_accuracy: 0.8754\n",
      "Epoch 9/12\n",
      "332/332 [==============================] - 23s 68ms/step - loss: 0.3227 - accuracy: 0.8788 - val_loss: 0.2481 - val_accuracy: 0.9068\n",
      "Epoch 10/12\n",
      "332/332 [==============================] - 23s 68ms/step - loss: 0.2839 - accuracy: 0.8936 - val_loss: 0.2228 - val_accuracy: 0.9117\n",
      "Epoch 11/12\n",
      "332/332 [==============================] - 23s 68ms/step - loss: 0.2419 - accuracy: 0.9078 - val_loss: 0.2334 - val_accuracy: 0.9203\n",
      "Epoch 12/12\n",
      "332/332 [==============================] - 23s 68ms/step - loss: 0.2086 - accuracy: 0.9175 - val_loss: 0.1952 - val_accuracy: 0.9345\n"
     ]
    }
   ],
   "source": [
    "history = model.fit(train_ds_rgb_final, epochs=12, validation_data=test_ds_rgb_final)"
   ]
  },
  {
   "cell_type": "code",
   "execution_count": 29,
   "metadata": {},
   "outputs": [
    {
     "data": {
      "image/png": "[encoded data removed]",
      "text/plain": [
       "<Figure size 1400x600 with 2 Axes>"
      ]
     },
     "metadata": {},
     "output_type": "display_data"
    }
   ],
   "source": [
    "import matplotlib.pyplot as plt\n",
    "\n",
    "acc2 = history.history['accuracy']\n",
    "val_acc = history.history['val_accuracy']\n",
    "loss2 = history.history['loss']\n",
    "val_loss = history.history['val_loss']\n",
    " \n",
    "epochs = range(1,len(acc2)+1)\n",
    " \n",
    "# Creating subplots\n",
    "fig, axes = plt.subplots(nrows=1, ncols=2, figsize=(14,6))\n",
    " \n",
    "axes[0].plot(epochs, acc2,'b',label='Train Accuracy')\n",
    "axes[0].plot(epochs, val_acc,'r',label='Test Accuracy')\n",
    "axes[0].set_xlabel('Epoch')\n",
    "axes[0].set_ylabel('Accuracy')\n",
    "axes[0].legend()\n",
    " \n",
    "axes[1].plot(epochs, loss2,'b',label='Train Loss')\n",
    "axes[1].plot(epochs, val_loss,'r',label='Test Loss')\n",
    "axes[1].set_xlabel('Epoch')\n",
    "axes[1].set_ylabel('Loss')\n",
    "axes[1].legend()\n",
    " \n",
    "# Adjusting layout for better spacing\n",
    "plt.tight_layout()\n",
    " \n",
    "# Display the figure\n",
    "plt.show()"
   ]
  },
  {
   "cell_type": "code",
   "execution_count": 61,
   "metadata": {},
   "outputs": [
    {
     "name": "stdout",
     "output_type": "stream",
     "text": [
      "44/44 [==============================] - 1s 19ms/step\n",
      "[0 0 0 ... 0 0 0]\n",
      "              precision    recall  f1-score   support\n",
      "\n",
      "     Class 0       0.90      0.92      0.91       309\n",
      "     Class 1       0.90      0.89      0.89       335\n",
      "     Class 2       0.97      0.96      0.96       399\n",
      "     Class 3       0.94      0.95      0.95       362\n",
      "\n",
      "    accuracy                           0.93      1405\n",
      "   macro avg       0.93      0.93      0.93      1405\n",
      "weighted avg       0.93      0.93      0.93      1405\n",
      "\n"
     ]
    }
   ],
   "source": [
    "import numpy as np\n",
    "from sklearn.metrics import classification_report\n",
    "\n",
    "predict_x = model.predict(x_test)\n",
    "predict1 = np.argmax(predict_x, axis = 1)\n",
    "print(predict1)\n",
    "\n",
    "target_names = [\"Class {}\".format(i) for i in range(4)]\n",
    "print(classification_report(np.array([int(class_) for class_ in Y_test]), predict1, target_names = target_names))"
   ]
  },
  {
   "cell_type": "code",
   "execution_count": 1,
   "metadata": {
    "tags": []
   },
   "outputs": [
    {
     "name": "stdout",
     "output_type": "stream",
     "text": [
      "Requirement already satisfied: keras-tuner in /opt/conda/lib/python3.10/site-packages (1.4.7)\n",
      "Requirement already satisfied: keras in /opt/conda/lib/python3.10/site-packages (from keras-tuner) (3.3.3)\n",
      "Requirement already satisfied: packaging in /opt/conda/lib/python3.10/site-packages (from keras-tuner) (24.0)\n",
      "Requirement already satisfied: requests in /opt/conda/lib/python3.10/site-packages (from keras-tuner) (2.31.0)\n",
      "Requirement already satisfied: kt-legacy in /opt/conda/lib/python3.10/site-packages (from keras-tuner) (1.0.5)\n",
      "Requirement already satisfied: absl-py in /opt/conda/lib/python3.10/site-packages (from keras->keras-tuner) (1.4.0)\n",
      "Requirement already satisfied: numpy in /opt/conda/lib/python3.10/site-packages (from keras->keras-tuner) (1.24.4)\n",
      "Requirement already satisfied: rich in /opt/conda/lib/python3.10/site-packages (from keras->keras-tuner) (13.7.1)\n",
      "Requirement already satisfied: namex in /opt/conda/lib/python3.10/site-packages (from keras->keras-tuner) (0.0.8)\n",
      "Requirement already satisfied: h5py in /opt/conda/lib/python3.10/site-packages (from keras->keras-tuner) (3.11.0)\n",
      "Requirement already satisfied: optree in /opt/conda/lib/python3.10/site-packages (from keras->keras-tuner) (0.11.0)\n",
      "Requirement already satisfied: ml-dtypes in /opt/conda/lib/python3.10/site-packages (from keras->keras-tuner) (0.3.2)\n",
      "Requirement already satisfied: charset-normalizer<4,>=2 in /opt/conda/lib/python3.10/site-packages (from requests->keras-tuner) (3.3.2)\n",
      "Requirement already satisfied: idna<4,>=2.5 in /opt/conda/lib/python3.10/site-packages (from requests->keras-tuner) (3.7)\n",
      "Requirement already satisfied: urllib3<3,>=1.21.1 in /opt/conda/lib/python3.10/site-packages (from requests->keras-tuner) (1.26.18)\n",
      "Requirement already satisfied: certifi>=2017.4.17 in /opt/conda/lib/python3.10/site-packages (from requests->keras-tuner) (2024.2.2)\n",
      "Requirement already satisfied: typing-extensions>=4.0.0 in /opt/conda/lib/python3.10/site-packages (from optree->keras->keras-tuner) (4.11.0)\n",
      "Requirement already satisfied: markdown-it-py>=2.2.0 in /opt/conda/lib/python3.10/site-packages (from rich->keras->keras-tuner) (3.0.0)\n",
      "Requirement already satisfied: pygments<3.0.0,>=2.13.0 in /opt/conda/lib/python3.10/site-packages (from rich->keras->keras-tuner) (2.18.0)\n",
      "Requirement already satisfied: mdurl~=0.1 in /opt/conda/lib/python3.10/site-packages (from markdown-it-py>=2.2.0->rich->keras->keras-tuner) (0.1.2)\n",
      "Note: you may need to restart the kernel to use updated packages.\n"
     ]
    }
   ],
   "source": [
    "pip install keras-tuner"
   ]
  },
  {
   "cell_type": "code",
   "execution_count": 46,
   "metadata": {
    "tags": []
   },
   "outputs": [],
   "source": [
    "import tensorflow\n",
    "import keras_tuner\n",
    "import "
   ]
  },
  {
   "cell_type": "code",
   "execution_count": 44,
   "metadata": {
    "tags": []
   },
   "outputs": [],
   "source": [
    "from tensorflow.keras.models import Sequential\n",
    "from tensorflow.keras.layers import Conv2D, MaxPooling2D, Flatten, Dense, Dropout\n",
    "from kerastuner import HyperModel\n",
    "\n",
    "def build_model(hp):\n",
    "    model = models.Sequential()\n",
    "    \n",
    "    # Convolutional layers\n",
    "    # max_value set to 32 cause if the first two layer too big the model accuracy will be very low\n",
    "    model.add(layers.Conv2D(\n",
    "        filters=hp.Int('conv_1_filter', min_value=32, max_value=32, step=32),\n",
    "        kernel_size=hp.Choice('conv_1_kernel', values=[3, 5]),\n",
    "        activation='relu',\n",
    "        input_shape=(240, 240, 1),\n",
    "        padding='same'\n",
    "    ))\n",
    "    model.add(layers.MaxPooling2D((2, 2)))\n",
    "    # same as layer 1\n",
    "    model.add(layers.Conv2D(\n",
    "        filters=hp.Int('conv_2_filter', min_value=32, max_value=32, step=32),\n",
    "        kernel_size=hp.Choice('conv_2_kernel', values=[3, 5]),\n",
    "        activation='relu',\n",
    "        padding='same'\n",
    "    ))\n",
    "    model.add(layers.MaxPooling2D((2, 2)))\n",
    "    \n",
    "    model.add(layers.Conv2D(\n",
    "        filters=hp.Int('conv_3_filter', min_value=32, max_value=64, step=32),\n",
    "        kernel_size=hp.Choice('conv_3_kernel', values=[3, 5]),\n",
    "        activation='relu',\n",
    "        padding='same'\n",
    "    ))\n",
    "    model.add(layers.MaxPooling2D((2, 2)))\n",
    "    \n",
    "    model.add(layers.Conv2D(\n",
    "        filters=hp.Int('conv_4_filter', min_value=64, max_value=128, step=64),\n",
    "        kernel_size=hp.Choice('conv_4_kernel', values=[3, 5]),\n",
    "        activation='relu',\n",
    "        padding='same'\n",
    "    ))\n",
    "    model.add(layers.MaxPooling2D((2, 2)))\n",
    "    \n",
    "    # Flatten layer\n",
    "    model.add(layers.Flatten())\n",
    "    \n",
    "    # Dense layers\n",
    "    model.add(layers.Dense(\n",
    "        units=hp.Int('dense_units', min_value=64, max_value=128, step=64),\n",
    "        activation='relu'\n",
    "    ))\n",
    "    model.add(layers.Dropout(hp.Float('dropout', min_value=0.1, max_value=0.5, step=0.1)))\n",
    "    \n",
    "    model.add(layers.Dense(4, activation = hp.Choice('output_activation', values=['softmax', 'sigmoid'])))\n",
    "    \n",
    "    model.compile(\n",
    "        optimizer=hp.Choice('optimizer', values=['adam']),\n",
    "        loss='categorical_crossentropy',\n",
    "        metrics=['accuracy']\n",
    "    )\n",
    "    model.summary()\n",
    "    return model"
   ]
  },
  {
   "cell_type": "code",
   "execution_count": 47,
   "metadata": {
    "tags": []
   },
   "outputs": [
    {
     "name": "stdout",
     "output_type": "stream",
     "text": [
      "Model: \"sequential_5\"\n",
      "_________________________________________________________________\n",
      " Layer (type)                Output Shape              Param #   \n",
      "=================================================================\n",
      " conv2d_20 (Conv2D)          (None, 240, 240, 32)      320       \n",
      "                                                                 \n",
      " max_pooling2d_20 (MaxPoolin  (None, 120, 120, 32)     0         \n",
      " g2D)                                                            \n",
      "                                                                 \n",
      " conv2d_21 (Conv2D)          (None, 120, 120, 32)      9248      \n",
      "                                                                 \n",
      " max_pooling2d_21 (MaxPoolin  (None, 60, 60, 32)       0         \n",
      " g2D)                                                            \n",
      "                                                                 \n",
      " conv2d_22 (Conv2D)          (None, 60, 60, 32)        9248      \n",
      "                                                                 \n",
      " max_pooling2d_22 (MaxPoolin  (None, 30, 30, 32)       0         \n",
      " g2D)                                                            \n",
      "                                                                 \n",
      " conv2d_23 (Conv2D)          (None, 30, 30, 64)        18496     \n",
      "                                                                 \n",
      " max_pooling2d_23 (MaxPoolin  (None, 15, 15, 64)       0         \n",
      " g2D)                                                            \n",
      "                                                                 \n",
      " flatten_5 (Flatten)         (None, 14400)             0         \n",
      "                                                                 \n",
      " dense_10 (Dense)            (None, 64)                921664    \n",
      "                                                                 \n",
      " dropout_5 (Dropout)         (None, 64)                0         \n",
      "                                                                 \n",
      " dense_11 (Dense)            (None, 4)                 260       \n",
      "                                                                 \n",
      "=================================================================\n",
      "Total params: 959,236\n",
      "Trainable params: 959,236\n",
      "Non-trainable params: 0\n",
      "_________________________________________________________________\n"
     ]
    }
   ],
   "source": [
    "# Define the tuner\n",
    "tuner_random_3 = keras_tuner.RandomSearch(\n",
    "    build_model,\n",
    "    objective='val_accuracy',\n",
    "    max_trials=10,\n",
    "    executions_per_trial=1,\n",
    "    directory='random_search_dir_3',\n",
    "    project_name='cnn_hyperparameter'\n",
    ")"
   ]
  },
  {
   "cell_type": "code",
   "execution_count": 48,
   "metadata": {
    "tags": []
   },
   "outputs": [
    {
     "name": "stdout",
     "output_type": "stream",
     "text": [
      "Search space summary\n",
      "Default search space size: 12\n",
      "conv_1_filter (Int)\n",
      "{'default': None, 'conditions': [], 'min_value': 32, 'max_value': 32, 'step': 32, 'sampling': 'linear'}\n",
      "conv_1_kernel (Choice)\n",
      "{'default': 3, 'conditions': [], 'values': [3, 5], 'ordered': True}\n",
      "conv_2_filter (Int)\n",
      "{'default': None, 'conditions': [], 'min_value': 32, 'max_value': 32, 'step': 32, 'sampling': 'linear'}\n",
      "conv_2_kernel (Choice)\n",
      "{'default': 3, 'conditions': [], 'values': [3, 5], 'ordered': True}\n",
      "conv_3_filter (Int)\n",
      "{'default': None, 'conditions': [], 'min_value': 32, 'max_value': 64, 'step': 32, 'sampling': 'linear'}\n",
      "conv_3_kernel (Choice)\n",
      "{'default': 3, 'conditions': [], 'values': [3, 5], 'ordered': True}\n",
      "conv_4_filter (Int)\n",
      "{'default': None, 'conditions': [], 'min_value': 64, 'max_value': 128, 'step': 64, 'sampling': 'linear'}\n",
      "conv_4_kernel (Choice)\n",
      "{'default': 3, 'conditions': [], 'values': [3, 5], 'ordered': True}\n",
      "dense_units (Int)\n",
      "{'default': None, 'conditions': [], 'min_value': 64, 'max_value': 128, 'step': 64, 'sampling': 'linear'}\n",
      "dropout (Float)\n",
      "{'default': 0.1, 'conditions': [], 'min_value': 0.1, 'max_value': 0.5, 'step': 0.1, 'sampling': 'linear'}\n",
      "output_activation (Choice)\n",
      "{'default': 'softmax', 'conditions': [], 'values': ['softmax', 'sigmoid'], 'ordered': False}\n",
      "optimizer (Choice)\n",
      "{'default': 'adam', 'conditions': [], 'values': ['adam'], 'ordered': False}\n"
     ]
    }
   ],
   "source": [
    "tuner_random_3.search_space_summary()"
   ]
  },
  {
   "cell_type": "code",
   "execution_count": 53,
   "metadata": {
    "tags": []
   },
   "outputs": [
    {
     "name": "stdout",
     "output_type": "stream",
     "text": [
      "Trial 10 Complete [00h 04m 28s]\n",
      "val_accuracy: 0.9416370391845703\n",
      "\n",
      "Best val_accuracy So Far: 0.9416370391845703\n",
      "Total elapsed time: 00h 56m 51s\n"
     ]
    }
   ],
   "source": [
    "# tuner_random_3.search(x_train, y_train, epochs=10, batch_size=16, validation_data=(x_test, y_test))\n",
    "tuner_random_3.search(\n",
    "    train_ds_rgb_final, \n",
    "    epochs=10, \n",
    "    validation_data=test_ds_rgb_final, \n",
    "    callbacks = [tf.keras.callbacks.TensorBoard(log_dir=\"./random_search_dir_3/tb_logs\", histogram_freq=1)],\n",
    "    )"
   ]
  },
  {
   "cell_type": "code",
   "execution_count": 66,
   "metadata": {
    "tags": []
   },
   "outputs": [
    {
     "name": "stdout",
     "output_type": "stream",
     "text": [
      "Model: \"sequential_3\"\n",
      "_________________________________________________________________\n",
      " Layer (type)                Output Shape              Param #   \n",
      "=================================================================\n",
      " conv2d_12 (Conv2D)          (None, 240, 240, 32)      320       \n",
      "                                                                 \n",
      " max_pooling2d_12 (MaxPoolin  (None, 120, 120, 32)     0         \n",
      " g2D)                                                            \n",
      "                                                                 \n",
      " conv2d_13 (Conv2D)          (None, 120, 120, 32)      25632     \n",
      "                                                                 \n",
      " max_pooling2d_13 (MaxPoolin  (None, 60, 60, 32)       0         \n",
      " g2D)                                                            \n",
      "                                                                 \n",
      " conv2d_14 (Conv2D)          (None, 60, 60, 32)        25632     \n",
      "                                                                 \n",
      " max_pooling2d_14 (MaxPoolin  (None, 30, 30, 32)       0         \n",
      " g2D)                                                            \n",
      "                                                                 \n",
      " conv2d_15 (Conv2D)          (None, 30, 30, 64)        18496     \n",
      "                                                                 \n",
      " max_pooling2d_15 (MaxPoolin  (None, 15, 15, 64)       0         \n",
      " g2D)                                                            \n",
      "                                                                 \n",
      " flatten_3 (Flatten)         (None, 14400)             0         \n",
      "                                                                 \n",
      " dense_6 (Dense)             (None, 128)               1843328   \n",
      "                                                                 \n",
      " dropout_3 (Dropout)         (None, 128)               0         \n",
      "                                                                 \n",
      " dense_7 (Dense)             (None, 4)                 516       \n",
      "                                                                 \n",
      "=================================================================\n",
      "Total params: 1,913,924\n",
      "Trainable params: 1,913,924\n",
      "Non-trainable params: 0\n",
      "_________________________________________________________________\n"
     ]
    }
   ],
   "source": [
    "# Retrieve the best model\n",
    "# You need to retrieve the hyperparametre for training, not the model, cuz otherwise just train the model again which leads to overfitting\n",
    "best_hps = tuner_random_3.get_best_hyperparameters(num_trials=1)[0]\n",
    "best_model = tuner_random_3.hypermodel.build(best_hps)"
   ]
  },
  {
   "cell_type": "code",
   "execution_count": 62,
   "metadata": {},
   "outputs": [],
   "source": [
    "def zbest_model2(input_shape=(240, 240, 1), num_classes=4):\n",
    "    model = models.Sequential()\n",
    "    \n",
    "    # Convolutional layers\n",
    "    # max_value set to 32 cause if the first two layer too big the model accuracy will be very low\n",
    "    model.add(layers.Conv2D(\n",
    "        filters=32,\n",
    "        kernel_size=3,\n",
    "        activation='relu',\n",
    "        input_shape=(240, 240, 1),\n",
    "        padding='same'\n",
    "    ))\n",
    "    model.add(layers.MaxPooling2D((2, 2)))\n",
    "    # same as layer 1\n",
    "    model.add(layers.Conv2D(\n",
    "        filters=32,\n",
    "        kernel_size=5,\n",
    "        activation='relu',\n",
    "        padding='same'\n",
    "    ))\n",
    "    model.add(layers.MaxPooling2D((2, 2)))\n",
    "    \n",
    "    model.add(layers.Conv2D(\n",
    "        filters=32,\n",
    "        kernel_size=5,\n",
    "        activation='relu',\n",
    "        padding='same'\n",
    "    ))\n",
    "    model.add(layers.MaxPooling2D((2, 2)))\n",
    "    \n",
    "    model.add(layers.Conv2D(\n",
    "        filters=64,\n",
    "        kernel_size=3,\n",
    "        activation='relu',\n",
    "        padding='same'\n",
    "    ))\n",
    "    model.add(layers.MaxPooling2D((2, 2)))\n",
    "    \n",
    "    # Flatten layer\n",
    "    model.add(layers.Flatten())\n",
    "    \n",
    "    # Dense layers\n",
    "    model.add(layers.Dense(\n",
    "        units=128,\n",
    "        activation='relu'\n",
    "    ))\n",
    "    model.add(layers.Dropout(0.1))\n",
    "    \n",
    "    model.add(layers.Dense(4, activation = \"softmax\"))\n",
    "    \n",
    "    model.compile(\n",
    "        optimizer='adam',\n",
    "        loss='categorical_crossentropy',\n",
    "        metrics=['accuracy']\n",
    "    )\n",
    "    \n",
    "    return model"
   ]
  },
  {
   "cell_type": "code",
   "execution_count": 68,
   "metadata": {},
   "outputs": [
    {
     "name": "stdout",
     "output_type": "stream",
     "text": [
      "Model: \"sequential_4\"\n",
      "_________________________________________________________________\n",
      " Layer (type)                Output Shape              Param #   \n",
      "=================================================================\n",
      " conv2d_16 (Conv2D)          (None, 240, 240, 32)      320       \n",
      "                                                                 \n",
      " max_pooling2d_16 (MaxPoolin  (None, 120, 120, 32)     0         \n",
      " g2D)                                                            \n",
      "                                                                 \n",
      " conv2d_17 (Conv2D)          (None, 120, 120, 32)      25632     \n",
      "                                                                 \n",
      " max_pooling2d_17 (MaxPoolin  (None, 60, 60, 32)       0         \n",
      " g2D)                                                            \n",
      "                                                                 \n",
      " conv2d_18 (Conv2D)          (None, 60, 60, 32)        25632     \n",
      "                                                                 \n",
      " max_pooling2d_18 (MaxPoolin  (None, 30, 30, 32)       0         \n",
      " g2D)                                                            \n",
      "                                                                 \n",
      " conv2d_19 (Conv2D)          (None, 30, 30, 64)        18496     \n",
      "                                                                 \n",
      " max_pooling2d_19 (MaxPoolin  (None, 15, 15, 64)       0         \n",
      " g2D)                                                            \n",
      "                                                                 \n",
      " flatten_4 (Flatten)         (None, 14400)             0         \n",
      "                                                                 \n",
      " dense_8 (Dense)             (None, 128)               1843328   \n",
      "                                                                 \n",
      " dropout_4 (Dropout)         (None, 128)               0         \n",
      "                                                                 \n",
      " dense_9 (Dense)             (None, 4)                 516       \n",
      "                                                                 \n",
      "=================================================================\n",
      "Total params: 1,913,924\n",
      "Trainable params: 1,913,924\n",
      "Non-trainable params: 0\n",
      "_________________________________________________________________\n"
     ]
    }
   ],
   "source": [
    "best_modelz2 = zbest_model2()\n",
    "best_modelz2.summary()"
   ]
  },
  {
   "cell_type": "code",
   "execution_count": 69,
   "metadata": {},
   "outputs": [
    {
     "name": "stdout",
     "output_type": "stream",
     "text": [
      "Epoch 1/10\n",
      "332/332 [==============================] - 27s 80ms/step - loss: 0.9872 - accuracy: 0.5547 - val_loss: 0.7691 - val_accuracy: 0.6847\n",
      "Epoch 2/10\n",
      "332/332 [==============================] - 27s 80ms/step - loss: 0.7065 - accuracy: 0.7154 - val_loss: 0.5921 - val_accuracy: 0.7851\n",
      "Epoch 3/10\n",
      "332/332 [==============================] - 26s 79ms/step - loss: 0.5598 - accuracy: 0.7773 - val_loss: 0.4271 - val_accuracy: 0.8441\n",
      "Epoch 4/10\n",
      "332/332 [==============================] - 26s 79ms/step - loss: 0.4332 - accuracy: 0.8358 - val_loss: 0.2919 - val_accuracy: 0.8840\n",
      "Epoch 5/10\n",
      "332/332 [==============================] - 26s 80ms/step - loss: 0.3405 - accuracy: 0.8723 - val_loss: 0.2595 - val_accuracy: 0.9032\n",
      "Epoch 6/10\n",
      "332/332 [==============================] - 26s 78ms/step - loss: 0.2577 - accuracy: 0.8999 - val_loss: 0.2492 - val_accuracy: 0.9089\n",
      "Epoch 7/10\n",
      "332/332 [==============================] - 26s 78ms/step - loss: 0.1993 - accuracy: 0.9257 - val_loss: 0.2256 - val_accuracy: 0.9210\n",
      "Epoch 8/10\n",
      "332/332 [==============================] - 26s 79ms/step - loss: 0.1394 - accuracy: 0.9468 - val_loss: 0.1935 - val_accuracy: 0.9338\n",
      "Epoch 9/10\n",
      "332/332 [==============================] - 26s 79ms/step - loss: 0.1200 - accuracy: 0.9565 - val_loss: 0.2529 - val_accuracy: 0.9203\n",
      "Epoch 10/10\n",
      "332/332 [==============================] - 26s 79ms/step - loss: 0.0925 - accuracy: 0.9665 - val_loss: 0.2621 - val_accuracy: 0.9281\n"
     ]
    }
   ],
   "source": [
    "history = best_modelz2.fit(train_ds_rgb_final, epochs=10, validation_data=test_ds_rgb_final)"
   ]
  },
  {
   "cell_type": "code",
   "execution_count": 70,
   "metadata": {},
   "outputs": [
    {
     "data": {
      "image/png": "[encoded data removed]",
      "text/plain": [
       "<Figure size 1400x600 with 2 Axes>"
      ]
     },
     "metadata": {},
     "output_type": "display_data"
    }
   ],
   "source": [
    "import matplotlib.pyplot as plt\n",
    "\n",
    "acc2 = history.history['accuracy']\n",
    "val_acc = history.history['val_accuracy']\n",
    "loss2 = history.history['loss']\n",
    "val_loss = history.history['val_loss']\n",
    " \n",
    "epochs = range(1,len(acc2)+1)\n",
    " \n",
    "# Creating subplots\n",
    "fig, axes = plt.subplots(nrows=1, ncols=2, figsize=(14,6))\n",
    " \n",
    "axes[0].plot(epochs, acc2,'b',label='Train Accuracy')\n",
    "axes[0].plot(epochs, val_acc,'r',label='Test Accuracy')\n",
    "axes[0].set_xlabel('Epoch')\n",
    "axes[0].set_ylabel('Accuracy')\n",
    "axes[0].legend()\n",
    " \n",
    "axes[1].plot(epochs, loss2,'b',label='Train Loss')\n",
    "axes[1].plot(epochs, val_loss,'r',label='Test Loss')\n",
    "axes[1].set_xlabel('Epoch')\n",
    "axes[1].set_ylabel('Loss')\n",
    "axes[1].legend()\n",
    " \n",
    "# Adjusting layout for better spacing\n",
    "plt.tight_layout()\n",
    " \n",
    "# Display the figure\n",
    "plt.show()"
   ]
  },
  {
   "cell_type": "code",
   "execution_count": 71,
   "metadata": {},
   "outputs": [
    {
     "name": "stdout",
     "output_type": "stream",
     "text": [
      "44/44 [==============================] - 1s 18ms/step\n",
      "[1 0 2 ... 0 0 0]\n",
      "              precision    recall  f1-score   support\n",
      "\n",
      "     Class 0       0.97      0.84      0.90       309\n",
      "     Class 1       0.90      0.90      0.90       335\n",
      "     Class 2       0.97      0.97      0.97       399\n",
      "     Class 3       0.88      0.98      0.93       362\n",
      "\n",
      "    accuracy                           0.93      1405\n",
      "   macro avg       0.93      0.92      0.93      1405\n",
      "weighted avg       0.93      0.93      0.93      1405\n",
      "\n"
     ]
    }
   ],
   "source": [
    "import numpy as np\n",
    "from sklearn.metrics import classification_report\n",
    "\n",
    "predict_x = best_modelz2.predict(x_test)\n",
    "predict1 = np.argmax(predict_x, axis = 1)\n",
    "print(predict1)\n",
    "\n",
    "target_names = [\"Class {}\".format(i) for i in range(4)]\n",
    "print(classification_report(np.array([int(class_) for class_ in Y_test]), predict1, target_names = target_names))"
   ]
  },
  {
   "cell_type": "code",
   "execution_count": null,
   "metadata": {},
   "outputs": [],
   "source": []
  }
 ],
 "metadata": {
  "environment": {
   "kernel": "python3",
   "name": "tf2-gpu.2-15.m121",
   "type": "gcloud",
   "uri": "us-docker.pkg.dev/deeplearning-platform-release/gcr.io/tf2-gpu.2-15:m121"
  },
  "kernelspec": {
   "display_name": "Python 3 (Local)",
   "language": "python",
   "name": "python3"
  },
  "language_info": {
   "codemirror_mode": {
    "name": "ipython",
    "version": 3
   },
   "file_extension": ".py",
   "mimetype": "text/x-python",
   "name": "python",
   "nbconvert_exporter": "python",
   "pygments_lexer": "ipython3",
   "version": "3.10.14"
  }
 },
 "nbformat": 4,
 "nbformat_minor": 4
}
