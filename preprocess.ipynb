{
 "cells": [
  {
   "cell_type": "markdown",
   "metadata": {},
   "source": [
    "References:\n",
    "\n",
    "For Data Augmentation\n",
    "\n",
    "LA Tran, 13 August 2021, Data Augmentation Compilation with Python and OpenCV, Towards Data Science\n",
    "\n",
    "https://towardsdatascience.com/data-augmentation-compilation-with-python-and-opencv-b76b1cd500e0"
   ]
  },
  {
   "cell_type": "code",
   "execution_count": 1,
   "metadata": {},
   "outputs": [],
   "source": [
    "import pandas as pd\n",
    "import os\n",
    "import random\n",
    "from skimage import io\n",
    "import numpy as np\n",
    "import cv2\n",
    "import matplotlib.pyplot as plt\n",
    "import seaborn as sns\n",
    "sns.set_theme(style = \"dark\", \n",
    "        color_codes = True,\n",
    "        font_scale = 1.5)"
   ]
  },
  {
   "cell_type": "code",
   "execution_count": 3,
   "metadata": {},
   "outputs": [
    {
     "name": "stdout",
     "output_type": "stream",
     "text": [
      "\t [100.0 %] Fetching label 'pituitary'           \n",
      "{0: 'glioma', 1: 'meningioma', 2: 'notumor', 3: 'pituitary'}\n",
      "\t [100.0 %] Fetching label 'pituitary'           \n",
      "{0: 'glioma', 1: 'meningioma', 2: 'notumor', 3: 'pituitary'}\n"
     ]
    }
   ],
   "source": [
    "# load all images into a pandas dataframe\n",
    "def read_image_data(data_path, subset=False):\n",
    "\n",
    "    folders = sorted(os.listdir(data_path))\n",
    "    images, labels = [], []\n",
    "    label_dict = {}\n",
    "\n",
    "    for label_no in range(len(folders)):\n",
    "        folder = folders[label_no]\n",
    "        label_dict[label_no] = folder\n",
    "        oslistdir = sorted(os.listdir(os.path.join(os.getcwd(),data_path,folder))) \n",
    "        oslistdir = oslistdir[:10] if subset else oslistdir\n",
    "        \n",
    "        for image_name in oslistdir:\n",
    "            image_path = f\"{data_path}/{folders[label_no]}/{image_name}\"\n",
    "            image = io.imread(image_path)  \n",
    "            images.append(image)\n",
    "            labels.append(label_no)\n",
    "        \n",
    "        print(f\"\\t [{((label_no + 1)/len(folders)) * 100:.1f} %] Fetching label '{folder}'           \", end='\\r')\n",
    "            \n",
    "    print()\n",
    "    df = pd.DataFrame()\n",
    "    df['Image_Id'] = [i for i in range(len(images))]\n",
    "    df['Image'] = images\n",
    "    df['Label'] = labels\n",
    "    return df, label_dict\n",
    "\n",
    "# loading the folder image data and convert into nd array\n",
    "training_data, label_dict_Train = read_image_data(\"Training\")\n",
    "print(label_dict_Train)\n",
    "\n",
    "testing_data, label_dict_Test = read_image_data(\"Testing\")\n",
    "print(label_dict_Test)\n",
    "\n",
    "if label_dict_Train==label_dict_Test:\n",
    "    full_image_df = pd.concat([training_data,testing_data],ignore_index=True)"
   ]
  },
  {
   "cell_type": "code",
   "execution_count": 4,
   "metadata": {},
   "outputs": [
    {
     "ename": "ValueError",
     "evalue": "not enough values to unpack (expected 3, got 2)",
     "output_type": "error",
     "traceback": [
      "\u001b[1;31m---------------------------------------------------------------------------\u001b[0m",
      "\u001b[1;31mValueError\u001b[0m                                Traceback (most recent call last)",
      "Cell \u001b[1;32mIn[4], line 4\u001b[0m\n\u001b[0;32m      1\u001b[0m \u001b[38;5;28;01mfrom\u001b[39;00m \u001b[38;5;21;01mskimage\u001b[39;00m\u001b[38;5;21;01m.\u001b[39;00m\u001b[38;5;21;01mcolor\u001b[39;00m \u001b[38;5;28;01mimport\u001b[39;00m rgb2gray\n\u001b[0;32m      3\u001b[0m full_image_df[\u001b[38;5;124m\"\u001b[39m\u001b[38;5;124mDim\u001b[39m\u001b[38;5;124m\"\u001b[39m] \u001b[38;5;241m=\u001b[39m full_image_df[\u001b[38;5;124m\"\u001b[39m\u001b[38;5;124mImage\u001b[39m\u001b[38;5;124m\"\u001b[39m]\u001b[38;5;241m.\u001b[39mapply(np\u001b[38;5;241m.\u001b[39mshape)\n\u001b[1;32m----> 4\u001b[0m full_image_df[\u001b[38;5;124m'\u001b[39m\u001b[38;5;124mwidth\u001b[39m\u001b[38;5;124m'\u001b[39m], full_image_df[\u001b[38;5;124m'\u001b[39m\u001b[38;5;124mheight\u001b[39m\u001b[38;5;124m'\u001b[39m], _ \u001b[38;5;241m=\u001b[39m \u001b[38;5;28mzip\u001b[39m(\u001b[38;5;241m*\u001b[39mfull_image_df\u001b[38;5;241m.\u001b[39mDim) \u001b[38;5;66;03m# * <- unpacks the array's elements\u001b[39;00m\n\u001b[0;32m      5\u001b[0m full_image_df[\u001b[38;5;124m'\u001b[39m\u001b[38;5;124mgreyscale_image\u001b[39m\u001b[38;5;124m'\u001b[39m] \u001b[38;5;241m=\u001b[39m full_image_df[\u001b[38;5;124m\"\u001b[39m\u001b[38;5;124mImage\u001b[39m\u001b[38;5;124m\"\u001b[39m]\u001b[38;5;241m.\u001b[39mapply(rgb2gray)\n\u001b[0;32m      6\u001b[0m full_image_df\n",
      "\u001b[1;31mValueError\u001b[0m: not enough values to unpack (expected 3, got 2)"
     ]
    }
   ],
   "source": [
    "from skimage.color import rgb2gray\n",
    "\n",
    "full_image_df[\"Dim\"] = full_image_df[\"Image\"].apply(np.shape)\n",
    "full_image_df['width'], full_image_df['height'], _ = zip(*full_image_df.Dim) # * <- unpacks the array's elements\n",
    "full_image_df['greyscale_image'] = full_image_df[\"Image\"].apply(rgb2gray)\n",
    "full_image_df"
   ]
  },
  {
   "cell_type": "markdown",
   "metadata": {},
   "source": [
    "# Data Augmentation\n",
    "\n",
    "- increase the sample to approximately 3000 instances per class\n",
    "- color jitter/noise/filter"
   ]
  },
  {
   "cell_type": "code",
   "execution_count": 3,
   "metadata": {},
   "outputs": [
    {
     "data": {
      "text/plain": [
       "1    937\n",
       "0    926\n",
       "3    901\n",
       "2    500\n",
       "Name: Label, dtype: int64"
      ]
     },
     "execution_count": 3,
     "metadata": {},
     "output_type": "execute_result"
    }
   ],
   "source": [
    "full_image_df['Label'].value_counts()"
   ]
  },
  {
   "cell_type": "code",
   "execution_count": 5,
   "metadata": {},
   "outputs": [
    {
     "data": {
      "text/plain": [
       "True"
      ]
     },
     "execution_count": 5,
     "metadata": {},
     "output_type": "execute_result"
    }
   ],
   "source": [
    "# gaussian noise\n",
    "image = cv2.imread(r'D:\\Users\\dxlee\\DX_degree\\Y3S2\\ODL\\working-dir\\brain-tumor\\Testing\\no_tumor\\image(90).jpg')\n",
    "mean=0\n",
    "st=0.7\n",
    "gauss = np.random.normal(mean,st,image.shape)\n",
    "gauss = gauss.astype('uint8')\n",
    "image = cv2.add(image,gauss)\n",
    "cv2.imwrite(\"gaussian_noise.jpg\", image)"
   ]
  },
  {
   "cell_type": "code",
   "execution_count": 6,
   "metadata": {},
   "outputs": [
    {
     "data": {
      "text/plain": [
       "True"
      ]
     },
     "execution_count": 6,
     "metadata": {},
     "output_type": "execute_result"
    }
   ],
   "source": [
    "# salt/pepper noise\n",
    "image = cv2.imread(r'D:\\Users\\dxlee\\DX_degree\\Y3S2\\ODL\\working-dir\\brain-tumor\\Testing\\no_tumor\\image(90).jpg')\n",
    "prob = 0.05\n",
    "if len(image.shape) == 2:\n",
    "    black = 0\n",
    "    white = 255            \n",
    "else:\n",
    "    colorspace = image.shape[2]\n",
    "    if colorspace == 3:  # RGB\n",
    "        black = np.array([0, 0, 0], dtype='uint8')\n",
    "        white = np.array([255, 255, 255], dtype='uint8')\n",
    "    else:  # RGBA\n",
    "        black = np.array([0, 0, 0, 255], dtype='uint8')\n",
    "        white = np.array([255, 255, 255, 255], dtype='uint8')\n",
    "probs = np.random.random(image.shape[:2])\n",
    "image[probs < (prob / 2)] = black\n",
    "image[probs > 1 - (prob / 2)] = white\n",
    "cv2.imwrite(\"salt_pepper_noise.jpg\", image)"
   ]
  },
  {
   "cell_type": "code",
   "execution_count": 7,
   "metadata": {},
   "outputs": [
    {
     "data": {
      "text/plain": [
       "True"
      ]
     },
     "execution_count": 7,
     "metadata": {},
     "output_type": "execute_result"
    }
   ],
   "source": [
    "#mean blur\n",
    "image = cv2.imread(r'D:\\Users\\dxlee\\DX_degree\\Y3S2\\ODL\\working-dir\\brain-tumor\\Testing\\no_tumor\\image(90).jpg')\n",
    "fsize = 9\n",
    "blur = cv2.blur(image,(fsize,fsize))\n",
    "cv2.imwrite(\"mean_blur.jpg\", blur)"
   ]
  },
  {
   "cell_type": "code",
   "execution_count": 9,
   "metadata": {},
   "outputs": [
    {
     "data": {
      "text/plain": [
       "True"
      ]
     },
     "execution_count": 9,
     "metadata": {},
     "output_type": "execute_result"
    }
   ],
   "source": [
    "#gaussian blur\n",
    "image = cv2.imread(r'D:\\Users\\dxlee\\DX_degree\\Y3S2\\ODL\\working-dir\\brain-tumor\\Testing\\no_tumor\\image(90).jpg')\n",
    "fsize = 9\n",
    "blur = cv2.GaussianBlur(image,(fsize,fsize),0)\n",
    "cv2.imwrite(\"gaussian_blur.jpg\", blur)"
   ]
  },
  {
   "cell_type": "code",
   "execution_count": 10,
   "metadata": {},
   "outputs": [
    {
     "data": {
      "text/plain": [
       "True"
      ]
     },
     "execution_count": 10,
     "metadata": {},
     "output_type": "execute_result"
    }
   ],
   "source": [
    "#median blur\n",
    "image = cv2.imread(r'D:\\Users\\dxlee\\DX_degree\\Y3S2\\ODL\\working-dir\\brain-tumor\\Testing\\no_tumor\\image(90).jpg')\n",
    "fsize = 9\n",
    "blur = cv2.medianBlur(image,fsize)\n",
    "cv2.imwrite(\"median_blur.jpg\", blur)"
   ]
  },
  {
   "cell_type": "code",
   "execution_count": null,
   "metadata": {},
   "outputs": [],
   "source": [
    "# need to generate 400 more instances for the no-tumor class\n",
    "# random filter (blur/gaussian/median blur)\n",
    "# random noise (gaussian/salt_pepper)\n",
    "\n",
    "def colorjitter(img, cj_type=\"b\"):\n",
    "    '''\n",
    "    ### Different Color Jitter ###\n",
    "    img: image\n",
    "    cj_type: {b: brightness, s: saturation, c: constast}\n",
    "    '''\n",
    "    if cj_type == \"b\":\n",
    "        # value = random.randint(-50, 50)\n",
    "        value = np.random.choice(np.array([-50, -40, -30, 30, 40, 50]))\n",
    "        hsv = cv2.cvtColor(img, cv2.COLOR_BGR2HSV)\n",
    "        h, s, v = cv2.split(hsv)\n",
    "        if value >= 0:\n",
    "            lim = 255 - value\n",
    "            v[v > lim] = 255\n",
    "            v[v <= lim] += value\n",
    "        else:\n",
    "            lim = np.absolute(value)\n",
    "            v[v < lim] = 0\n",
    "            v[v >= lim] -= np.absolute(value)\n",
    "\n",
    "        final_hsv = cv2.merge((h, s, v))\n",
    "        img = cv2.cvtColor(final_hsv, cv2.COLOR_HSV2BGR)\n",
    "        return img\n",
    "    \n",
    "    elif cj_type == \"s\":\n",
    "        # value = random.randint(-50, 50)\n",
    "        value = np.random.choice(np.array([-50, -40, -30, 30, 40, 50]))\n",
    "        hsv = cv2.cvtColor(img, cv2.COLOR_BGR2HSV)\n",
    "        h, s, v = cv2.split(hsv)\n",
    "        if value >= 0:\n",
    "            lim = 255 - value\n",
    "            s[s > lim] = 255\n",
    "            s[s <= lim] += value\n",
    "        else:\n",
    "            lim = np.absolute(value)\n",
    "            s[s < lim] = 0\n",
    "            s[s >= lim] -= np.absolute(value)\n",
    "\n",
    "        final_hsv = cv2.merge((h, s, v))\n",
    "        img = cv2.cvtColor(final_hsv, cv2.COLOR_HSV2BGR)\n",
    "        return img\n",
    "    \n",
    "    elif cj_type == \"c\":\n",
    "        brightness = 10\n",
    "        contrast = random.randint(40, 100)\n",
    "        dummy = np.int16(img)\n",
    "        dummy = dummy * (contrast/127+1) - contrast + brightness\n",
    "        dummy = np.clip(dummy, 0, 255)\n",
    "        img = np.uint8(dummy)\n",
    "        return img\n",
    "\n",
    "def noisy(img, noise_type=\"gauss\"):\n",
    "    '''\n",
    "    ### Adding Noise ###\n",
    "    img: image\n",
    "    cj_type: {gauss: gaussian, sp: salt & pepper}\n",
    "    '''\n",
    "    if noise_type == \"gauss\":\n",
    "        image=img.copy() \n",
    "        mean=0\n",
    "        st=0.7\n",
    "        gauss = np.random.normal(mean,st,image.shape)\n",
    "        gauss = gauss.astype('uint8')\n",
    "        image = cv2.add(image,gauss)\n",
    "        return image\n",
    "    \n",
    "    elif noise_type == \"sp\":\n",
    "        image=img.copy() \n",
    "        prob = 0.05\n",
    "        if len(image.shape) == 2:\n",
    "            black = 0\n",
    "            white = 255            \n",
    "        else:\n",
    "            colorspace = image.shape[2]\n",
    "            if colorspace == 3:  # RGB\n",
    "                black = np.array([0, 0, 0], dtype='uint8')\n",
    "                white = np.array([255, 255, 255], dtype='uint8')\n",
    "            else:  # RGBA\n",
    "                black = np.array([0, 0, 0, 255], dtype='uint8')\n",
    "                white = np.array([255, 255, 255, 255], dtype='uint8')\n",
    "        probs = np.random.random(image.shape[:2])\n",
    "        image[probs < (prob / 2)] = black\n",
    "        image[probs > 1 - (prob / 2)] = white\n",
    "        return image\n",
    "\n",
    "def filters(img, f_type = \"blur\"):\n",
    "    '''\n",
    "    ### Filtering ###\n",
    "    img: image\n",
    "    f_type: {blur: blur, gaussian: gaussian, median: median}\n",
    "    '''\n",
    "    if f_type == \"blur\":\n",
    "        image=img.copy()\n",
    "        fsize = 9\n",
    "        return cv2.blur(image,(fsize,fsize))\n",
    "    \n",
    "    elif f_type == \"gaussian\":\n",
    "        image=img.copy()\n",
    "        fsize = 9\n",
    "        return cv2.GaussianBlur(image, (fsize, fsize), 0)\n",
    "    \n",
    "    elif f_type == \"median\":\n",
    "        image=img.copy()\n",
    "        fsize = 9\n",
    "        return cv2.medianBlur(image, fsize)"
   ]
  },
  {
   "cell_type": "code",
   "execution_count": null,
   "metadata": {},
   "outputs": [],
   "source": []
  },
  {
   "cell_type": "markdown",
   "metadata": {},
   "source": [
    "# Image Preprocessing\n",
    "\n",
    "- Convert BGR TO GRAY\n",
    "- GaussianBlur\n",
    "- Threshold\n",
    "- Erode\n",
    "- Dilate\n",
    "- Find Contours\n",
    "\n",
    "Filtering: remove gaussian noise, salt-and-pepper noise, speckle noise; by median/mean/gaussian filter\n",
    "- Gaussian smoothing, median filtering, and wavelet denoising\n",
    "\n",
    "Enhancement: adjust brightness/contrast\n",
    "- histogram equalization, adaptive histogram equalization, and contrast stretching\n",
    "\n",
    "Restoration: deconvolution/denoising\n",
    "\n",
    "Image resizing\n",
    "- smaller/bigger/alter ratio\n",
    "- nearest neighbor interpolation, bilinear interpolation, and bicubic interpolation\n",
    "\n",
    "Colour correction\n",
    "- gray world assumption, white balance, and color transfer\n",
    "\n",
    "Segmentation\n",
    "- thresholding, edge detection, and region growing\n"
   ]
  },
  {
   "cell_type": "code",
   "execution_count": null,
   "metadata": {},
   "outputs": [],
   "source": [
    "# Convert BGR TO GRAY: reduce dimension\n",
    "# GaussianBlur: reduce noise\n",
    "# Threshold: only become white if the color intensity exceed the threshold, otherwise black\n",
    "\n",
    "# Erode: remove border of foreground object, reduce image features (can be iteratively)\n",
    "# Dilate: increase object area, emphasise features\n",
    "\n",
    "# Uses of Erosion and Dilation: \n",
    "\n",
    "# Erosion: \n",
    "# It is useful for removing small white noises.\n",
    "# Used to detach two connected objects etc.\n",
    "# Dilation:\n",
    "# In cases like noise removal, erosion is followed by dilation. Because, erosion removes white noises, but it also shrinks our object. So we dilate it. Since noise is gone, they won’t come back, but our object area increases.\n",
    "# It is also useful in joining broken parts of an object.\n",
    "\n",
    "# Find Contours, to perform cropping\n",
    "\n",
    "# image resize for to 256/512?\n",
    "\n",
    "# normalise to 0-1\n",
    "\n",
    "# contrast: equalizeHist () method enhances the contrast of images."
   ]
  },
  {
   "cell_type": "code",
   "execution_count": 6,
   "metadata": {},
   "outputs": [
    {
     "name": "stdout",
     "output_type": "stream",
     "text": [
      "(619, 495)\n"
     ]
    },
    {
     "data": {
      "text/plain": [
       "True"
      ]
     },
     "execution_count": 6,
     "metadata": {},
     "output_type": "execute_result"
    }
   ],
   "source": [
    "import numpy as np\n",
    "import cv2\n",
    "\n",
    "# im = cv2.imread(r'D:\\Users\\dxlee\\DX_degree\\Y3S2\\ODL\\working-dir\\brain-tumor\\Testing\\glioma_tumor\\image.jpg')\n",
    "im = cv2.imread(r'Testing\\glioma_tumor\\image.jpg')\n",
    "\n",
    "# To Grayscale\n",
    "im = cv2.cvtColor(im, cv2.COLOR_BGR2GRAY)\n",
    "\n",
    "print(np.shape(im))\n",
    "data = np.asarray(im)\n",
    "# for row in data:\n",
    "#     for cell in row:\n",
    "#         if cell !=0:\n",
    "#             print(cell)\n",
    "# print(data[np.any(data!=0, axis=1)])\n",
    "\n",
    "cv2.imwrite(\"grayscale.jpg\", im)"
   ]
  }
 ],
 "metadata": {
  "kernelspec": {
   "display_name": "Python 3",
   "language": "python",
   "name": "python3"
  },
  "language_info": {
   "codemirror_mode": {
    "name": "ipython",
    "version": 3
   },
   "file_extension": ".py",
   "mimetype": "text/x-python",
   "name": "python",
   "nbconvert_exporter": "python",
   "pygments_lexer": "ipython3",
   "version": "3.8.0"
  }
 },
 "nbformat": 4,
 "nbformat_minor": 2
}
