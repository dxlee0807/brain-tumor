{
 "cells": [
  {
   "cell_type": "markdown",
   "metadata": {},
   "source": [
    "References:\n",
    "\n",
    "For Data Augmentation\n",
    "\n",
    "LA Tran, 13 August 2021, Data Augmentation Compilation with Python and OpenCV, Towards Data Science\n",
    "\n",
    "https://towardsdatascience.com/data-augmentation-compilation-with-python-and-opencv-b76b1cd500e0"
   ]
  },
  {
   "cell_type": "code",
   "execution_count": 2,
   "metadata": {},
   "outputs": [],
   "source": [
    "import pandas as pd\n",
    "import os\n",
    "import random\n",
    "from skimage import io\n",
    "import numpy as np\n",
    "import cv2\n",
    "import matplotlib.pyplot as plt\n",
    "import seaborn as sns\n",
    "sns.set_theme(style = \"dark\", \n",
    "        color_codes = True,\n",
    "        font_scale = 1.5)"
   ]
  },
  {
   "cell_type": "code",
   "execution_count": 3,
   "metadata": {},
   "outputs": [
    {
     "data": {
      "text/html": [
       "<div>\n",
       "<style scoped>\n",
       "    .dataframe tbody tr th:only-of-type {\n",
       "        vertical-align: middle;\n",
       "    }\n",
       "\n",
       "    .dataframe tbody tr th {\n",
       "        vertical-align: top;\n",
       "    }\n",
       "\n",
       "    .dataframe thead th {\n",
       "        text-align: right;\n",
       "    }\n",
       "</style>\n",
       "<table border=\"1\" class=\"dataframe\">\n",
       "  <thead>\n",
       "    <tr style=\"text-align: right;\">\n",
       "      <th></th>\n",
       "      <th>Unnamed: 0</th>\n",
       "      <th>Image_Id</th>\n",
       "      <th>Image</th>\n",
       "      <th>Label</th>\n",
       "      <th>Dim</th>\n",
       "      <th>width</th>\n",
       "      <th>height</th>\n",
       "      <th>dim</th>\n",
       "      <th>greyscale_image</th>\n",
       "    </tr>\n",
       "  </thead>\n",
       "  <tbody>\n",
       "    <tr>\n",
       "      <th>0</th>\n",
       "      <td>0</td>\n",
       "      <td>0</td>\n",
       "      <td>[[[0 0 0]\\r\\n  [0 0 0]\\r\\n  [0 0 0]\\r\\n  ...\\r...</td>\n",
       "      <td>0</td>\n",
       "      <td>(512, 512, 3)</td>\n",
       "      <td>512</td>\n",
       "      <td>512</td>\n",
       "      <td>3</td>\n",
       "      <td>[[0. 0. 0. ... 0. 0. 0.]\\r\\n [0. 0. 0. ... 0. ...</td>\n",
       "    </tr>\n",
       "    <tr>\n",
       "      <th>1</th>\n",
       "      <td>1</td>\n",
       "      <td>1</td>\n",
       "      <td>[[[0 0 0]\\r\\n  [0 0 0]\\r\\n  [0 0 0]\\r\\n  ...\\r...</td>\n",
       "      <td>0</td>\n",
       "      <td>(512, 512, 3)</td>\n",
       "      <td>512</td>\n",
       "      <td>512</td>\n",
       "      <td>3</td>\n",
       "      <td>[[0. 0. 0. ... 0. 0. 0.]\\r\\n [0. 0. 0. ... 0. ...</td>\n",
       "    </tr>\n",
       "    <tr>\n",
       "      <th>2</th>\n",
       "      <td>2</td>\n",
       "      <td>2</td>\n",
       "      <td>[[[0 0 0]\\r\\n  [0 0 0]\\r\\n  [0 0 0]\\r\\n  ...\\r...</td>\n",
       "      <td>0</td>\n",
       "      <td>(512, 512, 3)</td>\n",
       "      <td>512</td>\n",
       "      <td>512</td>\n",
       "      <td>3</td>\n",
       "      <td>[[0. 0. 0. ... 0. 0. 0.]\\r\\n [0. 0. 0. ... 0. ...</td>\n",
       "    </tr>\n",
       "    <tr>\n",
       "      <th>3</th>\n",
       "      <td>3</td>\n",
       "      <td>3</td>\n",
       "      <td>[[[0 0 0]\\r\\n  [0 0 0]\\r\\n  [0 0 0]\\r\\n  ...\\r...</td>\n",
       "      <td>0</td>\n",
       "      <td>(512, 512, 3)</td>\n",
       "      <td>512</td>\n",
       "      <td>512</td>\n",
       "      <td>3</td>\n",
       "      <td>[[0. 0. 0. ... 0. 0. 0.]\\r\\n [0. 0. 0. ... 0. ...</td>\n",
       "    </tr>\n",
       "    <tr>\n",
       "      <th>4</th>\n",
       "      <td>4</td>\n",
       "      <td>4</td>\n",
       "      <td>[[[0 0 0]\\r\\n  [0 0 0]\\r\\n  [0 0 0]\\r\\n  ...\\r...</td>\n",
       "      <td>0</td>\n",
       "      <td>(512, 512, 3)</td>\n",
       "      <td>512</td>\n",
       "      <td>512</td>\n",
       "      <td>3</td>\n",
       "      <td>[[0. 0. 0. ... 0. 0. 0.]\\r\\n [0. 0. 0. ... 0. ...</td>\n",
       "    </tr>\n",
       "    <tr>\n",
       "      <th>...</th>\n",
       "      <td>...</td>\n",
       "      <td>...</td>\n",
       "      <td>...</td>\n",
       "      <td>...</td>\n",
       "      <td>...</td>\n",
       "      <td>...</td>\n",
       "      <td>...</td>\n",
       "      <td>...</td>\n",
       "      <td>...</td>\n",
       "    </tr>\n",
       "    <tr>\n",
       "      <th>7018</th>\n",
       "      <td>1306</td>\n",
       "      <td>1306</td>\n",
       "      <td>[[[0 0 0]\\r\\n  [0 0 0]\\r\\n  [0 0 0]\\r\\n  ...\\r...</td>\n",
       "      <td>3</td>\n",
       "      <td>(512, 512, 3)</td>\n",
       "      <td>512</td>\n",
       "      <td>512</td>\n",
       "      <td>3</td>\n",
       "      <td>[[0.         0.         0.         ... 0.     ...</td>\n",
       "    </tr>\n",
       "    <tr>\n",
       "      <th>7019</th>\n",
       "      <td>1307</td>\n",
       "      <td>1307</td>\n",
       "      <td>[[[0 0 0]\\r\\n  [0 0 0]\\r\\n  [0 0 0]\\r\\n  ...\\r...</td>\n",
       "      <td>3</td>\n",
       "      <td>(512, 512, 3)</td>\n",
       "      <td>512</td>\n",
       "      <td>512</td>\n",
       "      <td>3</td>\n",
       "      <td>[[0. 0. 0. ... 0. 0. 0.]\\r\\n [0. 0. 0. ... 0. ...</td>\n",
       "    </tr>\n",
       "    <tr>\n",
       "      <th>7020</th>\n",
       "      <td>1308</td>\n",
       "      <td>1308</td>\n",
       "      <td>[[[1 1 1]\\r\\n  [1 1 1]\\r\\n  [1 1 1]\\r\\n  ...\\r...</td>\n",
       "      <td>3</td>\n",
       "      <td>(512, 512, 3)</td>\n",
       "      <td>512</td>\n",
       "      <td>512</td>\n",
       "      <td>3</td>\n",
       "      <td>[[0.00392157 0.00392157 0.00392157 ... 0.     ...</td>\n",
       "    </tr>\n",
       "    <tr>\n",
       "      <th>7021</th>\n",
       "      <td>1309</td>\n",
       "      <td>1309</td>\n",
       "      <td>[[[0 0 0]\\r\\n  [0 0 0]\\r\\n  [0 0 0]\\r\\n  ...\\r...</td>\n",
       "      <td>3</td>\n",
       "      <td>(512, 512, 3)</td>\n",
       "      <td>512</td>\n",
       "      <td>512</td>\n",
       "      <td>3</td>\n",
       "      <td>[[0. 0. 0. ... 0. 0. 0.]\\r\\n [0. 0. 0. ... 0. ...</td>\n",
       "    </tr>\n",
       "    <tr>\n",
       "      <th>7022</th>\n",
       "      <td>1310</td>\n",
       "      <td>1310</td>\n",
       "      <td>[[[0 0 0]\\r\\n  [0 0 0]\\r\\n  [0 0 0]\\r\\n  ...\\r...</td>\n",
       "      <td>3</td>\n",
       "      <td>(512, 512, 3)</td>\n",
       "      <td>512</td>\n",
       "      <td>512</td>\n",
       "      <td>3</td>\n",
       "      <td>[[0.         0.         0.         ... 0.     ...</td>\n",
       "    </tr>\n",
       "  </tbody>\n",
       "</table>\n",
       "<p>7023 rows × 9 columns</p>\n",
       "</div>"
      ],
      "text/plain": [
       "      Unnamed: 0  Image_Id                                              Image  \\\n",
       "0              0         0  [[[0 0 0]\\r\\n  [0 0 0]\\r\\n  [0 0 0]\\r\\n  ...\\r...   \n",
       "1              1         1  [[[0 0 0]\\r\\n  [0 0 0]\\r\\n  [0 0 0]\\r\\n  ...\\r...   \n",
       "2              2         2  [[[0 0 0]\\r\\n  [0 0 0]\\r\\n  [0 0 0]\\r\\n  ...\\r...   \n",
       "3              3         3  [[[0 0 0]\\r\\n  [0 0 0]\\r\\n  [0 0 0]\\r\\n  ...\\r...   \n",
       "4              4         4  [[[0 0 0]\\r\\n  [0 0 0]\\r\\n  [0 0 0]\\r\\n  ...\\r...   \n",
       "...          ...       ...                                                ...   \n",
       "7018        1306      1306  [[[0 0 0]\\r\\n  [0 0 0]\\r\\n  [0 0 0]\\r\\n  ...\\r...   \n",
       "7019        1307      1307  [[[0 0 0]\\r\\n  [0 0 0]\\r\\n  [0 0 0]\\r\\n  ...\\r...   \n",
       "7020        1308      1308  [[[1 1 1]\\r\\n  [1 1 1]\\r\\n  [1 1 1]\\r\\n  ...\\r...   \n",
       "7021        1309      1309  [[[0 0 0]\\r\\n  [0 0 0]\\r\\n  [0 0 0]\\r\\n  ...\\r...   \n",
       "7022        1310      1310  [[[0 0 0]\\r\\n  [0 0 0]\\r\\n  [0 0 0]\\r\\n  ...\\r...   \n",
       "\n",
       "      Label            Dim  width  height  dim  \\\n",
       "0         0  (512, 512, 3)    512     512    3   \n",
       "1         0  (512, 512, 3)    512     512    3   \n",
       "2         0  (512, 512, 3)    512     512    3   \n",
       "3         0  (512, 512, 3)    512     512    3   \n",
       "4         0  (512, 512, 3)    512     512    3   \n",
       "...     ...            ...    ...     ...  ...   \n",
       "7018      3  (512, 512, 3)    512     512    3   \n",
       "7019      3  (512, 512, 3)    512     512    3   \n",
       "7020      3  (512, 512, 3)    512     512    3   \n",
       "7021      3  (512, 512, 3)    512     512    3   \n",
       "7022      3  (512, 512, 3)    512     512    3   \n",
       "\n",
       "                                        greyscale_image  \n",
       "0     [[0. 0. 0. ... 0. 0. 0.]\\r\\n [0. 0. 0. ... 0. ...  \n",
       "1     [[0. 0. 0. ... 0. 0. 0.]\\r\\n [0. 0. 0. ... 0. ...  \n",
       "2     [[0. 0. 0. ... 0. 0. 0.]\\r\\n [0. 0. 0. ... 0. ...  \n",
       "3     [[0. 0. 0. ... 0. 0. 0.]\\r\\n [0. 0. 0. ... 0. ...  \n",
       "4     [[0. 0. 0. ... 0. 0. 0.]\\r\\n [0. 0. 0. ... 0. ...  \n",
       "...                                                 ...  \n",
       "7018  [[0.         0.         0.         ... 0.     ...  \n",
       "7019  [[0. 0. 0. ... 0. 0. 0.]\\r\\n [0. 0. 0. ... 0. ...  \n",
       "7020  [[0.00392157 0.00392157 0.00392157 ... 0.     ...  \n",
       "7021  [[0. 0. 0. ... 0. 0. 0.]\\r\\n [0. 0. 0. ... 0. ...  \n",
       "7022  [[0.         0.         0.         ... 0.     ...  \n",
       "\n",
       "[7023 rows x 9 columns]"
      ]
     },
     "execution_count": 3,
     "metadata": {},
     "output_type": "execute_result"
    }
   ],
   "source": [
    "training_data = pd.read_csv(\"Training_Data.csv\")\n",
    "testing_data = pd.read_csv(\"Testing_Data.csv\")\n",
    "full_image_df = pd.concat([training_data,testing_data],ignore_index=True)\n",
    "full_image_df"
   ]
  },
  {
   "cell_type": "code",
   "execution_count": 4,
   "metadata": {},
   "outputs": [
    {
     "name": "stdout",
     "output_type": "stream",
     "text": [
      "<class 'pandas.core.frame.DataFrame'>\n",
      "RangeIndex: 7023 entries, 0 to 7022\n",
      "Data columns (total 9 columns):\n",
      " #   Column           Non-Null Count  Dtype \n",
      "---  ------           --------------  ----- \n",
      " 0   Unnamed: 0       7023 non-null   int64 \n",
      " 1   Image_Id         7023 non-null   int64 \n",
      " 2   Image            7023 non-null   object\n",
      " 3   Label            7023 non-null   int64 \n",
      " 4   Dim              7023 non-null   object\n",
      " 5   width            7023 non-null   int64 \n",
      " 6   height           7023 non-null   int64 \n",
      " 7   dim              7023 non-null   int64 \n",
      " 8   greyscale_image  7023 non-null   object\n",
      "dtypes: int64(6), object(3)\n",
      "memory usage: 493.9+ KB\n"
     ]
    }
   ],
   "source": [
    "full_image_df.info()"
   ]
  },
  {
   "cell_type": "code",
   "execution_count": 5,
   "metadata": {},
   "outputs": [
    {
     "data": {
      "text/html": [
       "<div>\n",
       "<style scoped>\n",
       "    .dataframe tbody tr th:only-of-type {\n",
       "        vertical-align: middle;\n",
       "    }\n",
       "\n",
       "    .dataframe tbody tr th {\n",
       "        vertical-align: top;\n",
       "    }\n",
       "\n",
       "    .dataframe thead th {\n",
       "        text-align: right;\n",
       "    }\n",
       "</style>\n",
       "<table border=\"1\" class=\"dataframe\">\n",
       "  <thead>\n",
       "    <tr style=\"text-align: right;\">\n",
       "      <th></th>\n",
       "      <th>Unnamed: 0</th>\n",
       "      <th>Image_Id</th>\n",
       "      <th>Label</th>\n",
       "      <th>width</th>\n",
       "      <th>height</th>\n",
       "      <th>dim</th>\n",
       "    </tr>\n",
       "  </thead>\n",
       "  <tbody>\n",
       "    <tr>\n",
       "      <th>count</th>\n",
       "      <td>7023.000000</td>\n",
       "      <td>7023.000000</td>\n",
       "      <td>7023.000000</td>\n",
       "      <td>7023.000000</td>\n",
       "      <td>7023.000000</td>\n",
       "      <td>7023.000000</td>\n",
       "    </tr>\n",
       "    <tr>\n",
       "      <th>mean</th>\n",
       "      <td>2444.727467</td>\n",
       "      <td>2444.727467</td>\n",
       "      <td>1.554322</td>\n",
       "      <td>448.346860</td>\n",
       "      <td>445.891499</td>\n",
       "      <td>3.000427</td>\n",
       "    </tr>\n",
       "    <tr>\n",
       "      <th>std</th>\n",
       "      <td>1724.441061</td>\n",
       "      <td>1724.441061</td>\n",
       "      <td>1.099638</td>\n",
       "      <td>126.282922</td>\n",
       "      <td>132.328035</td>\n",
       "      <td>0.020665</td>\n",
       "    </tr>\n",
       "    <tr>\n",
       "      <th>min</th>\n",
       "      <td>0.000000</td>\n",
       "      <td>0.000000</td>\n",
       "      <td>0.000000</td>\n",
       "      <td>168.000000</td>\n",
       "      <td>150.000000</td>\n",
       "      <td>3.000000</td>\n",
       "    </tr>\n",
       "    <tr>\n",
       "      <th>25%</th>\n",
       "      <td>877.500000</td>\n",
       "      <td>877.500000</td>\n",
       "      <td>1.000000</td>\n",
       "      <td>403.500000</td>\n",
       "      <td>393.000000</td>\n",
       "      <td>3.000000</td>\n",
       "    </tr>\n",
       "    <tr>\n",
       "      <th>50%</th>\n",
       "      <td>2200.000000</td>\n",
       "      <td>2200.000000</td>\n",
       "      <td>2.000000</td>\n",
       "      <td>512.000000</td>\n",
       "      <td>512.000000</td>\n",
       "      <td>3.000000</td>\n",
       "    </tr>\n",
       "    <tr>\n",
       "      <th>75%</th>\n",
       "      <td>3955.500000</td>\n",
       "      <td>3955.500000</td>\n",
       "      <td>3.000000</td>\n",
       "      <td>512.000000</td>\n",
       "      <td>512.000000</td>\n",
       "      <td>3.000000</td>\n",
       "    </tr>\n",
       "    <tr>\n",
       "      <th>max</th>\n",
       "      <td>5711.000000</td>\n",
       "      <td>5711.000000</td>\n",
       "      <td>3.000000</td>\n",
       "      <td>1446.000000</td>\n",
       "      <td>1920.000000</td>\n",
       "      <td>4.000000</td>\n",
       "    </tr>\n",
       "  </tbody>\n",
       "</table>\n",
       "</div>"
      ],
      "text/plain": [
       "        Unnamed: 0     Image_Id        Label        width       height  \\\n",
       "count  7023.000000  7023.000000  7023.000000  7023.000000  7023.000000   \n",
       "mean   2444.727467  2444.727467     1.554322   448.346860   445.891499   \n",
       "std    1724.441061  1724.441061     1.099638   126.282922   132.328035   \n",
       "min       0.000000     0.000000     0.000000   168.000000   150.000000   \n",
       "25%     877.500000   877.500000     1.000000   403.500000   393.000000   \n",
       "50%    2200.000000  2200.000000     2.000000   512.000000   512.000000   \n",
       "75%    3955.500000  3955.500000     3.000000   512.000000   512.000000   \n",
       "max    5711.000000  5711.000000     3.000000  1446.000000  1920.000000   \n",
       "\n",
       "               dim  \n",
       "count  7023.000000  \n",
       "mean      3.000427  \n",
       "std       0.020665  \n",
       "min       3.000000  \n",
       "25%       3.000000  \n",
       "50%       3.000000  \n",
       "75%       3.000000  \n",
       "max       4.000000  "
      ]
     },
     "execution_count": 5,
     "metadata": {},
     "output_type": "execute_result"
    }
   ],
   "source": [
    "full_image_df.describe()"
   ]
  },
  {
   "cell_type": "code",
   "execution_count": 7,
   "metadata": {},
   "outputs": [
    {
     "name": "stderr",
     "output_type": "stream",
     "text": [
      "C:\\Users\\dxlee\\AppData\\Local\\Temp\\ipykernel_17996\\1697025355.py:8: VisibleDeprecationWarning: Creating an ndarray from ragged nested sequences (which is a list-or-tuple of lists-or-tuples-or ndarrays with different lengths or shapes) is deprecated. If you meant to do this, you must specify 'dtype=object' when creating the ndarray.\n",
      "  res = np.array(ast.literal_eval(ls))\n"
     ]
    },
    {
     "data": {
      "text/plain": [
       "array([list([[0, 0, 0], [0, 0, 0], [0, 0, 0], Ellipsis, [0, 0, 0], [0, 0, 0], [0, 0, 0]]),\n",
       "       list([[0, 0, 0], [0, 0, 0], [0, 0, 0], Ellipsis, [0, 0, 0], [0, 0, 0], [0, 0, 0]]),\n",
       "       list([[0, 0, 0], [0, 0, 0], [0, 0, 0], Ellipsis, [0, 0, 0], [0, 0, 0], [0, 0, 0]]),\n",
       "       Ellipsis,\n",
       "       list([[0, 0, 0], [0, 0, 0], [0, 0, 0], Ellipsis, [0, 0, 0], [0, 0, 0], [0, 0, 0]]),\n",
       "       list([[0, 0, 0], [0, 0, 0], [0, 0, 0], Ellipsis, [0, 0, 0], [0, 0, 0], [0, 0, 0]]),\n",
       "       list([[0, 0, 0], [0, 0, 0], [0, 0, 0], Ellipsis, [0, 0, 0], [0, 0, 0], [0, 0, 0]])],\n",
       "      dtype=object)"
      ]
     },
     "execution_count": 7,
     "metadata": {},
     "output_type": "execute_result"
    }
   ],
   "source": [
    "from ast import literal_eval\n",
    "import re\n",
    "\n",
    "string = full_image_df['Image'][0]\n",
    "\n",
    "import re, ast\n",
    "ls = re.sub('\\s+', ',', string)\n",
    "res = np.array(ast.literal_eval(ls))\n",
    "\n",
    "res"
   ]
  },
  {
   "cell_type": "markdown",
   "metadata": {},
   "source": [
    "# Data Augmentation\n",
    "\n",
    "- increase the sample to approximately 3000 instances per class\n",
    "- color jitter/noise/filter"
   ]
  },
  {
   "cell_type": "code",
   "execution_count": 3,
   "metadata": {},
   "outputs": [
    {
     "data": {
      "text/plain": [
       "1    937\n",
       "0    926\n",
       "3    901\n",
       "2    500\n",
       "Name: Label, dtype: int64"
      ]
     },
     "execution_count": 3,
     "metadata": {},
     "output_type": "execute_result"
    }
   ],
   "source": [
    "full_image_df['Label'].value_counts()"
   ]
  },
  {
   "cell_type": "code",
   "execution_count": 5,
   "metadata": {},
   "outputs": [
    {
     "data": {
      "text/plain": [
       "True"
      ]
     },
     "execution_count": 5,
     "metadata": {},
     "output_type": "execute_result"
    }
   ],
   "source": [
    "# gaussian noise\n",
    "image = cv2.imread(r'D:\\Users\\dxlee\\DX_degree\\Y3S2\\ODL\\working-dir\\brain-tumor\\Testing\\no_tumor\\image(90).jpg')\n",
    "mean=0\n",
    "st=0.7\n",
    "gauss = np.random.normal(mean,st,image.shape)\n",
    "gauss = gauss.astype('uint8')\n",
    "image = cv2.add(image,gauss)\n",
    "cv2.imwrite(\"gaussian_noise.jpg\", image)"
   ]
  },
  {
   "cell_type": "code",
   "execution_count": 6,
   "metadata": {},
   "outputs": [
    {
     "data": {
      "text/plain": [
       "True"
      ]
     },
     "execution_count": 6,
     "metadata": {},
     "output_type": "execute_result"
    }
   ],
   "source": [
    "# salt/pepper noise\n",
    "image = cv2.imread(r'D:\\Users\\dxlee\\DX_degree\\Y3S2\\ODL\\working-dir\\brain-tumor\\Testing\\no_tumor\\image(90).jpg')\n",
    "prob = 0.05\n",
    "if len(image.shape) == 2:\n",
    "    black = 0\n",
    "    white = 255            \n",
    "else:\n",
    "    colorspace = image.shape[2]\n",
    "    if colorspace == 3:  # RGB\n",
    "        black = np.array([0, 0, 0], dtype='uint8')\n",
    "        white = np.array([255, 255, 255], dtype='uint8')\n",
    "    else:  # RGBA\n",
    "        black = np.array([0, 0, 0, 255], dtype='uint8')\n",
    "        white = np.array([255, 255, 255, 255], dtype='uint8')\n",
    "probs = np.random.random(image.shape[:2])\n",
    "image[probs < (prob / 2)] = black\n",
    "image[probs > 1 - (prob / 2)] = white\n",
    "cv2.imwrite(\"salt_pepper_noise.jpg\", image)"
   ]
  },
  {
   "cell_type": "code",
   "execution_count": 7,
   "metadata": {},
   "outputs": [
    {
     "data": {
      "text/plain": [
       "True"
      ]
     },
     "execution_count": 7,
     "metadata": {},
     "output_type": "execute_result"
    }
   ],
   "source": [
    "#mean blur\n",
    "image = cv2.imread(r'D:\\Users\\dxlee\\DX_degree\\Y3S2\\ODL\\working-dir\\brain-tumor\\Testing\\no_tumor\\image(90).jpg')\n",
    "fsize = 9\n",
    "blur = cv2.blur(image,(fsize,fsize))\n",
    "cv2.imwrite(\"mean_blur.jpg\", blur)"
   ]
  },
  {
   "cell_type": "code",
   "execution_count": 9,
   "metadata": {},
   "outputs": [
    {
     "data": {
      "text/plain": [
       "True"
      ]
     },
     "execution_count": 9,
     "metadata": {},
     "output_type": "execute_result"
    }
   ],
   "source": [
    "#gaussian blur\n",
    "image = cv2.imread(r'D:\\Users\\dxlee\\DX_degree\\Y3S2\\ODL\\working-dir\\brain-tumor\\Testing\\no_tumor\\image(90).jpg')\n",
    "fsize = 9\n",
    "blur = cv2.GaussianBlur(image,(fsize,fsize),0)\n",
    "cv2.imwrite(\"gaussian_blur.jpg\", blur)"
   ]
  },
  {
   "cell_type": "code",
   "execution_count": 10,
   "metadata": {},
   "outputs": [
    {
     "data": {
      "text/plain": [
       "True"
      ]
     },
     "execution_count": 10,
     "metadata": {},
     "output_type": "execute_result"
    }
   ],
   "source": [
    "#median blur\n",
    "image = cv2.imread(r'D:\\Users\\dxlee\\DX_degree\\Y3S2\\ODL\\working-dir\\brain-tumor\\Testing\\no_tumor\\image(90).jpg')\n",
    "fsize = 9\n",
    "blur = cv2.medianBlur(image,fsize)\n",
    "cv2.imwrite(\"median_blur.jpg\", blur)"
   ]
  },
  {
   "cell_type": "code",
   "execution_count": null,
   "metadata": {},
   "outputs": [],
   "source": [
    "# need to generate 400 more instances for the no-tumor class\n",
    "# random filter (blur/gaussian/median blur)\n",
    "# random noise (gaussian/salt_pepper)\n",
    "# random colorjitter (brightness and saturation and contrast)\n",
    "\n",
    "def colorjitter(img, cj_type=\"b\"):\n",
    "    '''\n",
    "    ### Different Color Jitter ###\n",
    "    img: image\n",
    "    cj_type: {b: brightness, s: saturation, c: constast}\n",
    "    '''\n",
    "    if cj_type == \"b\":\n",
    "        # value = random.randint(-50, 50)\n",
    "        value = np.random.choice(np.array([-50, -40, -30, 30, 40, 50]))\n",
    "        hsv = cv2.cvtColor(img, cv2.COLOR_BGR2HSV)\n",
    "        h, s, v = cv2.split(hsv)\n",
    "        if value >= 0:\n",
    "            lim = 255 - value\n",
    "            v[v > lim] = 255\n",
    "            v[v <= lim] += value\n",
    "        else:\n",
    "            lim = np.absolute(value)\n",
    "            v[v < lim] = 0\n",
    "            v[v >= lim] -= np.absolute(value)\n",
    "\n",
    "        final_hsv = cv2.merge((h, s, v))\n",
    "        img = cv2.cvtColor(final_hsv, cv2.COLOR_HSV2BGR)\n",
    "        return img\n",
    "    \n",
    "    elif cj_type == \"s\":\n",
    "        # value = random.randint(-50, 50)\n",
    "        value = np.random.choice(np.array([-50, -40, -30, 30, 40, 50]))\n",
    "        hsv = cv2.cvtColor(img, cv2.COLOR_BGR2HSV)\n",
    "        h, s, v = cv2.split(hsv)\n",
    "        if value >= 0:\n",
    "            lim = 255 - value\n",
    "            s[s > lim] = 255\n",
    "            s[s <= lim] += value\n",
    "        else:\n",
    "            lim = np.absolute(value)\n",
    "            s[s < lim] = 0\n",
    "            s[s >= lim] -= np.absolute(value)\n",
    "\n",
    "        final_hsv = cv2.merge((h, s, v))\n",
    "        img = cv2.cvtColor(final_hsv, cv2.COLOR_HSV2BGR)\n",
    "        return img\n",
    "    \n",
    "    elif cj_type == \"c\":\n",
    "        brightness = 10\n",
    "        contrast = random.randint(40, 100)\n",
    "        dummy = np.int16(img)\n",
    "        dummy = dummy * (contrast/127+1) - contrast + brightness\n",
    "        dummy = np.clip(dummy, 0, 255)\n",
    "        img = np.uint8(dummy)\n",
    "        return img\n",
    "\n",
    "def noisy(img, noise_type=\"gauss\"):\n",
    "    '''\n",
    "    ### Adding Noise ###\n",
    "    img: image\n",
    "    cj_type: {gauss: gaussian, sp: salt & pepper}\n",
    "    '''\n",
    "    if noise_type == \"gauss\":\n",
    "        image=img.copy() \n",
    "        mean=0\n",
    "        st=0.7\n",
    "        gauss = np.random.normal(mean,st,image.shape)\n",
    "        gauss = gauss.astype('uint8')\n",
    "        image = cv2.add(image,gauss)\n",
    "        return image\n",
    "    \n",
    "    elif noise_type == \"sp\":\n",
    "        image=img.copy() \n",
    "        prob = 0.05\n",
    "        if len(image.shape) == 2:\n",
    "            black = 0\n",
    "            white = 255            \n",
    "        else:\n",
    "            colorspace = image.shape[2]\n",
    "            if colorspace == 3:  # RGB\n",
    "                black = np.array([0, 0, 0], dtype='uint8')\n",
    "                white = np.array([255, 255, 255], dtype='uint8')\n",
    "            else:  # RGBA\n",
    "                black = np.array([0, 0, 0, 255], dtype='uint8')\n",
    "                white = np.array([255, 255, 255, 255], dtype='uint8')\n",
    "        probs = np.random.random(image.shape[:2])\n",
    "        image[probs < (prob / 2)] = black\n",
    "        image[probs > 1 - (prob / 2)] = white\n",
    "        return image\n",
    "\n",
    "def filters(img, f_type = \"blur\"):\n",
    "    '''\n",
    "    ### Filtering ###\n",
    "    img: image\n",
    "    f_type: {blur: blur, gaussian: gaussian, median: median}\n",
    "    '''\n",
    "    if f_type == \"blur\":\n",
    "        image=img.copy()\n",
    "        fsize = 9\n",
    "        return cv2.blur(image,(fsize,fsize))\n",
    "    \n",
    "    elif f_type == \"gaussian\":\n",
    "        image=img.copy()\n",
    "        fsize = 9\n",
    "        return cv2.GaussianBlur(image, (fsize, fsize), 0)\n",
    "    \n",
    "    elif f_type == \"median\":\n",
    "        image=img.copy()\n",
    "        fsize = 9\n",
    "        return cv2.medianBlur(image, fsize)"
   ]
  },
  {
   "cell_type": "code",
   "execution_count": null,
   "metadata": {},
   "outputs": [],
   "source": []
  },
  {
   "cell_type": "markdown",
   "metadata": {},
   "source": [
    "# Image Preprocessing\n",
    "\n",
    "- Convert BGR TO GRAY\n",
    "- GaussianBlur\n",
    "- Threshold\n",
    "- Erode\n",
    "- Dilate\n",
    "- Find Contours\n",
    "\n",
    "Filtering: remove gaussian noise, salt-and-pepper noise, speckle noise; by median/mean/gaussian filter\n",
    "- Gaussian smoothing, median filtering, and wavelet denoising\n",
    "\n",
    "Enhancement: adjust brightness/contrast\n",
    "- histogram equalization, adaptive histogram equalization, and contrast stretching\n",
    "\n",
    "Restoration: deconvolution/denoising\n",
    "\n",
    "Image resizing\n",
    "- smaller/bigger/alter ratio\n",
    "- nearest neighbor interpolation, bilinear interpolation, and bicubic interpolation\n",
    "\n",
    "Colour correction\n",
    "- gray world assumption, white balance, and color transfer\n",
    "\n",
    "Segmentation\n",
    "- thresholding, edge detection, and region growing\n"
   ]
  },
  {
   "cell_type": "code",
   "execution_count": null,
   "metadata": {},
   "outputs": [],
   "source": [
    "# Convert BGR TO GRAY: reduce dimension\n",
    "# GaussianBlur: reduce noise\n",
    "# contrast: equalizeHist () method enhances the contrast of images.\n",
    "# Threshold: only become white if the color intensity exceed the threshold, otherwise black\n",
    "\n",
    "# Erode: remove border of foreground object, reduce image features (can be iteratively)\n",
    "# Dilate: increase object area, emphasise features\n",
    "\n",
    "# Uses of Erosion and Dilation: \n",
    "\n",
    "# Erosion: \n",
    "# It is useful for removing small white noises.\n",
    "# Used to detach two connected objects etc.\n",
    "# Dilation:\n",
    "# In cases like noise removal, erosion is followed by dilation. Because, erosion removes white noises, but it also shrinks our object. So we dilate it. Since noise is gone, they won’t come back, but our object area increases.\n",
    "# It is also useful in joining broken parts of an object.\n",
    "\n",
    "# Find Contours, to perform cropping\n",
    "\n",
    "# image resize for to 256/512?\n",
    "\n",
    "# normalise to 0-1\n",
    "\n"
   ]
  },
  {
   "cell_type": "code",
   "execution_count": 6,
   "metadata": {},
   "outputs": [
    {
     "name": "stdout",
     "output_type": "stream",
     "text": [
      "(619, 495)\n"
     ]
    },
    {
     "data": {
      "text/plain": [
       "True"
      ]
     },
     "execution_count": 6,
     "metadata": {},
     "output_type": "execute_result"
    }
   ],
   "source": [
    "import numpy as np\n",
    "import cv2\n",
    "\n",
    "# im = cv2.imread(r'D:\\Users\\dxlee\\DX_degree\\Y3S2\\ODL\\working-dir\\brain-tumor\\Testing\\glioma_tumor\\image.jpg')\n",
    "im = cv2.imread(r'Testing\\glioma_tumor\\image.jpg')\n",
    "\n",
    "# To Grayscale\n",
    "im = cv2.cvtColor(im, cv2.COLOR_BGR2GRAY)\n",
    "\n",
    "print(np.shape(im))\n",
    "data = np.asarray(im)\n",
    "# for row in data:\n",
    "#     for cell in row:\n",
    "#         if cell !=0:\n",
    "#             print(cell)\n",
    "# print(data[np.any(data!=0, axis=1)])\n",
    "\n",
    "cv2.imwrite(\"grayscale.jpg\", im)"
   ]
  }
 ],
 "metadata": {
  "kernelspec": {
   "display_name": "Python 3",
   "language": "python",
   "name": "python3"
  },
  "language_info": {
   "codemirror_mode": {
    "name": "ipython",
    "version": 3
   },
   "file_extension": ".py",
   "mimetype": "text/x-python",
   "name": "python",
   "nbconvert_exporter": "python",
   "pygments_lexer": "ipython3",
   "version": "3.8.0"
  }
 },
 "nbformat": 4,
 "nbformat_minor": 2
}
